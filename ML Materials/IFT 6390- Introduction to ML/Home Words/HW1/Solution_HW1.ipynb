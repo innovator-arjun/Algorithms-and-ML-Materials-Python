{
 "cells": [
  {
   "cell_type": "code",
   "execution_count": 465,
   "metadata": {},
   "outputs": [],
   "source": [
    "import numpy as np"
   ]
  },
  {
   "cell_type": "code",
   "execution_count": 752,
   "metadata": {},
   "outputs": [],
   "source": [
    "#Loading Dataset\n",
    "banknote=np.genfromtxt('data_banknote_authentication.txt',delimiter=',')\n"
   ]
  },
  {
   "cell_type": "code",
   "execution_count": 467,
   "metadata": {},
   "outputs": [
    {
     "data": {
      "text/plain": [
       "array([[  3.6216 ,   8.6661 ,  -2.8073 ,  -0.44699,   0.     ],\n",
       "       [  4.5459 ,   8.1674 ,  -2.4586 ,  -1.4621 ,   0.     ],\n",
       "       [  3.866  ,  -2.6383 ,   1.9242 ,   0.10645,   0.     ],\n",
       "       ...,\n",
       "       [ -3.7503 , -13.4586 ,  17.5932 ,  -2.7771 ,   1.     ],\n",
       "       [ -3.5637 ,  -8.3827 ,  12.393  ,  -1.2823 ,   1.     ],\n",
       "       [ -2.5419 ,  -0.65804,   2.6842 ,   1.1952 ,   1.     ]])"
      ]
     },
     "execution_count": 467,
     "metadata": {},
     "output_type": "execute_result"
    }
   ],
   "source": [
    "banknotes"
   ]
  },
  {
   "cell_type": "code",
   "execution_count": 468,
   "metadata": {},
   "outputs": [],
   "source": [
    "def draw_rand_label(x, label_list):\n",
    "    seed = abs(np.sum(x))\n",
    "    while seed < 1:\n",
    "        seed = 10 * seed\n",
    "    seed = int(1000000 * seed)\n",
    "    np.random.seed(seed)\n",
    "    return np.random.choice(label_list)"
   ]
  },
  {
   "cell_type": "markdown",
   "metadata": {},
   "source": [
    "\n",
    "# Part 1"
   ]
  },
  {
   "cell_type": "code",
   "execution_count": 469,
   "metadata": {},
   "outputs": [],
   "source": [
    "\n",
    "class Q1:\n",
    "\n",
    "    def feature_means(self, banknote):\n",
    "        features=banknote[:,:4]\n",
    "        return np.mean(features,axis=0)\n",
    "\n",
    "    def covariance_matrix(self, banknote):\n",
    "        features=banknote[:,:4]\n",
    "        return np.cov(features.T)\n",
    "\n",
    "    def feature_means_class_1(self, banknote):\n",
    "        data_class_1 = banknote[banknote[:,4] == 1, :4]\n",
    "        return np.mean(data_class_1,axis=0)\n",
    "\n",
    "    def covariance_matrix_class_1(self, banknote):\n",
    "        data_class_1 = banknote[banknote[:,4] == 1, :4]\n",
    "        return np.cov(data_class_1.T)\n"
   ]
  },
  {
   "cell_type": "code",
   "execution_count": 470,
   "metadata": {},
   "outputs": [
    {
     "data": {
      "text/plain": [
       "array([[  3.53884798,   0.74923443,  -4.69053721,   1.26243851],\n",
       "       [  0.74923443,  29.21276835, -25.24469813,  -5.69675942],\n",
       "       [ -4.69053721, -25.24469813,  27.68665431,   3.00778701],\n",
       "       [  1.26243851,  -5.69675942,   3.00778701,   4.28897428]])"
      ]
     },
     "execution_count": 470,
     "metadata": {},
     "output_type": "execute_result"
    }
   ],
   "source": [
    "q1 = Q1()\n",
    "q1.covariance_matrix_class_1(banknote)"
   ]
  },
  {
   "cell_type": "code",
   "execution_count": 471,
   "metadata": {},
   "outputs": [],
   "source": [
    "# Q1. feature_means\n",
    "def feature_means(self, banknote):\n",
    "    features=self.banknote[:,:4]\n",
    "    return np.mean(features,axis=0)"
   ]
  },
  {
   "cell_type": "code",
   "execution_count": 472,
   "metadata": {},
   "outputs": [],
   "source": [
    "# Q2.covariance matrix 4*4 features\n",
    "def covariance_matrix(self, banknote):\n",
    "    features=self.banknote[:,:4]\n",
    "\n",
    "    return np.cov(features.T)\n"
   ]
  },
  {
   "cell_type": "code",
   "execution_count": 473,
   "metadata": {},
   "outputs": [],
   "source": [
    "#Q3 Feature means class 1\n",
    "def feature_means_class_1(self, banknote):\n",
    "    data_class_1 = banknote[banknote[:,4] == 1, :4]\n",
    "    return np.mean(data_class_1,axis=0)"
   ]
  },
  {
   "cell_type": "code",
   "execution_count": 474,
   "metadata": {},
   "outputs": [],
   "source": [
    "#Q4: Covariance matrix class 1\n",
    "def covariance_matrix_class_1(self, banknote):\n",
    "    return np.cov(data_class_1.T)"
   ]
  },
  {
   "cell_type": "code",
   "execution_count": 475,
   "metadata": {},
   "outputs": [
    {
     "ename": "TypeError",
     "evalue": "covariance_matrix() missing 1 required positional argument: 'banknote'",
     "output_type": "error",
     "traceback": [
      "\u001b[1;31m---------------------------------------------------------------------------\u001b[0m",
      "\u001b[1;31mTypeError\u001b[0m                                 Traceback (most recent call last)",
      "\u001b[1;32m<ipython-input-475-2fc5d771ceb3>\u001b[0m in \u001b[0;36m<module>\u001b[1;34m\u001b[0m\n\u001b[1;32m----> 1\u001b[1;33m \u001b[0mres\u001b[0m\u001b[1;33m=\u001b[0m\u001b[0mcovariance_matrix\u001b[0m\u001b[1;33m(\u001b[0m\u001b[0mbanknotes\u001b[0m\u001b[1;33m)\u001b[0m\u001b[1;33m\u001b[0m\u001b[1;33m\u001b[0m\u001b[0m\n\u001b[0m\u001b[0;32m      2\u001b[0m \u001b[0mprint\u001b[0m\u001b[1;33m(\u001b[0m\u001b[0mres\u001b[0m\u001b[1;33m)\u001b[0m\u001b[1;33m\u001b[0m\u001b[1;33m\u001b[0m\u001b[0m\n",
      "\u001b[1;31mTypeError\u001b[0m: covariance_matrix() missing 1 required positional argument: 'banknote'"
     ]
    }
   ],
   "source": [
    "res=covariance_matrix(banknotes)\n",
    "print(res)"
   ]
  },
  {
   "cell_type": "markdown",
   "metadata": {},
   "source": [
    "# Part 2"
   ]
  },
  {
   "cell_type": "code",
   "execution_count": 746,
   "metadata": {},
   "outputs": [],
   "source": [
    "#Part 2- Q1\n",
    "#implement Random\n",
    "class HardParzen:\n",
    "    def __init__(self, h):\n",
    "        self.h = h\n",
    "    def train(self, train_inputs, train_labels):\n",
    "        self.label_list = np.unique(train_labels)\n",
    "        self.label_length=len(np.unique(train_labels))\n",
    "        self.train_inputs=train_inputs\n",
    "        self.train_labels=train_labels\n",
    "        print('training done')\n",
    "    def compute_predictions(self, test_data):\n",
    "        neighbours=[]\n",
    "        \n",
    "        length=test_data.shape[0]\n",
    "        classes_pred=np.zeros(length)\n",
    "        \n",
    "        counts=np.ones((length,self.label_length))\n",
    "\n",
    "        radius=self.h\n",
    "        for i in range(0,len(test_data)):\n",
    "            \n",
    "            distance=(np.sum((np.abs(test_data[i] - self.train_inputs)) ** 2, axis=1)) ** (1.0 / 2)\n",
    "            neighbours = np.array([j for j in range(len(distance)) if distance[j] < radius])\n",
    "            print(neighbours)\n",
    "            for k in neighbours:\n",
    "                counts[i,int(self.train_labels[k]-1)]+=1\n",
    "                print('Random')\n",
    "            if max(counts[i,:])==1:\n",
    "                classes_pred[i]=draw_rand_label(test_data[i],self.label_list)\n",
    "            else:\n",
    "                classes_pred[i] = np.argmax(counts[i, :])+1\n",
    "        return classes_pred\n",
    "         \n",
    "         "
   ]
  },
  {
   "cell_type": "code",
   "execution_count": 756,
   "metadata": {},
   "outputs": [
    {
     "name": "stdout",
     "output_type": "stream",
     "text": [
      "training done\n",
      "[9]\n",
      "Random\n",
      "[]\n",
      "[]\n",
      "[]\n",
      "[1. 0. 0. 0.]\n"
     ]
    }
   ],
   "source": [
    "\n",
    "f=HardParzen(0.5)\n",
    "f.train(banknote[:10,:4],banknote[:10,4])\n",
    "temp=f.compute_predictions(banknote[9:13,:4])\n",
    "print(temp)"
   ]
  },
  {
   "cell_type": "code",
   "execution_count": 757,
   "metadata": {},
   "outputs": [
    {
     "data": {
      "text/plain": [
       "array([[ 3.6216 ,  8.6661 , -2.8073 , -0.44699],\n",
       "       [ 4.5459 ,  8.1674 , -2.4586 , -1.4621 ],\n",
       "       [ 3.866  , -2.6383 ,  1.9242 ,  0.10645],\n",
       "       [ 3.4566 ,  9.5228 , -4.0112 , -3.5944 ],\n",
       "       [ 0.32924, -4.4552 ,  4.5718 , -0.9888 ],\n",
       "       [ 4.3684 ,  9.6718 , -3.9606 , -3.1625 ],\n",
       "       [ 3.5912 ,  3.0129 ,  0.72888,  0.56421],\n",
       "       [ 2.0922 , -6.81   ,  8.4636 , -0.60216],\n",
       "       [ 3.2032 ,  5.7588 , -0.75345, -0.61251],\n",
       "       [ 1.5356 ,  9.1772 , -2.2718 , -0.73535]])"
      ]
     },
     "execution_count": 757,
     "metadata": {},
     "output_type": "execute_result"
    }
   ],
   "source": [
    "banknote[:10,:4]"
   ]
  },
  {
   "cell_type": "code",
   "execution_count": 755,
   "metadata": {},
   "outputs": [
    {
     "data": {
      "text/plain": [
       "array([[ 1.2247 ,  8.7779 , -2.2135 , -0.80647],\n",
       "       [ 3.9899 , -2.7066 ,  2.3946 ,  0.86291],\n",
       "       [ 1.8993 ,  7.6625 ,  0.15394, -3.1108 ]])"
      ]
     },
     "execution_count": 755,
     "metadata": {},
     "output_type": "execute_result"
    }
   ],
   "source": [
    "banknote[10:13,:4]"
   ]
  },
  {
   "cell_type": "code",
   "execution_count": 562,
   "metadata": {},
   "outputs": [
    {
     "data": {
      "text/plain": [
       "array([[ -4.5046 ,  -5.8126 ,  10.8867 ,  -0.52846],\n",
       "       [ -2.41   ,   3.7433 ,  -0.40215,  -1.2953 ],\n",
       "       [  0.40614,   1.3492 ,  -1.4501 ,  -0.55949],\n",
       "       [ -1.3887 ,  -4.8773 ,   6.4774 ,   0.34179],\n",
       "       [ -3.7503 , -13.4586 ,  17.5932 ,  -2.7771 ],\n",
       "       [ -3.5637 ,  -8.3827 ,  12.393  ,  -1.2823 ]])"
      ]
     },
     "execution_count": 562,
     "metadata": {},
     "output_type": "execute_result"
    }
   ],
   "source": [
    "banknote[1365:1371,:4]"
   ]
  },
  {
   "cell_type": "code",
   "execution_count": 583,
   "metadata": {},
   "outputs": [],
   "source": [
    "class ErrorRate:\n",
    "    def __init__(self, x_train, y_train, x_val, y_val):\n",
    "        self.x_train = x_train\n",
    "        self.y_train = y_train\n",
    "        self.x_val = x_val\n",
    "        self.y_val = y_val\n",
    "\n",
    "    def hard_parzen(self, h):\n",
    "        knn_hard=HardParzen(h)\n",
    "        print(knn_hard)\n",
    "        knn_hard.train(self.x_train,self.y_train)\n",
    "        knn_hard_pred=knn_hard.compute_predictions(self.x_val)\n",
    "\n",
    "        n_classes = len(np.unique(knn_hard_pred))\n",
    "        total_correct=0\n",
    "        for i in range(0,len(knn_hard_pred)):\n",
    "            if knn_hard_pred[i]==self.y_val[i]:\n",
    "                total_correct+=1       \n",
    "        total_pred=len(knn_hard_pred)        \n",
    "        \n",
    "        return (float(total_correct) / float(total_pred))\n",
    "    \n",
    "    def soft_parzen(self, sigma):\n",
    "        pass\n",
    "    \n",
    "#         matrix = np.zeros((n_classes, n_classes))\n",
    "#         for (true, pred) in zip(self.y_val, knn_hard_pred):\n",
    "#             matrix[int(true - 1), int(pred - 1)] += 1"
   ]
  },
  {
   "cell_type": "code",
   "execution_count": 584,
   "metadata": {},
   "outputs": [
    {
     "name": "stdout",
     "output_type": "stream",
     "text": [
      "<__main__.HardParzen object at 0x00000211FC370610>\n",
      "training done\n"
     ]
    },
    {
     "data": {
      "text/plain": [
       "1.0"
      ]
     },
     "execution_count": 584,
     "metadata": {},
     "output_type": "execute_result"
    }
   ],
   "source": [
    "er=ErrorRate(train,train_label,test,test_label)\n",
    "er.hard_parzen(10)"
   ]
  },
  {
   "cell_type": "code",
   "execution_count": 541,
   "metadata": {},
   "outputs": [
    {
     "name": "stdout",
     "output_type": "stream",
     "text": [
      "[[ 4.3684   9.6718  -3.9606  -3.1625   0.     ]\n",
      " [ 3.5912   3.0129   0.72888  0.56421  0.     ]\n",
      " [ 2.0922  -6.81     8.4636  -0.60216  0.     ]\n",
      " [ 3.2032   5.7588  -0.75345 -0.61251  0.     ]\n",
      " [ 1.5356   9.1772  -2.2718  -0.73535  0.     ]]\n"
     ]
    }
   ],
   "source": [
    "test=banknote[5:10]\n",
    "print(test)\n",
    "test_label=test[:,4]"
   ]
  },
  {
   "cell_type": "code",
   "execution_count": 542,
   "metadata": {},
   "outputs": [],
   "source": [
    "train=banknote[0:5]\n",
    "train_label=train[:,4]"
   ]
  },
  {
   "cell_type": "markdown",
   "metadata": {},
   "source": [
    "\n",
    "# Part 4"
   ]
  },
  {
   "cell_type": "code",
   "execution_count": 848,
   "metadata": {},
   "outputs": [],
   "source": [
    "import math\n",
    "class SoftRBFParzen:\n",
    "    def __init__(self,sigma):\n",
    "        self.sigma  = sigma\n",
    "    def train(self, train_inputs, train_labels):\n",
    "        self.label_list = np.unique(train_labels)\n",
    "        self.label_length=len(np.unique(train_labels))\n",
    "        self.train_inputs=train_inputs\n",
    "        self.train_labels=train_labels\n",
    "        \n",
    "\n",
    "\n",
    "    def compute_predictions(self, test_data):\n",
    "        neighbours=[]\n",
    "        \n",
    "        length=test_data.shape[0]\n",
    "        classes_pred=np.zeros(length)\n",
    "        counts=np.ones((length,self.label_length))\n",
    "        for i in range(len(test_data)):\n",
    "            distances = (np.sum((np.abs(test_data[i] - self.train_inputs)) ** 2, axis=1)) ** (1.0 / 2)\n",
    "            dic = dict.fromkeys(self.label_list, 0)\n",
    "            for j in range(len(distances)):\n",
    "                sig=(1/(np.sqrt(2*np.pi)*self.sigma))*np.exp(-(distances[j]**2/(2*self.sigma**2)))*100\n",
    "                \n",
    "                dic[self.train_labels[j]]+=float(sig)\n",
    "                print(dic,sig,self.train_labels[j])\n",
    "            \n",
    "            classes_pred[i]= max(dic, key=dic.get)\n",
    "            print(classes_pred[i])\n",
    "            print('break')\n",
    "        return classes_pred\n",
    "\n",
    "            \n",
    "            \n",
    "            "
   ]
  },
  {
   "cell_type": "code",
   "execution_count": 863,
   "metadata": {},
   "outputs": [],
   "source": [
    "from sklearn.datasets import load_iris\n",
    "from sklearn.neighbors.kde import KernelDensity\n",
    "import numpy as np\n",
    "\n",
    "X, y = load_iris(return_X_y=True)"
   ]
  },
  {
   "cell_type": "code",
   "execution_count": 881,
   "metadata": {},
   "outputs": [
    {
     "ename": "ValueError",
     "evalue": "Found array with dim 3. Estimator expected <= 2.",
     "output_type": "error",
     "traceback": [
      "\u001b[1;31m---------------------------------------------------------------------------\u001b[0m",
      "\u001b[1;31mValueError\u001b[0m                                Traceback (most recent call last)",
      "\u001b[1;32m<ipython-input-881-16a201f2df7d>\u001b[0m in \u001b[0;36m<module>\u001b[1;34m\u001b[0m\n\u001b[0;32m      5\u001b[0m \u001b[1;33m\u001b[0m\u001b[0m\n\u001b[0;32m      6\u001b[0m \u001b[1;32mfor\u001b[0m \u001b[0mestimator\u001b[0m \u001b[1;32min\u001b[0m \u001b[0mestimators\u001b[0m\u001b[1;33m:\u001b[0m\u001b[1;33m\u001b[0m\u001b[1;33m\u001b[0m\u001b[0m\n\u001b[1;32m----> 7\u001b[1;33m     \u001b[0mprint\u001b[0m\u001b[1;33m(\u001b[0m\u001b[0mestimator\u001b[0m\u001b[1;33m.\u001b[0m\u001b[0mscore_samples\u001b[0m\u001b[1;33m(\u001b[0m\u001b[1;33m[\u001b[0m\u001b[0mx_train\u001b[0m\u001b[1;33m]\u001b[0m\u001b[1;33m)\u001b[0m\u001b[1;33m)\u001b[0m\u001b[1;33m\u001b[0m\u001b[1;33m\u001b[0m\u001b[0m\n\u001b[0m",
      "\u001b[1;32m~\\anaconda3\\lib\\site-packages\\sklearn\\neighbors\\_kde.py\u001b[0m in \u001b[0;36mscore_samples\u001b[1;34m(self, X)\u001b[0m\n\u001b[0;32m    193\u001b[0m         \u001b[1;31m# For it to be a probability, we must scale it.  For this reason\u001b[0m\u001b[1;33m\u001b[0m\u001b[1;33m\u001b[0m\u001b[1;33m\u001b[0m\u001b[0m\n\u001b[0;32m    194\u001b[0m         \u001b[1;31m# we'll also scale atol.\u001b[0m\u001b[1;33m\u001b[0m\u001b[1;33m\u001b[0m\u001b[1;33m\u001b[0m\u001b[0m\n\u001b[1;32m--> 195\u001b[1;33m         \u001b[0mX\u001b[0m \u001b[1;33m=\u001b[0m \u001b[0mcheck_array\u001b[0m\u001b[1;33m(\u001b[0m\u001b[0mX\u001b[0m\u001b[1;33m,\u001b[0m \u001b[0morder\u001b[0m\u001b[1;33m=\u001b[0m\u001b[1;34m'C'\u001b[0m\u001b[1;33m,\u001b[0m \u001b[0mdtype\u001b[0m\u001b[1;33m=\u001b[0m\u001b[0mDTYPE\u001b[0m\u001b[1;33m)\u001b[0m\u001b[1;33m\u001b[0m\u001b[1;33m\u001b[0m\u001b[0m\n\u001b[0m\u001b[0;32m    196\u001b[0m         \u001b[1;32mif\u001b[0m \u001b[0mself\u001b[0m\u001b[1;33m.\u001b[0m\u001b[0mtree_\u001b[0m\u001b[1;33m.\u001b[0m\u001b[0msample_weight\u001b[0m \u001b[1;32mis\u001b[0m \u001b[1;32mNone\u001b[0m\u001b[1;33m:\u001b[0m\u001b[1;33m\u001b[0m\u001b[1;33m\u001b[0m\u001b[0m\n\u001b[0;32m    197\u001b[0m             \u001b[0mN\u001b[0m \u001b[1;33m=\u001b[0m \u001b[0mself\u001b[0m\u001b[1;33m.\u001b[0m\u001b[0mtree_\u001b[0m\u001b[1;33m.\u001b[0m\u001b[0mdata\u001b[0m\u001b[1;33m.\u001b[0m\u001b[0mshape\u001b[0m\u001b[1;33m[\u001b[0m\u001b[1;36m0\u001b[0m\u001b[1;33m]\u001b[0m\u001b[1;33m\u001b[0m\u001b[1;33m\u001b[0m\u001b[0m\n",
      "\u001b[1;32m~\\anaconda3\\lib\\site-packages\\sklearn\\utils\\validation.py\u001b[0m in \u001b[0;36minner_f\u001b[1;34m(*args, **kwargs)\u001b[0m\n\u001b[0;32m     71\u001b[0m                           FutureWarning)\n\u001b[0;32m     72\u001b[0m         \u001b[0mkwargs\u001b[0m\u001b[1;33m.\u001b[0m\u001b[0mupdate\u001b[0m\u001b[1;33m(\u001b[0m\u001b[1;33m{\u001b[0m\u001b[0mk\u001b[0m\u001b[1;33m:\u001b[0m \u001b[0marg\u001b[0m \u001b[1;32mfor\u001b[0m \u001b[0mk\u001b[0m\u001b[1;33m,\u001b[0m \u001b[0marg\u001b[0m \u001b[1;32min\u001b[0m \u001b[0mzip\u001b[0m\u001b[1;33m(\u001b[0m\u001b[0msig\u001b[0m\u001b[1;33m.\u001b[0m\u001b[0mparameters\u001b[0m\u001b[1;33m,\u001b[0m \u001b[0margs\u001b[0m\u001b[1;33m)\u001b[0m\u001b[1;33m}\u001b[0m\u001b[1;33m)\u001b[0m\u001b[1;33m\u001b[0m\u001b[1;33m\u001b[0m\u001b[0m\n\u001b[1;32m---> 73\u001b[1;33m         \u001b[1;32mreturn\u001b[0m \u001b[0mf\u001b[0m\u001b[1;33m(\u001b[0m\u001b[1;33m**\u001b[0m\u001b[0mkwargs\u001b[0m\u001b[1;33m)\u001b[0m\u001b[1;33m\u001b[0m\u001b[1;33m\u001b[0m\u001b[0m\n\u001b[0m\u001b[0;32m     74\u001b[0m     \u001b[1;32mreturn\u001b[0m \u001b[0minner_f\u001b[0m\u001b[1;33m\u001b[0m\u001b[1;33m\u001b[0m\u001b[0m\n\u001b[0;32m     75\u001b[0m \u001b[1;33m\u001b[0m\u001b[0m\n",
      "\u001b[1;32m~\\anaconda3\\lib\\site-packages\\sklearn\\utils\\validation.py\u001b[0m in \u001b[0;36mcheck_array\u001b[1;34m(array, accept_sparse, accept_large_sparse, dtype, order, copy, force_all_finite, ensure_2d, allow_nd, ensure_min_samples, ensure_min_features, estimator)\u001b[0m\n\u001b[0;32m    639\u001b[0m             \u001b[0marray\u001b[0m \u001b[1;33m=\u001b[0m \u001b[0marray\u001b[0m\u001b[1;33m.\u001b[0m\u001b[0mastype\u001b[0m\u001b[1;33m(\u001b[0m\u001b[0mnp\u001b[0m\u001b[1;33m.\u001b[0m\u001b[0mfloat64\u001b[0m\u001b[1;33m)\u001b[0m\u001b[1;33m\u001b[0m\u001b[1;33m\u001b[0m\u001b[0m\n\u001b[0;32m    640\u001b[0m         \u001b[1;32mif\u001b[0m \u001b[1;32mnot\u001b[0m \u001b[0mallow_nd\u001b[0m \u001b[1;32mand\u001b[0m \u001b[0marray\u001b[0m\u001b[1;33m.\u001b[0m\u001b[0mndim\u001b[0m \u001b[1;33m>=\u001b[0m \u001b[1;36m3\u001b[0m\u001b[1;33m:\u001b[0m\u001b[1;33m\u001b[0m\u001b[1;33m\u001b[0m\u001b[0m\n\u001b[1;32m--> 641\u001b[1;33m             raise ValueError(\"Found array with dim %d. %s expected <= 2.\"\n\u001b[0m\u001b[0;32m    642\u001b[0m                              % (array.ndim, estimator_name))\n\u001b[0;32m    643\u001b[0m \u001b[1;33m\u001b[0m\u001b[0m\n",
      "\u001b[1;31mValueError\u001b[0m: Found array with dim 3. Estimator expected <= 2."
     ]
    }
   ],
   "source": [
    "estimators = []\n",
    "for c in [0, 1]:\n",
    "    m = KernelDensity().fit(x_train[x_test == c])\n",
    "    estimators.append(m)\n",
    "    \n",
    "for estimator in estimators:\n",
    "    print(estimator.score_samples([x_train]))"
   ]
  },
  {
   "cell_type": "code",
   "execution_count": 875,
   "metadata": {},
   "outputs": [
    {
     "name": "stdout",
     "output_type": "stream",
     "text": [
      "{0.0: 1.7836467778376577e-25, 1.0: 0} 1.7836467778376577e-25 0.0\n",
      "{0.0: 1.7836467778376577e-25, 1.0: 0} 3.261413259539294e-56 0.0\n",
      "{0.0: 1.7836467778376577e-25, 1.0: 0} 0.0 0.0\n",
      "{0.0: 1.7836467778376577e-25, 1.0: 0.0} 0.0 1.0\n",
      "{0.0: 1.7836467778376577e-25, 1.0: 0.0} 0.0 1.0\n",
      "{0.0: 1.7836467778376577e-25, 1.0: 0.0} 0.0 1.0\n",
      "0.0\n",
      "break\n",
      "{0.0: 0.0, 1.0: 0} 0.0 0.0\n",
      "{0.0: 0.0, 1.0: 0} 0.0 0.0\n",
      "{0.0: 0.0, 1.0: 0} 0.0 0.0\n",
      "{0.0: 0.0, 1.0: 0.0} 0.0 1.0\n",
      "{0.0: 0.0, 1.0: 9.592395121727099e-42} 9.592395121727099e-42 1.0\n",
      "{0.0: 0.0, 1.0: 9.592395121727099e-42} 0.0 1.0\n",
      "1.0\n",
      "break\n",
      "{0.0: 0.0, 1.0: 0} 0.0 0.0\n",
      "{0.0: 0.0, 1.0: 0} 0.0 0.0\n",
      "{0.0: 0.0, 1.0: 0} 0.0 0.0\n",
      "{0.0: 0.0, 1.0: 199.47114020071635} 199.47114020071635 1.0\n",
      "{0.0: 0.0, 1.0: 199.47114020071635} 2.0387748412929085e-297 1.0\n",
      "{0.0: 0.0, 1.0: 199.47114020071635} 0.0 1.0\n",
      "1.0\n",
      "break\n"
     ]
    },
    {
     "data": {
      "text/plain": [
       "array([0., 1., 1.])"
      ]
     },
     "execution_count": 875,
     "metadata": {},
     "output_type": "execute_result"
    }
   ],
   "source": [
    "banknote=np.array([[  3.6216 ,   8.6661 ,  -2.8073 ,  -0.44699,   0.     ],\n",
    "       [  4.5459 ,   8.1674 ,  -2.4586 ,  -1.4621 ,   0.     ],\n",
    "       [  3.866  ,  -2.6383 ,   1.9242 ,   0.10645,   0.     ],\n",
    "       [ -3.7503 , -13.4586 ,  17.5932 ,  -2.7771 ,   1.     ],\n",
    "       [ -3.5637 ,  -8.3827 ,  12.393  ,  -1.2823 ,   1.     ],\n",
    "       [ -2.5419 ,  -0.65804,   2.6842 ,   1.1952 ,   1.     ]])\n",
    "validation=np.array(   [    [  1.5356  ,   9.1772  ,  -2.2718  ,  -0.73535 ,   0.      ],\n",
    "#        [  3.404   ,   8.7261  ,  -2.9915  ,  -0.57242 ,   0.      ],\n",
    "#        [  0.066129,   2.4914  ,  -2.9401  ,  -0.62156 ,   1.      ],\n",
    "       [ -2.8391  ,  -6.63    ,  10.4849  ,  -0.42113 ,   1.      ],\n",
    "       [ -3.7503  , -13.4586  ,  17.5932  ,  -2.7771  ,   1.      ]])\n",
    "s=SoftRBFParzen(0.2)\n",
    "x_train=banknote[: ,:4]\n",
    "x_test=banknote[:,4]\n",
    "s.train(x_train,x_test)\n",
    "s.compute_predictions(validation[:,:4])"
   ]
  },
  {
   "cell_type": "code",
   "execution_count": 667,
   "metadata": {},
   "outputs": [
    {
     "data": {
      "text/plain": [
       "array([0., 0., 0., 1., 1., 1.])"
      ]
     },
     "execution_count": 667,
     "metadata": {},
     "output_type": "execute_result"
    }
   ],
   "source": [
    "x_test"
   ]
  },
  {
   "cell_type": "code",
   "execution_count": 665,
   "metadata": {},
   "outputs": [
    {
     "name": "stdout",
     "output_type": "stream",
     "text": [
      "[]\n"
     ]
    }
   ],
   "source": [
    "import numpy as np\n",
    "import matplotlib.pyplot as plt\n",
    "N=30\n",
    "sigma=1\n",
    "T=np.linspace(1,N,N)\n",
    "n=30\n",
    "X=np.random.normal(0, sigma, 1000)\n",
    "x=1\n",
    "alpha=0.45\n",
    "\n",
    "def k_gaussien(x,sigma): #kernel gaussien\n",
    "    if(sigma<=0):\n",
    "        return((1/(sigma*sqrt(2*pi)))*exp(-(x**2/(2*sigma**2))))\n",
    "\n",
    "# def h(n,alpha): #bandwith\n",
    "#     h=np.ones((1,1))\n",
    "#     for i in range(2,N):\n",
    "#         h[i]= h[i-1] + (i**(-alpha))\n",
    "\n",
    "def f_PR(x,X,sigma): #Parzen-Rosenblatt estimator (f_PR)\n",
    "    global F;\n",
    "    F = np.zeros((N,0));\n",
    "    for k in range(2,N):\n",
    "        for i in  range(1,k):\n",
    "            F[k] = F[k-1] + k_gaussien((x-X[i]),1);\n",
    "        F[k] = F[k-1] \n",
    "    print(F);\n",
    "\n",
    "# almost surely convergency\n",
    "fPR=f_PR(x,X,sigma)\n"
   ]
  },
  {
   "cell_type": "code",
   "execution_count": 533,
   "metadata": {},
   "outputs": [
    {
     "data": {
      "text/plain": [
       "array([0., 0., 0., 0., 0.])"
      ]
     },
     "execution_count": 533,
     "metadata": {},
     "output_type": "execute_result"
    }
   ],
   "source": [
    "train_label"
   ]
  },
  {
   "cell_type": "code",
   "execution_count": 534,
   "metadata": {},
   "outputs": [],
   "source": [
    "x=np.array([[1,2],[3,4]])"
   ]
  },
  {
   "cell_type": "code",
   "execution_count": 535,
   "metadata": {},
   "outputs": [
    {
     "name": "stdout",
     "output_type": "stream",
     "text": [
      "[[2.41970725e-01 5.39909665e-02]\n",
      " [4.43184841e-03 1.33830226e-04]]\n"
     ]
    }
   ],
   "source": [
    "sigma=1\n",
    "sig=(1/(np.sqrt(2*np.pi)*sigma))*np.exp(-(x**2/(2*sigma**2)))\n",
    "print(sig)"
   ]
  },
  {
   "cell_type": "code",
   "execution_count": 536,
   "metadata": {},
   "outputs": [
    {
     "ename": "SyntaxError",
     "evalue": "invalid syntax (<ipython-input-536-daf24b7c0410>, line 2)",
     "output_type": "error",
     "traceback": [
      "\u001b[1;36m  File \u001b[1;32m\"<ipython-input-536-daf24b7c0410>\"\u001b[1;36m, line \u001b[1;32m2\u001b[0m\n\u001b[1;33m    x=\u001b[0m\n\u001b[1;37m      ^\u001b[0m\n\u001b[1;31mSyntaxError\u001b[0m\u001b[1;31m:\u001b[0m invalid syntax\n"
     ]
    }
   ],
   "source": [
    "sigma=1\n",
    "x=\n",
    "print((1/(sigma*np.sqrt(2*np.pi)))*np.exp(-(x**2/(2*sigma**2))))"
   ]
  },
  {
   "cell_type": "code",
   "execution_count": 656,
   "metadata": {},
   "outputs": [
    {
     "data": {
      "text/plain": [
       "array([[  3.6216 ,   8.6661 ,  -2.8073 ,  -0.44699,   0.     ],\n",
       "       [  4.5459 ,   8.1674 ,  -2.4586 ,  -1.4621 ,   0.     ],\n",
       "       [  3.866  ,  -2.6383 ,   1.9242 ,   0.10645,   0.     ],\n",
       "       ...,\n",
       "       [ -3.7503 , -13.4586 ,  17.5932 ,  -2.7771 ,   1.     ],\n",
       "       [ -3.5637 ,  -8.3827 ,  12.393  ,  -1.2823 ,   1.     ],\n",
       "       [ -2.5419 ,  -0.65804,   2.6842 ,   1.1952 ,   1.     ]])"
      ]
     },
     "execution_count": 656,
     "metadata": {},
     "output_type": "execute_result"
    }
   ],
   "source": [
    "banknote"
   ]
  },
  {
   "cell_type": "code",
   "execution_count": 537,
   "metadata": {},
   "outputs": [
    {
     "ename": "NameError",
     "evalue": "name 'test_data' is not defined",
     "output_type": "error",
     "traceback": [
      "\u001b[1;31m---------------------------------------------------------------------------\u001b[0m",
      "\u001b[1;31mNameError\u001b[0m                                 Traceback (most recent call last)",
      "\u001b[1;32m<ipython-input-537-0cd4da610879>\u001b[0m in \u001b[0;36m<module>\u001b[1;34m\u001b[0m\n\u001b[1;32m----> 1\u001b[1;33m \u001b[1;32mfor\u001b[0m \u001b[0mi\u001b[0m \u001b[1;32min\u001b[0m \u001b[0mrange\u001b[0m\u001b[1;33m(\u001b[0m\u001b[0mlen\u001b[0m\u001b[1;33m(\u001b[0m\u001b[0mtest_data\u001b[0m\u001b[1;33m)\u001b[0m\u001b[1;33m)\u001b[0m\u001b[1;33m:\u001b[0m\u001b[1;33m\u001b[0m\u001b[1;33m\u001b[0m\u001b[0m\n\u001b[0m\u001b[0;32m      2\u001b[0m     \u001b[0mdistance\u001b[0m\u001b[1;33m=\u001b[0m\u001b[1;33m(\u001b[0m\u001b[0mnp\u001b[0m\u001b[1;33m.\u001b[0m\u001b[0msum\u001b[0m\u001b[1;33m(\u001b[0m\u001b[1;33m(\u001b[0m\u001b[0mnp\u001b[0m\u001b[1;33m.\u001b[0m\u001b[0mabs\u001b[0m\u001b[1;33m(\u001b[0m\u001b[0mtest_data\u001b[0m\u001b[1;33m[\u001b[0m\u001b[0mi\u001b[0m\u001b[1;33m]\u001b[0m \u001b[1;33m-\u001b[0m \u001b[0mself\u001b[0m\u001b[1;33m.\u001b[0m\u001b[0mtrain_inputs\u001b[0m\u001b[1;33m)\u001b[0m\u001b[1;33m)\u001b[0m \u001b[1;33m**\u001b[0m \u001b[1;36m2\u001b[0m\u001b[1;33m,\u001b[0m \u001b[0maxis\u001b[0m\u001b[1;33m=\u001b[0m\u001b[1;36m1\u001b[0m\u001b[1;33m)\u001b[0m\u001b[1;33m)\u001b[0m \u001b[1;33m**\u001b[0m \u001b[1;33m(\u001b[0m\u001b[1;36m1.0\u001b[0m \u001b[1;33m/\u001b[0m \u001b[1;36m2\u001b[0m\u001b[1;33m)\u001b[0m\u001b[1;33m\u001b[0m\u001b[1;33m\u001b[0m\u001b[0m\n\u001b[0;32m      3\u001b[0m \u001b[1;33m\u001b[0m\u001b[0m\n",
      "\u001b[1;31mNameError\u001b[0m: name 'test_data' is not defined"
     ]
    }
   ],
   "source": [
    "for i in range(len(test_data)):\n",
    "    distance=(np.sum((np.abs(test_data[i] - self.train_inputs)) ** 2, axis=1)) ** (1.0 / 2)\n",
    "    "
   ]
  },
  {
   "cell_type": "markdown",
   "metadata": {},
   "source": [
    "# Part - 4 Split Dataset\n"
   ]
  },
  {
   "cell_type": "code",
   "execution_count": 538,
   "metadata": {},
   "outputs": [],
   "source": [
    "def split_dataset(banknote):\n",
    "    length=list(range(0,len(banknote)))\n",
    "    train_index=[]\n",
    "    validation_index=[]\n",
    "    test_index=[]\n",
    "    \n",
    "    for i in range(0,len(length)):\n",
    "        if i%5==0 or i%5==1 or i%5==2:\n",
    "            train_index.append(i)\n",
    "        elif i%5==3:\n",
    "            validation_index.append(i)\n",
    "        elif i%5==4:\n",
    "            test_index.append(i)\n",
    "    train=banknote[train_index]\n",
    "    validation=banknote[validation_index]\n",
    "    test=banknote[test_index]\n",
    "#     print(len(train),len(validation),len(test))\n",
    "    return (train,validation,test)\n",
    "    \n"
   ]
  },
  {
   "cell_type": "code",
   "execution_count": 341,
   "metadata": {},
   "outputs": [
    {
     "name": "stdout",
     "output_type": "stream",
     "text": [
      "824 274 274\n",
      "(array([[ 3.6216 ,  8.6661 , -2.8073 , -0.44699,  0.     ],\n",
      "       [ 4.5459 ,  8.1674 , -2.4586 , -1.4621 ,  0.     ],\n",
      "       [ 3.866  , -2.6383 ,  1.9242 ,  0.10645,  0.     ],\n",
      "       ...,\n",
      "       [ 0.40614,  1.3492 , -1.4501 , -0.55949,  1.     ],\n",
      "       [-3.5637 , -8.3827 , 12.393  , -1.2823 ,  1.     ],\n",
      "       [-2.5419 , -0.65804,  2.6842 ,  1.1952 ,  1.     ]]), array([[ 3.4566e+00,  9.5228e+00, -4.0112e+00, -3.5944e+00,  0.0000e+00],\n",
      "       [ 3.2032e+00,  5.7588e+00, -7.5345e-01, -6.1251e-01,  0.0000e+00],\n",
      "       [-1.5768e+00,  1.0843e+01,  2.5462e+00, -2.9362e+00,  0.0000e+00],\n",
      "       ...,\n",
      "       [-1.0116e+00, -1.9038e-01, -9.0597e-01,  3.0030e-03,  1.0000e+00],\n",
      "       [-1.1667e+00, -1.4237e+00,  2.9241e+00,  6.6119e-01,  1.0000e+00],\n",
      "       [-1.3887e+00, -4.8773e+00,  6.4774e+00,  3.4179e-01,  1.0000e+00]]), array([[  0.32924 ,  -4.4552  ,   4.5718  ,  -0.9888  ,   0.      ],\n",
      "       [  1.5356  ,   9.1772  ,  -2.2718  ,  -0.73535 ,   0.      ],\n",
      "       [  3.404   ,   8.7261  ,  -2.9915  ,  -0.57242 ,   0.      ],\n",
      "       ...,\n",
      "       [  0.066129,   2.4914  ,  -2.9401  ,  -0.62156 ,   1.      ],\n",
      "       [ -2.8391  ,  -6.63    ,  10.4849  ,  -0.42113 ,   1.      ],\n",
      "       [ -3.7503  , -13.4586  ,  17.5932  ,  -2.7771  ,   1.      ]]))\n"
     ]
    }
   ],
   "source": [
    "temp=split_dataset(banknote)\n",
    "print(temp)"
   ]
  },
  {
   "cell_type": "code",
   "execution_count": 333,
   "metadata": {},
   "outputs": [
    {
     "name": "stdout",
     "output_type": "stream",
     "text": [
      "[[ 3.4566   9.5228  -4.0112  -3.5944   0.     ]\n",
      " [ 3.2032   5.7588  -0.75345 -0.61251  0.     ]\n",
      " [-1.5768  10.843    2.5462  -2.9362   0.     ]]\n"
     ]
    }
   ],
   "source": [
    "li=[3,8,13]\n",
    "temp=banknote[li]\n",
    "print(temp)"
   ]
  },
  {
   "cell_type": "code",
   "execution_count": 317,
   "metadata": {},
   "outputs": [
    {
     "data": {
      "text/plain": [
       "array([[ 3.6216 ,  8.6661 , -2.8073 , -0.44699,  0.     ],\n",
       "       [ 4.5459 ,  8.1674 , -2.4586 , -1.4621 ,  0.     ],\n",
       "       [ 3.866  , -2.6383 ,  1.9242 ,  0.10645,  0.     ],\n",
       "       [ 3.4566 ,  9.5228 , -4.0112 , -3.5944 ,  0.     ],\n",
       "       [ 0.32924, -4.4552 ,  4.5718 , -0.9888 ,  0.     ],\n",
       "       [ 4.3684 ,  9.6718 , -3.9606 , -3.1625 ,  0.     ],\n",
       "       [ 3.5912 ,  3.0129 ,  0.72888,  0.56421,  0.     ],\n",
       "       [ 2.0922 , -6.81   ,  8.4636 , -0.60216,  0.     ],\n",
       "       [ 3.2032 ,  5.7588 , -0.75345, -0.61251,  0.     ],\n",
       "       [ 1.5356 ,  9.1772 , -2.2718 , -0.73535,  0.     ]])"
      ]
     },
     "execution_count": 317,
     "metadata": {},
     "output_type": "execute_result"
    }
   ],
   "source": [
    "banknote[0:10]"
   ]
  },
  {
   "cell_type": "code",
   "execution_count": 829,
   "metadata": {},
   "outputs": [],
   "source": [
    "vec1=np.array([1,1,1])\n",
    "mat=np.array([[5,3,3],\n",
    "            [8,4,4],[50,5,5],[100,100,100]])"
   ]
  },
  {
   "cell_type": "code",
   "execution_count": 830,
   "metadata": {},
   "outputs": [
    {
     "data": {
      "text/plain": [
       "array([[ 4,  2,  2],\n",
       "       [ 7,  3,  3],\n",
       "       [49,  4,  4],\n",
       "       [99, 99, 99]])"
      ]
     },
     "execution_count": 830,
     "metadata": {},
     "output_type": "execute_result"
    }
   ],
   "source": [
    "abs(vec1-mat)"
   ]
  },
  {
   "cell_type": "code",
   "execution_count": 831,
   "metadata": {},
   "outputs": [
    {
     "name": "stdout",
     "output_type": "stream",
     "text": [
      "[  4.89897949   8.18535277  49.32544982 171.47302995]\n"
     ]
    }
   ],
   "source": [
    "def minkowski_mat(x, Y, p=2):\n",
    "    return (np.sum((np.abs(x - Y)) ** p, axis=1)) ** (1.0 / p)\n",
    "distances = minkowski_mat(vec1,mat)\n",
    "print(distances)"
   ]
  },
  {
   "cell_type": "code",
   "execution_count": 832,
   "metadata": {},
   "outputs": [
    {
     "name": "stdout",
     "output_type": "stream",
     "text": [
      "1.1371164182297778e-21 2.4511860875074138e-06\n",
      "5.08720790059514e-59 1.1273140559828679e-15\n",
      "0.0 0.0\n",
      "0.0 0.0\n"
     ]
    }
   ],
   "source": [
    "from statistics import NormalDist\n",
    "\n",
    "import scipy.stats\n",
    "for i in distances:\n",
    "    print(NormalDist(mu=0, sigma=0.5).pdf(i), scipy.stats.norm(0, 1).pdf(i))"
   ]
  },
  {
   "cell_type": "code",
   "execution_count": null,
   "metadata": {},
   "outputs": [],
   "source": []
  }
 ],
 "metadata": {
  "kernelspec": {
   "display_name": "Python 3",
   "language": "python",
   "name": "python3"
  },
  "language_info": {
   "codemirror_mode": {
    "name": "ipython",
    "version": 3
   },
   "file_extension": ".py",
   "mimetype": "text/x-python",
   "name": "python",
   "nbconvert_exporter": "python",
   "pygments_lexer": "ipython3",
   "version": "3.8.3"
  }
 },
 "nbformat": 4,
 "nbformat_minor": 4
}
