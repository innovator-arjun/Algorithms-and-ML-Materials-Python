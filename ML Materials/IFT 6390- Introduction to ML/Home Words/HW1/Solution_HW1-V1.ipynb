{
 "cells": [
  {
   "cell_type": "code",
   "execution_count": 2,
   "metadata": {},
   "outputs": [],
   "source": [
    "import numpy as np"
   ]
  },
  {
   "cell_type": "code",
   "execution_count": 3,
   "metadata": {},
   "outputs": [],
   "source": [
    "#Loading Dataset\n",
    "banknote=np.genfromtxt('data_banknote_authentication.txt',delimiter=',')\n"
   ]
  },
  {
   "cell_type": "code",
   "execution_count": 4,
   "metadata": {},
   "outputs": [
    {
     "data": {
      "text/plain": [
       "array([[  3.6216 ,   8.6661 ,  -2.8073 ,  -0.44699,   0.     ],\n",
       "       [  4.5459 ,   8.1674 ,  -2.4586 ,  -1.4621 ,   0.     ],\n",
       "       [  3.866  ,  -2.6383 ,   1.9242 ,   0.10645,   0.     ],\n",
       "       ...,\n",
       "       [ -3.7503 , -13.4586 ,  17.5932 ,  -2.7771 ,   1.     ],\n",
       "       [ -3.5637 ,  -8.3827 ,  12.393  ,  -1.2823 ,   1.     ],\n",
       "       [ -2.5419 ,  -0.65804,   2.6842 ,   1.1952 ,   1.     ]])"
      ]
     },
     "execution_count": 4,
     "metadata": {},
     "output_type": "execute_result"
    }
   ],
   "source": [
    "banknote"
   ]
  },
  {
   "cell_type": "code",
   "execution_count": 5,
   "metadata": {},
   "outputs": [],
   "source": [
    "def draw_rand_label(x, label_list):\n",
    "    seed = abs(np.sum(x))\n",
    "    while seed < 1:\n",
    "        seed = 10 * seed\n",
    "    seed = int(1000000 * seed)\n",
    "    np.random.seed(seed)\n",
    "    return np.random.choice(label_list)"
   ]
  },
  {
   "cell_type": "markdown",
   "metadata": {},
   "source": [
    "\n",
    "# Part 1"
   ]
  },
  {
   "cell_type": "code",
   "execution_count": 11,
   "metadata": {},
   "outputs": [],
   "source": [
    "# Q1. feature_means\n",
    "def feature_means(self,banknote):\n",
    "    features=banknote[:,:4]\n",
    "    return np.mean(features,axis=0)"
   ]
  },
  {
   "cell_type": "code",
   "execution_count": 12,
   "metadata": {},
   "outputs": [],
   "source": [
    "# Q2.covariance matrix 4*4 features\n",
    "def covariance_matrix(self, banknote):\n",
    "    return np.cov(features.T)\n"
   ]
  },
  {
   "cell_type": "code",
   "execution_count": 13,
   "metadata": {},
   "outputs": [],
   "source": [
    "#Q3 Feature means class 1\n",
    "def feature_means_class_1(self, banknote):\n",
    "    data_class_1 = banknote[banknote[:,4] == 1, :4]\n",
    "    return np.mean(data_class_1,axis=0)"
   ]
  },
  {
   "cell_type": "code",
   "execution_count": 14,
   "metadata": {},
   "outputs": [],
   "source": [
    "#Q4: Covariance matrix class 1\n",
    "def covariance_matrix_class_1(self, banknote):\n",
    "    return np.cov(data_class_1.T)"
   ]
  },
  {
   "cell_type": "code",
   "execution_count": 15,
   "metadata": {},
   "outputs": [
    {
     "data": {
      "text/plain": [
       "array([ 0.43373526,  1.92235312,  1.39762712, -1.19165652])"
      ]
     },
     "execution_count": 15,
     "metadata": {},
     "output_type": "execute_result"
    }
   ],
   "source": [
    "feature_means(banknote)"
   ]
  },
  {
   "cell_type": "markdown",
   "metadata": {},
   "source": [
    "# Part 2"
   ]
  },
  {
   "cell_type": "code",
   "execution_count": 375,
   "metadata": {},
   "outputs": [],
   "source": [
    "#Part 2- Q1\n",
    "#implement Random\n",
    "class HardParzen:\n",
    "    def __init__(self, h):\n",
    "        self.h = h\n",
    "    def train(self, train_inputs, train_labels):\n",
    "        self.label_list = np.unique(train_labels)\n",
    "        self.label_length=len(np.unique(train_labels))\n",
    "        self.train_inputs=train_inputs\n",
    "        self.train_labels=train_labels\n",
    "        self.k=50\n",
    "    def compute_predictions(self, test_data):\n",
    "        neighbours=[]\n",
    "        \n",
    "        length=test_data.shape[0]\n",
    "        classes_pred=np.zeros(length)\n",
    "        counts=np.ones((length,self.label_length))\n",
    "        radius=self.h\n",
    "        for i in range(len(test_data)):\n",
    "            \n",
    "            distance=(np.sum((np.abs(test_data[i] - self.train_inputs)) ** 2, axis=1)) ** (1.0 / 2)\n",
    "            neighbours = np.array([j for j in range(len(distance)) if distance[j] < radius])\n",
    "            print()\n",
    "            for k in neighbours:\n",
    "                counts[i,int(self.train_labels[k])]+=1\n",
    "            print(counts)\n",
    "            if max(counts[i,:])==1:\n",
    "                classes_pred[i]=draw_rand_label(test_data[i],self.label_list)\n",
    "            else:\n",
    "                classes_pred[i] = np.argmax(counts[i, :])\n",
    "        return classes_pred\n",
    "#         \n",
    "         "
   ]
  },
  {
   "cell_type": "code",
   "execution_count": 376,
   "metadata": {},
   "outputs": [
    {
     "name": "stdout",
     "output_type": "stream",
     "text": [
      "\n",
      "[[1. 1.]\n",
      " [1. 1.]\n",
      " [1. 1.]]\n",
      "1.0 [0. 1.]\n",
      "\n",
      "[[1. 1.]\n",
      " [1. 1.]\n",
      " [1. 1.]]\n",
      "0.0 [0. 1.]\n",
      "\n",
      "[[1. 1.]\n",
      " [1. 1.]\n",
      " [1. 1.]]\n",
      "0.0 [0. 1.]\n"
     ]
    },
    {
     "data": {
      "text/plain": [
       "array([1., 0., 0.])"
      ]
     },
     "execution_count": 376,
     "metadata": {},
     "output_type": "execute_result"
    }
   ],
   "source": [
    "f=HardParzen(0.01)\n",
    "test=np.array([[ 3.6216 ,  9.6661 , -2.8073 , -0.44699,  0.     ],\n",
    "       [ 4.5459 ,  7.1674 , -2.4586 , -1.4621 ,  0.     ],\n",
    "        [-3.5637 ,  -8.3827 ,  11.393  ,  -1.2823 ,   1.]\n",
    "              ])\n",
    "f.train(banknote[:1300,:4],banknote[:1300,4])\n",
    "f.compute_predictions(test[:,:4])"
   ]
  },
  {
   "cell_type": "code",
   "execution_count": 222,
   "metadata": {},
   "outputs": [
    {
     "data": {
      "text/plain": [
       "array([[ 3.6216 ,  8.6661 , -2.8073 , -0.44699,  0.     ],\n",
       "       [ 4.5459 ,  8.1674 , -2.4586 , -1.4621 ,  0.     ]])"
      ]
     },
     "execution_count": 222,
     "metadata": {},
     "output_type": "execute_result"
    }
   ],
   "source": [
    "test"
   ]
  },
  {
   "cell_type": "code",
   "execution_count": 26,
   "metadata": {},
   "outputs": [
    {
     "data": {
      "text/plain": [
       "array([[ 3.6216 ,  8.6661 , -2.8073 , -0.44699,  0.     ],\n",
       "       [ 4.5459 ,  8.1674 , -2.4586 , -1.4621 ,  0.     ],\n",
       "       [ 3.866  , -2.6383 ,  1.9242 ,  0.10645,  0.     ],\n",
       "       [ 3.4566 ,  9.5228 , -4.0112 , -3.5944 ,  0.     ],\n",
       "       [ 0.32924, -4.4552 ,  4.5718 , -0.9888 ,  0.     ]])"
      ]
     },
     "execution_count": 26,
     "metadata": {},
     "output_type": "execute_result"
    }
   ],
   "source": [
    "train=banknote[0:5]\n",
    "train"
   ]
  },
  {
   "cell_type": "code",
   "execution_count": 27,
   "metadata": {},
   "outputs": [
    {
     "name": "stdout",
     "output_type": "stream",
     "text": [
      "[[ 4.3684   9.6718  -3.9606  -3.1625   0.     ]\n",
      " [ 3.5912   3.0129   0.72888  0.56421  0.     ]]\n"
     ]
    }
   ],
   "source": [
    "test=banknote[5:7]\n",
    "print(test)\n",
    "test_label=test[:,4]"
   ]
  },
  {
   "cell_type": "code",
   "execution_count": 28,
   "metadata": {},
   "outputs": [],
   "source": [
    "train=banknote[0:5]\n",
    "train_label=train[:,4]"
   ]
  },
  {
   "cell_type": "code",
   "execution_count": 29,
   "metadata": {},
   "outputs": [
    {
     "data": {
      "text/plain": [
       "array([0., 0., 0., 0., 0.])"
      ]
     },
     "execution_count": 29,
     "metadata": {},
     "output_type": "execute_result"
    }
   ],
   "source": [
    "train_label"
   ]
  },
  {
   "cell_type": "code",
   "execution_count": 287,
   "metadata": {},
   "outputs": [
    {
     "name": "stdout",
     "output_type": "stream",
     "text": [
      "[]\n"
     ]
    }
   ],
   "source": [
    "import numpy as np\n",
    "import matplotlib.pyplot as plt\n",
    "N=30\n",
    "sigma=1\n",
    "T=np.linspace(1,N,N)\n",
    "n=30\n",
    "X=np.random.normal(0, sigma, 1000)\n",
    "x=1\n",
    "alpha=0.45\n",
    "\n",
    "def k_gaussien(x,sigma): #kernel gaussien\n",
    "    if(sigma<=0):\n",
    "        return((1/(sigma*sqrt(2*pi)))*exp(-(x**2/(2*sigma**2))))\n",
    "\n",
    "# def h(n,alpha): #bandwith\n",
    "#     h=np.ones((1,1))\n",
    "#     for i in range(2,N):\n",
    "#         h[i]= h[i-1] + (i**(-alpha))\n",
    "\n",
    "def f_PR(x,X,sigma): #Parzen-Rosenblatt estimator (f_PR)\n",
    "    global F;\n",
    "    F = np.zeros((N,0));\n",
    "    for k in range(2,N):\n",
    "        for i in  range(1,k):\n",
    "            F[k] = F[k-1] + k_gaussien((x-X[i]),1);\n",
    "        F[k] = F[k-1] \n",
    "    print(F);\n",
    "\n",
    "# almost surely convergency\n",
    "fPR=f_PR(x,X,sigma)\n"
   ]
  },
  {
   "cell_type": "code",
   "execution_count": 296,
   "metadata": {},
   "outputs": [],
   "source": [
    "x=np.array([[1,2],[3,4]])"
   ]
  },
  {
   "cell_type": "code",
   "execution_count": 297,
   "metadata": {},
   "outputs": [
    {
     "name": "stdout",
     "output_type": "stream",
     "text": [
      "[[2.41970725e-01 5.39909665e-02]\n",
      " [4.43184841e-03 1.33830226e-04]]\n"
     ]
    }
   ],
   "source": [
    "sigma=1\n",
    "sig=(1/(np.sqrt(2*np.pi)*sigma))*np.exp(-(x**2/(2*sigma**2)))\n",
    "print(sig)"
   ]
  },
  {
   "cell_type": "code",
   "execution_count": 307,
   "metadata": {},
   "outputs": [
    {
     "name": "stdout",
     "output_type": "stream",
     "text": [
      "0.05399096651318806\n"
     ]
    }
   ],
   "source": [
    "sigma=1\n",
    "x=\n",
    "print((1/(sigma*np.sqrt(2*np.pi)))*np.exp(-(x**2/(2*sigma**2))))"
   ]
  },
  {
   "cell_type": "code",
   "execution_count": null,
   "metadata": {},
   "outputs": [],
   "source": []
  },
  {
   "cell_type": "code",
   "execution_count": null,
   "metadata": {},
   "outputs": [],
   "source": [
    "for i in range(len(test_data)):\n",
    "    distance=(np.sum((np.abs(test_data[i] - self.train_inputs)) ** 2, axis=1)) ** (1.0 / 2)\n",
    "    "
   ]
  },
  {
   "cell_type": "markdown",
   "metadata": {},
   "source": [
    "# Part - 4 Split Dataset\n"
   ]
  },
  {
   "cell_type": "code",
   "execution_count": 340,
   "metadata": {},
   "outputs": [],
   "source": [
    "def split_dataset(banknote):\n",
    "    length=list(range(0,len(banknote)))\n",
    "    train_index=[]\n",
    "    validation_index=[]\n",
    "    test_index=[]\n",
    "    \n",
    "    for i in range(0,len(length)):\n",
    "        if i%5==0 or i%5==1 or i%5==2:\n",
    "            train_index.append(i)\n",
    "        elif i%5==3:\n",
    "            validation_index.append(i)\n",
    "        elif i%5==4:\n",
    "            test_index.append(i)\n",
    "    train=banknote[train_index]\n",
    "    validation=banknote[validation_index]\n",
    "    test=banknote[test_index]\n",
    "#     print(len(train),len(validation),len(test))\n",
    "    return (train,validation,test)\n",
    "    \n"
   ]
  },
  {
   "cell_type": "code",
   "execution_count": 341,
   "metadata": {},
   "outputs": [
    {
     "name": "stdout",
     "output_type": "stream",
     "text": [
      "824 274 274\n",
      "(array([[ 3.6216 ,  8.6661 , -2.8073 , -0.44699,  0.     ],\n",
      "       [ 4.5459 ,  8.1674 , -2.4586 , -1.4621 ,  0.     ],\n",
      "       [ 3.866  , -2.6383 ,  1.9242 ,  0.10645,  0.     ],\n",
      "       ...,\n",
      "       [ 0.40614,  1.3492 , -1.4501 , -0.55949,  1.     ],\n",
      "       [-3.5637 , -8.3827 , 12.393  , -1.2823 ,  1.     ],\n",
      "       [-2.5419 , -0.65804,  2.6842 ,  1.1952 ,  1.     ]]), array([[ 3.4566e+00,  9.5228e+00, -4.0112e+00, -3.5944e+00,  0.0000e+00],\n",
      "       [ 3.2032e+00,  5.7588e+00, -7.5345e-01, -6.1251e-01,  0.0000e+00],\n",
      "       [-1.5768e+00,  1.0843e+01,  2.5462e+00, -2.9362e+00,  0.0000e+00],\n",
      "       ...,\n",
      "       [-1.0116e+00, -1.9038e-01, -9.0597e-01,  3.0030e-03,  1.0000e+00],\n",
      "       [-1.1667e+00, -1.4237e+00,  2.9241e+00,  6.6119e-01,  1.0000e+00],\n",
      "       [-1.3887e+00, -4.8773e+00,  6.4774e+00,  3.4179e-01,  1.0000e+00]]), array([[  0.32924 ,  -4.4552  ,   4.5718  ,  -0.9888  ,   0.      ],\n",
      "       [  1.5356  ,   9.1772  ,  -2.2718  ,  -0.73535 ,   0.      ],\n",
      "       [  3.404   ,   8.7261  ,  -2.9915  ,  -0.57242 ,   0.      ],\n",
      "       ...,\n",
      "       [  0.066129,   2.4914  ,  -2.9401  ,  -0.62156 ,   1.      ],\n",
      "       [ -2.8391  ,  -6.63    ,  10.4849  ,  -0.42113 ,   1.      ],\n",
      "       [ -3.7503  , -13.4586  ,  17.5932  ,  -2.7771  ,   1.      ]]))\n"
     ]
    }
   ],
   "source": [
    "temp=split_dataset(banknote)\n",
    "print(temp)"
   ]
  },
  {
   "cell_type": "code",
   "execution_count": 333,
   "metadata": {},
   "outputs": [
    {
     "name": "stdout",
     "output_type": "stream",
     "text": [
      "[[ 3.4566   9.5228  -4.0112  -3.5944   0.     ]\n",
      " [ 3.2032   5.7588  -0.75345 -0.61251  0.     ]\n",
      " [-1.5768  10.843    2.5462  -2.9362   0.     ]]\n"
     ]
    }
   ],
   "source": [
    "li=[3,8,13]\n",
    "temp=banknote[li]\n",
    "print(temp)"
   ]
  },
  {
   "cell_type": "code",
   "execution_count": 317,
   "metadata": {},
   "outputs": [
    {
     "data": {
      "text/plain": [
       "array([[ 3.6216 ,  8.6661 , -2.8073 , -0.44699,  0.     ],\n",
       "       [ 4.5459 ,  8.1674 , -2.4586 , -1.4621 ,  0.     ],\n",
       "       [ 3.866  , -2.6383 ,  1.9242 ,  0.10645,  0.     ],\n",
       "       [ 3.4566 ,  9.5228 , -4.0112 , -3.5944 ,  0.     ],\n",
       "       [ 0.32924, -4.4552 ,  4.5718 , -0.9888 ,  0.     ],\n",
       "       [ 4.3684 ,  9.6718 , -3.9606 , -3.1625 ,  0.     ],\n",
       "       [ 3.5912 ,  3.0129 ,  0.72888,  0.56421,  0.     ],\n",
       "       [ 2.0922 , -6.81   ,  8.4636 , -0.60216,  0.     ],\n",
       "       [ 3.2032 ,  5.7588 , -0.75345, -0.61251,  0.     ],\n",
       "       [ 1.5356 ,  9.1772 , -2.2718 , -0.73535,  0.     ]])"
      ]
     },
     "execution_count": 317,
     "metadata": {},
     "output_type": "execute_result"
    }
   ],
   "source": [
    "banknote[0:10]"
   ]
  },
  {
   "cell_type": "code",
   "execution_count": null,
   "metadata": {},
   "outputs": [],
   "source": []
  }
 ],
 "metadata": {
  "kernelspec": {
   "display_name": "Python 3",
   "language": "python",
   "name": "python3"
  },
  "language_info": {
   "codemirror_mode": {
    "name": "ipython",
    "version": 3
   },
   "file_extension": ".py",
   "mimetype": "text/x-python",
   "name": "python",
   "nbconvert_exporter": "python",
   "pygments_lexer": "ipython3",
   "version": "3.8.3"
  }
 },
 "nbformat": 4,
 "nbformat_minor": 4
}
