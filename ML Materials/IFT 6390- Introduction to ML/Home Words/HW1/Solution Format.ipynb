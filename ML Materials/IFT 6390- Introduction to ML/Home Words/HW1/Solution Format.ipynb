{
 "cells": [
  {
   "cell_type": "code",
   "execution_count": 138,
   "metadata": {},
   "outputs": [],
   "source": [
    "import numpy as np\n",
    "runtime_hard={}\n",
    "runtime_soft={}\n",
    "######## DO NOT MODIFY THIS FUNCTION ########\n",
    "def draw_rand_label(x, label_list):\n",
    "    seed = abs(np.sum(x))\n",
    "    while seed < 1:\n",
    "        seed = 10 * seed\n",
    "    seed = int(1000000 * seed)\n",
    "    np.random.seed(seed)\n",
    "    return np.random.choice(label_list)\n",
    "#############################################\n",
    "\n",
    "\n",
    "class Q1:\n",
    "\n",
    "    def feature_means(self, banknote):\n",
    "        features=banknote[:,:4]\n",
    "        return np.mean(features,axis=0)\n",
    "\n",
    "    def covariance_matrix(self, banknote):\n",
    "        features=banknote[:,:4]\n",
    "        return np.cov(features.T)\n",
    "\n",
    "    def feature_means_class_1(self, banknote):\n",
    "        data_class_1 = banknote[banknote[:,4] == 1, :4]\n",
    "        return np.mean(data_class_1,axis=0)\n",
    "\n",
    "    def covariance_matrix_class_1(self, banknote):\n",
    "        data_class_1 = banknote[banknote[:,4] == 1, :4]\n",
    "        return np.cov(data_class_1.T)\n",
    "\n",
    "\n",
    "class HardParzen:\n",
    "    def __init__(self, h):\n",
    "        self.h = h\n",
    "\n",
    "    def train(self, train_inputs, train_labels):\n",
    "        self.label_list = np.unique(train_labels)\n",
    "        self.label_length=len(np.unique(train_labels))\n",
    "        self.train_inputs=train_inputs\n",
    "        self.train_labels=train_labels\n",
    "\n",
    "    def compute_predictions(self, test_data):\n",
    "        neighbours=[]\n",
    "        \n",
    "        length=test_data.shape[0]\n",
    "        classes_pred=np.zeros(length)\n",
    "        \n",
    "        counts=np.ones((length,self.label_length))\n",
    "        \n",
    "        radius=self.h\n",
    "        for i in range(0,len(test_data)):\n",
    "            \n",
    "            distance=(np.sum((np.abs(test_data[i] - self.train_inputs)) ** 2, axis=1)) ** (1.0 / 2)\n",
    "            neighbours = np.array([j for j in range(len(distance)) if distance[j] < radius])\n",
    "            for k in neighbours:\n",
    "                counts[i,int(self.train_labels[k])]+=1\n",
    "            if max(counts[i,:])==1:\n",
    "                classes_pred[i]=draw_rand_label(test_data[i],self.label_list)\n",
    "            else:\n",
    "                classes_pred[i] = np.argmax(counts[i, :])\n",
    "        return classes_pred\n",
    "\n",
    "\n",
    "class SoftRBFParzen:\n",
    "    def __init__(self, sigma):\n",
    "        self.sigma  = sigma\n",
    "\n",
    "    def train(self, train_inputs, train_labels):\n",
    "        self.label_list = np.unique(train_labels)\n",
    "        self.label_length=len(np.unique(train_labels))\n",
    "        self.train_inputs=train_inputs\n",
    "        self.train_labels=train_labels\n",
    "\n",
    "    def compute_predictions(self, test_data):\n",
    "        neighbours=[]\n",
    "        \n",
    "        length=test_data.shape[0]\n",
    "        classes_pred=np.zeros(length)\n",
    "        counts=np.ones((length,self.label_length))\n",
    "        for i in range(len(test_data)):\n",
    "            distances = (np.sum((np.abs(test_data[i] - self.train_inputs)) ** 2, axis=1)) ** (1.0 / 2)\n",
    "            dic = dict.fromkeys(self.label_list, 1)\n",
    "            for j in range(len(distances)):\n",
    "                sig=(1/(np.sqrt(2*np.pi)*self.sigma))*np.exp(-(distances[j]**2/(2*self.sigma**2)))\n",
    "                dic[self.train_labels[j]]+=sig\n",
    "            classes_pred[i]= max(dic, key=dic.get)\n",
    "        return classes_pred\n",
    "\n",
    "\n",
    "def split_dataset(banknote):\n",
    "    length=list(range(0,len(banknote)))\n",
    "    train_index=[]\n",
    "    validation_index=[]\n",
    "    test_index=[]\n",
    "    \n",
    "    for i in range(0,len(length)):\n",
    "        if i%5==0 or i%5==1 or i%5==2:\n",
    "            train_index.append(i)\n",
    "        elif i%5==3:\n",
    "            validation_index.append(i)\n",
    "        elif i%5==4:\n",
    "            test_index.append(i)\n",
    "    train=banknote[train_index]\n",
    "    validation=banknote[validation_index]\n",
    "    test=banknote[test_index]\n",
    "    return (train,validation,test)\n",
    "\n",
    "\n",
    "class ErrorRate:\n",
    "    def __init__(self, x_train, y_train, x_val, y_val):\n",
    "        self.x_train = x_train\n",
    "        self.y_train = y_train\n",
    "        self.x_val = x_val\n",
    "        self.y_val = y_val\n",
    "\n",
    "    def hard_parzen(self, h):\n",
    "        knn_hard=HardParzen(h)\n",
    "        knn_hard.train(self.x_train,self.y_train)\n",
    "        knn_hard_pred=knn_hard.compute_predictions(self.x_val)\n",
    "\n",
    "        n_classes = len(np.unique(knn_hard_pred))\n",
    "        total_correct=0\n",
    "        for i in range(0,len(knn_hard_pred)):\n",
    "            if knn_hard_pred[i]==self.y_val[i]:\n",
    "                total_correct+=1       \n",
    "        total_pred=len(knn_hard_pred)        \n",
    "        \n",
    "        return 1-((float(total_correct) / float(total_pred)))\n",
    "\n",
    "    def soft_parzen(self, sigma):\n",
    "        knn_soft=SoftRBFParzen(sigma)\n",
    "        knn_soft.train(self.x_train,self.y_train)\n",
    "        knn_soft_pred=knn_soft.compute_predictions(self.x_val)\n",
    "        correct=0\n",
    "        for j in range(0,len(knn_soft_pred)):\n",
    "            if knn_soft_pred[j]==self.y_val[j]:\n",
    "                correct+=1\n",
    "        total_pred=len(knn_soft_pred) \n",
    "        return 1-((float(correct) / float(total_pred)))\n",
    "\n",
    "def get_test_errors(banknote):\n",
    "#     split_dataset(banknote)\n",
    "    dataset=split_dataset(banknote)\n",
    "    test=dataset[2]\n",
    "    test_label=test[:,4]\n",
    "\n",
    "    train=dataset[0]\n",
    "    train_label=train[:,4]\n",
    "    error=ErrorRate(train[:,:4],train_label,test[:,:4],test_label)\n",
    "    h=[0.01, 0.1, 0.2, 0.3, 0.4, 0.5, 1.0, 3.0, 10.0, 20.0]\n",
    "    h_error={}\n",
    "    h_runtime={}\n",
    "    for i in range(len(h)):\n",
    "        t1 = time.perf_counter()\n",
    "        h_error[h[i]]= error.hard_parzen(h[i])\n",
    "        t2 = time.perf_counter()\n",
    "        h_runtime[h[i]]=t2-t1\n",
    "    sigma=[0.01, 0.1, 0.2, 0.3, 0.4, 0.5, 1.0, 3.0, 10.0, 20.0]\n",
    "    s_error={}\n",
    "    s_runtime={}\n",
    "    for i in range(len(sigma)):\n",
    "        t1 = time.perf_counter()\n",
    "        s_error[sigma[i]]= error.soft_parzen(sigma[i])\n",
    "        t2 = time.perf_counter()\n",
    "        s_runtime[sigma[i]]=t2-t1\n",
    "    soft_min=min(s_error,key=s_error.get)\n",
    "    hard_min=min(h_error,key=h_error.get)\n",
    "#     return np.array([h_error[hard_min],s_error[hard_min] ])\n",
    "#     return h_error,s_error\n",
    "    return h_runtime,s_runtime\n",
    "\n",
    "def random_projections(X, A):\n",
    "    res=X.dot(A)\n",
    "    res=res/np.sqrt(2)\n",
    "    return res"
   ]
  },
  {
   "cell_type": "code",
   "execution_count": null,
   "metadata": {},
   "outputs": [],
   "source": []
  },
  {
   "cell_type": "code",
   "execution_count": null,
   "metadata": {},
   "outputs": [
    {
     "name": "stdout",
     "output_type": "stream",
     "text": [
      "0\n"
     ]
    }
   ],
   "source": [
    "h_res=np.array([0.1627719,0.1445142,0.146569,0.1420796,0.1549656,0.1401445,0.1566806,\n",
    "  0.1782113,0.5506031,0.6390533])\n",
    "s_res=np.array([2.3074178,2.2947799,2.2317911,2.1608443,2.2213071,2.2046043,2.116726,\n",
    "  2.1719479,4.7158014,3.6008611])\n",
    "A=np.random.normal(0,1,size=(4,2))\n",
    "for i in range(0,3):\n",
    "    temp=np.genfromtxt('data_banknote_authentication.txt',delimiter=',')\n",
    "    X_train=temp[:,:4]\n",
    "    \n",
    "    random_proj=random_projections(X_train,A)\n",
    "    res=np.column_stack((X_train,temp[:,4]))\n",
    "\n",
    "    banknote_proj=np.column_stack((random_proj,temp[:,4]))\n",
    "\n",
    "    best=get_test_errors(banknote)\n",
    "\n",
    "    h_arr=np.array(list(best[0].values()))\n",
    "    s_arr=np.array(list(best[1].values()))\n",
    "\n",
    "    h_res=np.vstack( (h_res,h_arr))\n",
    "    s_res=np.vstack( (s_res,s_arr))\n",
    "    print(i)\n",
    "print(h_res)\n",
    "print(s_res)"
   ]
  },
  {
   "cell_type": "code",
   "execution_count": 153,
   "metadata": {},
   "outputs": [
    {
     "data": {
      "text/plain": [
       "array([[2.3074178, 2.2947799, 2.2317911, 2.1608443, 2.2213071, 2.2046043,\n",
       "        2.116726 , 2.1719479, 4.7158014, 3.6008611],\n",
       "       [2.3508537, 2.3602785, 2.2520102, 2.2346474, 2.3127386, 2.2779814,\n",
       "        2.1336263, 2.3539616, 2.7930272, 2.8346267]])"
      ]
     },
     "execution_count": 153,
     "metadata": {},
     "output_type": "execute_result"
    }
   ],
   "source": []
  },
  {
   "cell_type": "code",
   "execution_count": 114,
   "metadata": {},
   "outputs": [
    {
     "data": {
      "text/plain": [
       "array(dict_values([0.21137710000039078, 0.15897300000142423, 0.22847249999904307, 0.1561122000020987, 0.13858370000161813, 0.14344079999864334, 0.15101100000174483, 0.18800809999811463, 0.5485416000010446, 0.7132577000011224]),\n",
       "      dtype=object)"
      ]
     },
     "execution_count": 114,
     "metadata": {},
     "output_type": "execute_result"
    }
   ],
   "source": [
    "np.array(best[0].values())"
   ]
  },
  {
   "cell_type": "code",
   "execution_count": 148,
   "metadata": {},
   "outputs": [
    {
     "ename": "NameError",
     "evalue": "name 'h_ress' is not defined",
     "output_type": "error",
     "traceback": [
      "\u001b[1;31m---------------------------------------------------------------------------\u001b[0m",
      "\u001b[1;31mNameError\u001b[0m                                 Traceback (most recent call last)",
      "\u001b[1;32m<ipython-input-148-dd4250a49ef3>\u001b[0m in \u001b[0;36m<module>\u001b[1;34m\u001b[0m\n\u001b[0;32m      2\u001b[0m \u001b[0ms_arrr\u001b[0m\u001b[1;33m=\u001b[0m\u001b[0mnp\u001b[0m\u001b[1;33m.\u001b[0m\u001b[0marray\u001b[0m\u001b[1;33m(\u001b[0m\u001b[0mlist\u001b[0m\u001b[1;33m(\u001b[0m\u001b[0mbest\u001b[0m\u001b[1;33m[\u001b[0m\u001b[1;36m1\u001b[0m\u001b[1;33m]\u001b[0m\u001b[1;33m.\u001b[0m\u001b[0mvalues\u001b[0m\u001b[1;33m(\u001b[0m\u001b[1;33m)\u001b[0m\u001b[1;33m)\u001b[0m\u001b[1;33m)\u001b[0m\u001b[1;33m\u001b[0m\u001b[1;33m\u001b[0m\u001b[0m\n\u001b[0;32m      3\u001b[0m \u001b[1;33m\u001b[0m\u001b[0m\n\u001b[1;32m----> 4\u001b[1;33m \u001b[0mh_ress\u001b[0m\u001b[1;33m=\u001b[0m\u001b[0mnp\u001b[0m\u001b[1;33m.\u001b[0m\u001b[0mvstack\u001b[0m\u001b[1;33m(\u001b[0m \u001b[1;33m(\u001b[0m\u001b[0mh_ress\u001b[0m\u001b[1;33m,\u001b[0m\u001b[0mh_arr\u001b[0m\u001b[1;33m)\u001b[0m \u001b[1;33m)\u001b[0m\u001b[1;33m\u001b[0m\u001b[1;33m\u001b[0m\u001b[0m\n\u001b[0m\u001b[0;32m      5\u001b[0m \u001b[0mprint\u001b[0m\u001b[1;33m(\u001b[0m\u001b[0mh_ress\u001b[0m\u001b[1;33m)\u001b[0m\u001b[1;33m\u001b[0m\u001b[1;33m\u001b[0m\u001b[0m\n",
      "\u001b[1;31mNameError\u001b[0m: name 'h_ress' is not defined"
     ]
    }
   ],
   "source": [
    "h_arrr=np.array(list(best[0].values()))\n",
    "s_arrr=np.array(list(best[1].values()))\n",
    "\n",
    "h_ress=np.vstack( (h_ress,h_arr) )\n",
    "print(h_ress)"
   ]
  },
  {
   "cell_type": "code",
   "execution_count": null,
   "metadata": {},
   "outputs": [],
   "source": [
    "np."
   ]
  },
  {
   "cell_type": "code",
   "execution_count": 146,
   "metadata": {},
   "outputs": [
    {
     "name": "stdout",
     "output_type": "stream",
     "text": [
      "[[0.1627719 0.1445142 0.146569  0.1420796 0.1549656 0.1401445 0.1566806\n",
      "  0.1782113 0.5506031 0.6390533]\n",
      " [2.3074178 2.2947799 2.2317911 2.1608443 2.2213071 2.2046043 2.116726\n",
      "  2.1719479 4.7158014 3.6008611]\n",
      " [0.1627719 0.1445142 0.146569  0.1420796 0.1549656 0.1401445 0.1566806\n",
      "  0.1782113 0.5506031 0.6390533]]\n"
     ]
    }
   ],
   "source": [
    "res=np.vstack((res,arr1))\n",
    "print(res)"
   ]
  },
  {
   "cell_type": "code",
   "execution_count": 156,
   "metadata": {},
   "outputs": [
    {
     "name": "stdout",
     "output_type": "stream",
     "text": [
      "[0.87765387 0.86126943 0.84164303 0.81500117 0.8437461  0.82829777\n",
      " 0.81002907 0.84279017 1.93900253 1.62632257]\n",
      "(1372, 5)\n"
     ]
    }
   ],
   "source": [
    "h_res_avg=np.mean(h_res,axis=0)\n",
    "print(avg)\n",
    "\n",
    "print(res.shape)\n",
    "# h ∈ {0.01, 0.1, 0.2, 0.3, 0.4, 0.5, 1.0, 3.0, 10.0, 20.0}\n",
    "# σ ∈ {0.01, 0.1, 0.2, 0.3, 0.4, 0.5, 1.0, 3.0, 10.0, 20.0}"
   ]
  },
  {
   "cell_type": "code",
   "execution_count": 158,
   "metadata": {},
   "outputs": [
    {
     "name": "stdout",
     "output_type": "stream",
     "text": [
      "[0.16533677 0.16309955 0.157419   0.1597099  0.16706297 0.16426838\n",
      " 0.1664606  0.19096587 0.51049093 0.6808881 ]\n",
      "[[0.1627719 0.1445142 0.146569  0.1420796 0.1549656 0.1401445 0.1566806\n",
      "  0.1782113 0.5506031 0.6390533]\n",
      " [0.1743979 0.1659155 0.1500677 0.1664755 0.1572324 0.1611295 0.1575361\n",
      "  0.186208  0.4829296 0.7484054]\n",
      " [0.1546424 0.1677423 0.1664739 0.1701931 0.1967391 0.2022126 0.1979552\n",
      "  0.2194027 0.5225029 0.6696326]\n",
      " [0.1695349 0.1742262 0.1665654 0.1600914 0.1593148 0.1535869 0.1536705\n",
      "  0.1800415 0.4859281 0.6664611]]\n"
     ]
    }
   ],
   "source": [
    "print(h_res_avg)\n",
    "print(h_res)"
   ]
  },
  {
   "cell_type": "code",
   "execution_count": 65,
   "metadata": {},
   "outputs": [
    {
     "name": "stdout",
     "output_type": "stream",
     "text": [
      "({0.01: 0.1636859000000186, 0.1: 0.15863890000036918, 0.2: 0.16135420000000522, 0.3: 0.1285171999998056, 0.4: 0.1520850000001701, 0.5: 0.13916390000031242, 1.0: 0.16673110000010638, 3.0: 0.18227370000022347, 10.0: 0.5162836000004063, 20.0: 0.6741210000000137}, {0.01: 3.0228048999997554, 0.3: 2.8113422000001265, 0.4: 2.8107648000000154, 0.5: 2.5916659999998046, 1.0: 2.400005399999827, 3.0: 2.3165053999996417, 10.0: 2.2776159999998526, 20.0: 2.310085400000389})\n"
     ]
    }
   ],
   "source": [
    "banknote=np.genfromtxt('data_banknote_authentication.txt',delimiter=',')\n",
    "best=get_test_errors(banknote)\n",
    "print(best)\n",
    "# dataset=split_dataset(banknote)\n",
    "# test=dataset[2]\n",
    "# test_label=test[:,4]\n",
    "\n",
    "# train=dataset[0]\n",
    "# train_label=train[:,4]\n",
    "\n",
    "# er=ErrorRate(train[:,:4],train_label,test[:,:4],test_label)\n",
    "# res=er.hard_parzen(1)\n",
    "# print(res)\n",
    "\n",
    "# knn_hard=SoftRBFParzen(0.4)\n",
    "# knn_hard.train(train[:,:4],train_label)\n",
    "# knn_hard_pred=knn_hard.compute_predictions(test[:,:4])\n",
    "# print(knn_hard_pred)\n"
   ]
  },
  {
   "cell_type": "code",
   "execution_count": 68,
   "metadata": {},
   "outputs": [
    {
     "data": {
      "text/plain": [
       "Text(0.5, 1.0, 'Error Analysis')"
      ]
     },
     "execution_count": 68,
     "metadata": {},
     "output_type": "execute_result"
    },
    {
     "data": {
      "image/png": "[encoded data removed]",
      "text/plain": [
       "<Figure size 432x288 with 1 Axes>"
      ]
     },
     "metadata": {
      "needs_background": "light"
     },
     "output_type": "display_data"
    }
   ],
   "source": [
    "#Error Analysis- Q5\n",
    "import matplotlib.pyplot as plt\n",
    "plt.plot(list(best[0].keys()) , list(best[0].values()) , label='hard Parzen')\n",
    "plt.plot(list(best[1].keys()) , list(best[1].values()),label='Soft Parzen')\n",
    "plt.legend();\n",
    "plt.xlabel('h/sigma values')\n",
    "plt.ylabel('error rate values')\n",
    "plt.title('Error Analysis')"
   ]
  },
  {
   "cell_type": "code",
   "execution_count": 73,
   "metadata": {},
   "outputs": [
    {
     "data": {
      "text/plain": [
       "Text(0.5, 1.0, 'Hard Parzen-run time analysis')"
      ]
     },
     "execution_count": 73,
     "metadata": {},
     "output_type": "execute_result"
    },
    {
     "data": {
      "image/png": "[encoded data removed]",
      "text/plain": [
       "<Figure size 432x288 with 1 Axes>"
      ]
     },
     "metadata": {
      "needs_background": "light"
     },
     "output_type": "display_data"
    }
   ],
   "source": [
    "#Q7 a\n",
    "plt.plot(list(best[0].keys()) , list(best[0].values()) , label='hard Parzen')\n",
    "plt.legend();\n",
    "plt.xlabel('h values')\n",
    "plt.ylabel('seconds')\n",
    "plt.title('Hard Parzen-run time analysis')"
   ]
  },
  {
   "cell_type": "code",
   "execution_count": 74,
   "metadata": {},
   "outputs": [
    {
     "data": {
      "text/plain": [
       "Text(0.5, 1.0, 'Soft Parzen-run time analysis')"
      ]
     },
     "execution_count": 74,
     "metadata": {},
     "output_type": "execute_result"
    },
    {
     "data": {
      "image/png": "[encoded data removed]",
      "text/plain": [
       "<Figure size 432x288 with 1 Axes>"
      ]
     },
     "metadata": {
      "needs_background": "light"
     },
     "output_type": "display_data"
    }
   ],
   "source": [
    "#Q7 b\n",
    "plt.plot(list(best[1].keys()) , list(best[1].values()),label='Soft Parzen')\n",
    "plt.legend();\n",
    "plt.xlabel('sigma values')\n",
    "plt.ylabel('seconds')\n",
    "plt.title('Soft Parzen-run time analysis')"
   ]
  },
  {
   "cell_type": "code",
   "execution_count": 75,
   "metadata": {},
   "outputs": [
    {
     "data": {
      "text/plain": [
       "({0.01: 0.1636859000000186,\n",
       "  0.1: 0.15863890000036918,\n",
       "  0.2: 0.16135420000000522,\n",
       "  0.3: 0.1285171999998056,\n",
       "  0.4: 0.1520850000001701,\n",
       "  0.5: 0.13916390000031242,\n",
       "  1.0: 0.16673110000010638,\n",
       "  3.0: 0.18227370000022347,\n",
       "  10.0: 0.5162836000004063,\n",
       "  20.0: 0.6741210000000137},\n",
       " {0.01: 3.0228048999997554,\n",
       "  0.3: 2.8113422000001265,\n",
       "  0.4: 2.8107648000000154,\n",
       "  0.5: 2.5916659999998046,\n",
       "  1.0: 2.400005399999827,\n",
       "  3.0: 2.3165053999996417,\n",
       "  10.0: 2.2776159999998526,\n",
       "  20.0: 2.310085400000389})"
      ]
     },
     "execution_count": 75,
     "metadata": {},
     "output_type": "execute_result"
    }
   ],
   "source": [
    "best"
   ]
  },
  {
   "cell_type": "code",
   "execution_count": 154,
   "metadata": {},
   "outputs": [
    {
     "data": {
      "text/plain": [
       "(274, 4)"
      ]
     },
     "execution_count": 154,
     "metadata": {},
     "output_type": "execute_result"
    }
   ],
   "source": [
    "test[:,:4].shape"
   ]
  },
  {
   "cell_type": "code",
   "execution_count": 139,
   "metadata": {},
   "outputs": [
    {
     "data": {
      "text/plain": [
       "array([[  0.32924 ,  -4.4552  ,   4.5718  ,  -0.9888  ],\n",
       "       [  1.5356  ,   9.1772  ,  -2.2718  ,  -0.73535 ],\n",
       "       [  3.404   ,   8.7261  ,  -2.9915  ,  -0.57242 ],\n",
       "       ...,\n",
       "       [  0.066129,   2.4914  ,  -2.9401  ,  -0.62156 ],\n",
       "       [ -2.8391  ,  -6.63    ,  10.4849  ,  -0.42113 ],\n",
       "       [ -3.7503  , -13.4586  ,  17.5932  ,  -2.7771  ]])"
      ]
     },
     "execution_count": 139,
     "metadata": {},
     "output_type": "execute_result"
    }
   ],
   "source": [
    "test[:,:4]"
   ]
  },
  {
   "cell_type": "code",
   "execution_count": 131,
   "metadata": {},
   "outputs": [
    {
     "name": "stdout",
     "output_type": "stream",
     "text": [
      "Ans [0. 0. 0. 0. 0. 0. 0. 0. 0. 0. 0. 0. 0. 0. 0. 0. 0. 0. 0. 0. 0. 0. 0. 0.\n",
      " 0. 0. 0. 0. 0. 0. 0. 0. 0. 0. 0. 0. 0. 0. 0. 0. 0. 0. 0. 0. 0. 0. 0. 0.\n",
      " 0. 0. 0. 0. 0. 0. 0. 0. 0. 0. 0. 0. 0. 0. 0. 0. 0. 0. 0. 0. 0. 0. 0. 0.\n",
      " 0. 0. 0. 0. 0. 0. 0. 0. 0. 0. 0. 0. 0. 0. 0. 0. 0. 0. 0. 0. 0. 0. 0. 0.\n",
      " 0. 0. 0. 0. 0. 0. 0. 0. 0. 0. 0. 0. 0. 0. 0. 0. 0. 0. 0. 0. 0. 0. 0. 0.\n",
      " 0. 0. 0. 0. 0. 0. 0. 0. 0. 0. 0. 0. 0. 0. 0. 0. 0. 0. 0. 0. 0. 0. 0. 0.\n",
      " 0. 0. 0. 0. 0. 0. 0. 0. 1. 1. 1. 1. 1. 1. 1. 1. 1. 1. 1. 1. 1. 1. 1. 1.\n",
      " 1. 1. 1. 1. 1. 1. 1. 1. 1. 1. 1. 1. 1. 1. 1. 1. 1. 1. 1. 1. 1. 1. 1. 1.\n",
      " 1. 1. 1. 1. 1. 1. 1. 1. 1. 1. 1. 1. 1. 1. 1. 1. 1. 1. 1. 1. 1. 1. 1. 1.\n",
      " 1. 1. 1. 1. 1. 1. 1. 1. 1. 1. 1. 1. 1. 1. 1. 1. 1. 1. 1. 1. 1. 1. 1. 1.\n",
      " 1. 1. 1. 1. 1. 1. 1. 1. 1. 1. 1. 1. 1. 1. 1. 1. 1. 1. 1. 1. 1. 1. 1. 1.\n",
      " 1. 1. 1. 1. 1. 1. 1. 1. 1. 1.]\n",
      "[0. 0. 0. 0. 0. 0. 0. 0. 0. 0. 0. 0. 0. 0. 0. 0. 0. 0. 0. 0. 0. 0. 0. 0.\n",
      " 0. 0. 0. 0. 0. 0. 0. 0. 0. 0. 0. 0. 0. 0. 0. 0. 0. 0. 0. 0. 0. 0. 0. 0.\n",
      " 0. 0. 0. 0. 0. 0. 0. 0. 0. 0. 0. 0. 0. 0. 0. 0. 0. 0. 0. 0. 0. 0. 0. 0.\n",
      " 0. 0. 0. 0. 0. 0. 0. 0. 0. 0. 0. 0. 0. 0. 0. 0. 0. 0. 0. 0. 0. 0. 0. 0.\n",
      " 0. 0. 0. 0. 0. 0. 0. 0. 0. 0. 0. 0. 0. 0. 0. 0. 0. 0. 0. 0. 0. 0. 0. 0.\n",
      " 0. 0. 0. 0. 0. 0. 0. 0. 0. 0. 0. 0. 0. 0. 0. 0. 0. 0. 0. 0. 0. 0. 0. 0.\n",
      " 0. 0. 0. 0. 0. 0. 0. 0. 1. 1. 1. 1. 1. 1. 1. 1. 1. 1. 1. 1. 1. 1. 1. 1.\n",
      " 1. 1. 1. 1. 1. 1. 1. 1. 1. 1. 1. 1. 1. 1. 1. 1. 1. 1. 1. 1. 1. 1. 1. 1.\n",
      " 1. 1. 1. 1. 1. 1. 1. 1. 1. 1. 1. 1. 1. 1. 1. 1. 1. 1. 1. 1. 1. 1. 1. 1.\n",
      " 1. 1. 1. 1. 1. 1. 1. 1. 1. 1. 1. 1. 1. 1. 1. 1. 1. 1. 1. 1. 1. 1. 1. 1.\n",
      " 1. 1. 1. 1. 1. 1. 1. 1. 1. 1. 1. 1. 1. 1. 1. 1. 1. 1. 1. 1. 1. 1. 1. 1.\n",
      " 1. 1. 1. 1. 1. 1. 1. 1. 1. 1.]\n"
     ]
    }
   ],
   "source": [
    "s=SoftRBFParzen(0.3)\n",
    "dataset=split_dataset(banknote)\n",
    "test=dataset[2]\n",
    "test_label=test[:,4]\n",
    "\n",
    "train=dataset[0]\n",
    "train_label=train[:,4]\n",
    "\n",
    "s.train(train[:,:4],train_label)\n",
    "res=s.compute_predictions(test[:,:4])\n",
    "\n",
    "print('Ans',res)\n",
    "\n",
    "print(test_label)"
   ]
  },
  {
   "cell_type": "code",
   "execution_count": 81,
   "metadata": {},
   "outputs": [
    {
     "ename": "NameError",
     "evalue": "name 'test' is not defined",
     "output_type": "error",
     "traceback": [
      "\u001b[1;31m---------------------------------------------------------------------------\u001b[0m",
      "\u001b[1;31mNameError\u001b[0m                                 Traceback (most recent call last)",
      "\u001b[1;32m<ipython-input-81-bcc0f9913a20>\u001b[0m in \u001b[0;36m<module>\u001b[1;34m\u001b[0m\n\u001b[1;32m----> 1\u001b[1;33m \u001b[0mtest\u001b[0m\u001b[1;33m[\u001b[0m\u001b[1;33m:\u001b[0m\u001b[1;33m,\u001b[0m\u001b[1;33m:\u001b[0m\u001b[1;36m4\u001b[0m\u001b[1;33m]\u001b[0m\u001b[1;33m\u001b[0m\u001b[1;33m\u001b[0m\u001b[0m\n\u001b[0m",
      "\u001b[1;31mNameError\u001b[0m: name 'test' is not defined"
     ]
    }
   ],
   "source": []
  },
  {
   "cell_type": "code",
   "execution_count": null,
   "metadata": {},
   "outputs": [],
   "source": []
  },
  {
   "cell_type": "code",
   "execution_count": null,
   "metadata": {},
   "outputs": [],
   "source": []
  }
 ],
 "metadata": {
  "kernelspec": {
   "display_name": "Python 3",
   "language": "python",
   "name": "python3"
  },
  "language_info": {
   "codemirror_mode": {
    "name": "ipython",
    "version": 3
   },
   "file_extension": ".py",
   "mimetype": "text/x-python",
   "name": "python",
   "nbconvert_exporter": "python",
   "pygments_lexer": "ipython3",
   "version": "3.8.3"
  }
 },
 "nbformat": 4,
 "nbformat_minor": 4
}
