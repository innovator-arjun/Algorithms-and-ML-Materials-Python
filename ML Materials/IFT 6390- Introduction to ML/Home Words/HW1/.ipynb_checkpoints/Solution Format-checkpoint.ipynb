{
 "cells": [
  {
   "cell_type": "code",
   "execution_count": 173,
   "metadata": {},
   "outputs": [],
   "source": [
    "import numpy as np\n",
    "runtime_hard={}\n",
    "runtime_soft={}\n",
    "######## DO NOT MODIFY THIS FUNCTION ########\n",
    "def draw_rand_label(x, label_list):\n",
    "    seed = abs(np.sum(x))\n",
    "    while seed < 1:\n",
    "        seed = 10 * seed\n",
    "    seed = int(1000000 * seed)\n",
    "    np.random.seed(seed)\n",
    "    return np.random.choice(label_list)\n",
    "#############################################\n",
    "\n",
    "\n",
    "class Q1:\n",
    "\n",
    "    def feature_means(self, banknote):\n",
    "        features=banknote[:,:4]\n",
    "        return np.mean(features,axis=0)\n",
    "\n",
    "    def covariance_matrix(self, banknote):\n",
    "        features=banknote[:,:4]\n",
    "        return np.cov(features.T)\n",
    "\n",
    "    def feature_means_class_1(self, banknote):\n",
    "        data_class_1 = banknote[banknote[:,4] == 1, :4]\n",
    "        return np.mean(data_class_1,axis=0)\n",
    "\n",
    "    def covariance_matrix_class_1(self, banknote):\n",
    "        data_class_1 = banknote[banknote[:,4] == 1, :4]\n",
    "        return np.cov(data_class_1.T)\n",
    "\n",
    "\n",
    "class HardParzen:\n",
    "    def __init__(self, h):\n",
    "        self.h = h\n",
    "\n",
    "    def train(self, train_inputs, train_labels):\n",
    "        self.label_list = np.unique(train_labels)\n",
    "        self.label_length=len(np.unique(train_labels))\n",
    "        self.train_inputs=train_inputs\n",
    "        self.train_labels=train_labels\n",
    "\n",
    "    def compute_predictions(self, test_data):\n",
    "        neighbours=[]\n",
    "        \n",
    "        length=test_data.shape[0]\n",
    "        classes_pred=np.zeros(length)\n",
    "        \n",
    "        counts=np.ones((length,self.label_length))\n",
    "        \n",
    "        radius=self.h\n",
    "        for i in range(0,len(test_data)):\n",
    "            \n",
    "            distance=(np.sum((np.abs(test_data[i] - self.train_inputs)) ** 2, axis=1)) ** (1.0 / 2)\n",
    "            neighbours = np.array([j for j in range(len(distance)) if distance[j] < radius])\n",
    "            for k in neighbours:\n",
    "                counts[i,int(self.train_labels[k])]+=1\n",
    "            if max(counts[i,:])==1:\n",
    "                classes_pred[i]=draw_rand_label(test_data[i],self.label_list)\n",
    "            else:\n",
    "                classes_pred[i] = np.argmax(counts[i, :])\n",
    "        return classes_pred\n",
    "\n",
    "\n",
    "class SoftRBFParzen:\n",
    "    def __init__(self, sigma):\n",
    "        self.sigma  = sigma\n",
    "\n",
    "    def train(self, train_inputs, train_labels):\n",
    "        self.label_list = np.unique(train_labels)\n",
    "        self.label_length=len(np.unique(train_labels))\n",
    "        self.train_inputs=train_inputs\n",
    "        self.train_labels=train_labels\n",
    "\n",
    "    def compute_predictions(self, test_data):\n",
    "        neighbours=[]\n",
    "        \n",
    "        length=test_data.shape[0]\n",
    "        classes_pred=np.zeros(length)\n",
    "        counts=np.ones((length,self.label_length))\n",
    "        for i in range(len(test_data)):\n",
    "            distances = (np.sum((np.abs(test_data[i] - self.train_inputs)) ** 2, axis=1)) ** (1.0 / 2)\n",
    "            dic = dict.fromkeys(self.label_list, 1)\n",
    "            for j in range(len(distances)):\n",
    "                sig=(1/(np.sqrt(2*np.pi)*self.sigma))*np.exp(-(distances[j]**2/(2*self.sigma**2)))\n",
    "                dic[self.train_labels[j]]+=sig\n",
    "            classes_pred[i]= max(dic, key=dic.get)\n",
    "        return classes_pred\n",
    "\n",
    "\n",
    "def split_dataset(banknote):\n",
    "    length=list(range(0,len(banknote)))\n",
    "    train_index=[]\n",
    "    validation_index=[]\n",
    "    test_index=[]\n",
    "    \n",
    "    for i in range(0,len(length)):\n",
    "        if i%5==0 or i%5==1 or i%5==2:\n",
    "            train_index.append(i)\n",
    "        elif i%5==3:\n",
    "            validation_index.append(i)\n",
    "        elif i%5==4:\n",
    "            test_index.append(i)\n",
    "    train=banknote[train_index]\n",
    "    validation=banknote[validation_index]\n",
    "    test=banknote[test_index]\n",
    "    return (train,validation,test)\n",
    "\n",
    "\n",
    "class ErrorRate:\n",
    "    def __init__(self, x_train, y_train, x_val, y_val):\n",
    "        self.x_train = x_train\n",
    "        self.y_train = y_train\n",
    "        self.x_val = x_val\n",
    "        self.y_val = y_val\n",
    "\n",
    "    def hard_parzen(self, h):\n",
    "        knn_hard=HardParzen(h)\n",
    "        knn_hard.train(self.x_train,self.y_train)\n",
    "        knn_hard_pred=knn_hard.compute_predictions(self.x_val)\n",
    "\n",
    "        n_classes = len(np.unique(knn_hard_pred))\n",
    "        total_correct=0\n",
    "        for i in range(0,len(knn_hard_pred)):\n",
    "            if knn_hard_pred[i]==self.y_val[i]:\n",
    "                total_correct+=1       \n",
    "        total_pred=len(knn_hard_pred)        \n",
    "        \n",
    "        return 1-((float(total_correct) / float(total_pred)))\n",
    "\n",
    "    def soft_parzen(self, sigma):\n",
    "        knn_soft=SoftRBFParzen(sigma)\n",
    "        knn_soft.train(self.x_train,self.y_train)\n",
    "        knn_soft_pred=knn_soft.compute_predictions(self.x_val)\n",
    "        correct=0\n",
    "        for j in range(0,len(knn_soft_pred)):\n",
    "            if knn_soft_pred[j]==self.y_val[j]:\n",
    "                correct+=1\n",
    "        total_pred=len(knn_soft_pred) \n",
    "        return 1-((float(correct) / float(total_pred)))\n",
    "\n",
    "def get_test_errors(banknote):\n",
    "#     split_dataset(banknote)\n",
    "    dataset=split_dataset(banknote)\n",
    "    test=dataset[2]\n",
    "    test_label=test[:,2]\n",
    "\n",
    "    train=dataset[0]\n",
    "    train_label=train[:,2]\n",
    "    error=ErrorRate(train[:,:2],train_label,test[:,:2],test_label)\n",
    "    h=[0.01, 0.1, 0.2, 0.3, 0.4, 0.5, 1.0, 3.0, 10.0, 20.0]\n",
    "    h_error={}\n",
    "    h_runtime={}\n",
    "    for i in range(len(h)):\n",
    "        t1 = time.perf_counter()\n",
    "        h_error[h[i]]= error.hard_parzen(h[i])\n",
    "        t2 = time.perf_counter()\n",
    "        h_runtime[h[i]]=t2-t1\n",
    "    sigma=[0.01, 0.1, 0.2, 0.3, 0.4, 0.5, 1.0, 3.0, 10.0, 20.0]\n",
    "    s_error={}\n",
    "    s_runtime={}\n",
    "    for i in range(len(sigma)):\n",
    "        t1 = time.perf_counter()\n",
    "        s_error[sigma[i]]= error.soft_parzen(sigma[i])\n",
    "        t2 = time.perf_counter()\n",
    "        s_runtime[sigma[i]]=t2-t1\n",
    "    soft_min=min(s_error,key=s_error.get)\n",
    "    hard_min=min(h_error,key=h_error.get)\n",
    "#     return np.array([h_error[hard_min],s_error[hard_min] ])\n",
    "    return h_error,s_error\n",
    "#     return h_runtime,s_runtime\n",
    "\n",
    "def random_projections(X, A):\n",
    "    res=X.dot(A)\n",
    "    res=res/np.sqrt(2)\n",
    "    return res"
   ]
  },
  {
   "cell_type": "code",
   "execution_count": null,
   "metadata": {},
   "outputs": [],
   "source": []
  },
  {
   "cell_type": "code",
   "execution_count": 181,
   "metadata": {},
   "outputs": [
    {
     "name": "stdout",
     "output_type": "stream",
     "text": [
      "0\n",
      "1\n",
      "2\n",
      "3\n",
      "4\n",
      "5\n",
      "6\n",
      "7\n",
      "8\n",
      "9\n",
      "10\n",
      "11\n",
      "12\n",
      "13\n",
      "14\n",
      "15\n",
      "16\n",
      "17\n",
      "18\n",
      "19\n",
      "20\n",
      "21\n",
      "22\n",
      "23\n",
      "24\n",
      "25\n",
      "26\n",
      "27\n",
      "28\n",
      "29\n",
      "30\n",
      "31\n",
      "32\n",
      "33\n",
      "34\n",
      "35\n",
      "36\n",
      "37\n",
      "38\n",
      "39\n",
      "40\n",
      "41\n",
      "42\n",
      "43\n",
      "44\n",
      "45\n",
      "46\n",
      "47\n",
      "48\n",
      "49\n",
      "50\n",
      "51\n",
      "52\n",
      "53\n",
      "54\n",
      "55\n",
      "56\n",
      "57\n",
      "58\n",
      "59\n",
      "60\n",
      "61\n",
      "62\n",
      "63\n",
      "64\n",
      "65\n",
      "66\n",
      "67\n",
      "68\n",
      "69\n",
      "70\n",
      "71\n",
      "72\n",
      "73\n",
      "74\n",
      "75\n",
      "76\n",
      "77\n",
      "78\n",
      "79\n",
      "80\n",
      "81\n",
      "82\n",
      "83\n",
      "84\n",
      "85\n",
      "86\n",
      "87\n",
      "88\n",
      "89\n",
      "90\n",
      "91\n",
      "92\n",
      "93\n",
      "94\n",
      "95\n",
      "96\n",
      "97\n",
      "98\n",
      "99\n",
      "100\n",
      "101\n",
      "102\n",
      "103\n",
      "104\n",
      "105\n",
      "106\n",
      "107\n",
      "108\n",
      "109\n",
      "110\n",
      "111\n",
      "112\n",
      "113\n",
      "114\n",
      "115\n",
      "116\n",
      "117\n",
      "118\n",
      "119\n",
      "120\n",
      "121\n",
      "122\n",
      "123\n",
      "124\n",
      "125\n",
      "126\n",
      "127\n",
      "128\n",
      "129\n",
      "130\n",
      "131\n",
      "132\n",
      "133\n",
      "134\n",
      "135\n",
      "136\n",
      "137\n",
      "138\n",
      "139\n",
      "140\n",
      "141\n",
      "142\n",
      "143\n",
      "144\n",
      "145\n",
      "146\n",
      "147\n",
      "148\n",
      "149\n",
      "150\n",
      "151\n",
      "152\n",
      "153\n",
      "154\n",
      "155\n",
      "156\n",
      "157\n",
      "158\n",
      "159\n",
      "160\n",
      "161\n",
      "162\n",
      "163\n",
      "164\n",
      "165\n",
      "166\n",
      "167\n",
      "168\n",
      "169\n",
      "170\n",
      "171\n",
      "172\n",
      "173\n",
      "174\n",
      "175\n",
      "176\n",
      "177\n",
      "178\n",
      "179\n",
      "180\n",
      "181\n",
      "182\n",
      "183\n",
      "184\n",
      "185\n",
      "186\n",
      "187\n",
      "188\n",
      "189\n",
      "190\n",
      "191\n",
      "192\n",
      "193\n",
      "194\n",
      "195\n",
      "196\n",
      "197\n",
      "198\n",
      "199\n",
      "200\n",
      "201\n",
      "202\n",
      "203\n",
      "204\n",
      "205\n",
      "206\n",
      "207\n",
      "208\n",
      "209\n",
      "210\n",
      "211\n",
      "212\n",
      "213\n",
      "214\n",
      "215\n",
      "216\n",
      "217\n",
      "218\n",
      "219\n",
      "220\n",
      "221\n",
      "222\n",
      "223\n",
      "224\n",
      "225\n",
      "226\n",
      "227\n",
      "228\n",
      "229\n",
      "230\n",
      "231\n",
      "232\n",
      "233\n",
      "234\n",
      "235\n",
      "236\n",
      "237\n",
      "238\n",
      "239\n",
      "240\n",
      "241\n",
      "242\n",
      "243\n",
      "244\n",
      "245\n",
      "246\n",
      "247\n",
      "248\n",
      "249\n",
      "250\n",
      "251\n",
      "252\n",
      "253\n",
      "254\n",
      "255\n",
      "256\n",
      "257\n",
      "258\n",
      "259\n",
      "260\n",
      "261\n",
      "262\n",
      "263\n",
      "264\n",
      "265\n",
      "266\n",
      "267\n",
      "268\n",
      "269\n",
      "270\n",
      "271\n",
      "272\n",
      "273\n",
      "274\n",
      "275\n",
      "276\n",
      "277\n",
      "278\n",
      "279\n",
      "280\n",
      "281\n",
      "282\n",
      "283\n",
      "284\n",
      "285\n",
      "286\n",
      "287\n",
      "288\n",
      "289\n",
      "290\n",
      "291\n",
      "292\n",
      "293\n",
      "294\n",
      "295\n",
      "296\n",
      "297\n",
      "298\n",
      "299\n",
      "300\n",
      "301\n",
      "302\n",
      "303\n",
      "304\n",
      "305\n",
      "306\n",
      "307\n",
      "308\n",
      "309\n",
      "310\n",
      "311\n",
      "312\n",
      "313\n",
      "314\n",
      "315\n",
      "316\n",
      "317\n",
      "318\n",
      "319\n",
      "320\n",
      "321\n",
      "322\n",
      "323\n",
      "324\n",
      "325\n",
      "326\n",
      "327\n",
      "328\n",
      "329\n",
      "330\n",
      "331\n",
      "332\n",
      "333\n",
      "334\n",
      "335\n",
      "336\n",
      "337\n",
      "338\n",
      "339\n",
      "340\n",
      "341\n",
      "342\n",
      "343\n",
      "344\n",
      "345\n",
      "346\n",
      "347\n",
      "348\n",
      "349\n",
      "350\n",
      "351\n",
      "352\n",
      "353\n",
      "354\n",
      "355\n",
      "356\n",
      "357\n",
      "358\n",
      "359\n",
      "360\n",
      "361\n",
      "362\n",
      "363\n",
      "364\n",
      "365\n",
      "366\n",
      "367\n",
      "368\n",
      "369\n",
      "370\n",
      "371\n",
      "372\n",
      "373\n",
      "374\n",
      "375\n",
      "376\n",
      "377\n",
      "378\n",
      "379\n",
      "380\n",
      "381\n",
      "382\n",
      "383\n",
      "384\n",
      "385\n",
      "386\n",
      "387\n",
      "388\n",
      "389\n",
      "390\n",
      "391\n",
      "392\n",
      "393\n",
      "394\n",
      "395\n",
      "396\n",
      "397\n",
      "398\n",
      "399\n",
      "400\n",
      "401\n",
      "402\n",
      "403\n",
      "404\n",
      "405\n",
      "406\n",
      "407\n",
      "408\n",
      "409\n",
      "410\n",
      "411\n",
      "412\n",
      "413\n",
      "414\n",
      "415\n",
      "416\n",
      "417\n",
      "418\n",
      "419\n",
      "420\n",
      "421\n",
      "422\n",
      "423\n",
      "424\n",
      "425\n",
      "426\n",
      "427\n",
      "428\n",
      "429\n",
      "430\n",
      "431\n",
      "432\n",
      "433\n",
      "434\n",
      "435\n",
      "436\n",
      "437\n",
      "438\n",
      "439\n",
      "440\n",
      "441\n",
      "442\n",
      "443\n",
      "444\n",
      "445\n",
      "446\n",
      "447\n",
      "448\n",
      "449\n",
      "450\n",
      "451\n",
      "452\n",
      "453\n",
      "454\n",
      "455\n",
      "456\n",
      "457\n",
      "458\n",
      "459\n",
      "460\n",
      "461\n",
      "462\n",
      "463\n",
      "464\n",
      "465\n",
      "466\n",
      "467\n",
      "468\n",
      "469\n",
      "470\n",
      "471\n",
      "472\n",
      "473\n",
      "474\n",
      "475\n",
      "476\n",
      "477\n",
      "478\n",
      "479\n",
      "480\n",
      "481\n",
      "482\n",
      "483\n",
      "484\n",
      "485\n",
      "486\n",
      "487\n",
      "488\n",
      "489\n",
      "490\n",
      "491\n",
      "492\n",
      "493\n",
      "494\n",
      "495\n",
      "496\n",
      "497\n",
      "498\n"
     ]
    }
   ],
   "source": [
    "h_res=np.array([0.47080292, 0.42335766, 0.33211679, 0.27737226, 0.20072993, 0.16058394,\n",
    "  0.1459854,  0.13138686, 0.20437956, 0.29927007])\n",
    "s_res=np.array([0.39781022, 0.15328467, 0.14963504, 0.1350365,  0.13868613, 0.1459854,\n",
    "  0.13138686, 0.15693431, 0.19343066, 0.32116788])\n",
    "for i in range(0,499):\n",
    "    temp=np.genfromtxt('data_banknote_authentication.txt',delimiter=',')\n",
    "    X_train=temp[:,:4]\n",
    "    A=np.random.normal(0,1,size=(4,2))\n",
    "\n",
    "    random_proj=random_projections(X_train,A)\n",
    "    banknote_proj=np.column_stack((random_proj,temp[:,4]))\n",
    "    \n",
    "    best=get_test_errors(banknote_proj)\n",
    "\n",
    "    h_arr=np.array(list(best[0].values()))\n",
    "    s_arr=np.array(list(best[1].values()))\n",
    "\n",
    "    h_res=np.vstack( (h_res,h_arr))\n",
    "    s_res=np.vstack( (s_res,s_arr))\n",
    "    print(i)\n"
   ]
  },
  {
   "cell_type": "code",
   "execution_count": 182,
   "metadata": {},
   "outputs": [],
   "source": [
    "h_res_avg=np.mean(h_res,axis=0)\n",
    "\n",
    "s_res_avg=np.mean(s_res,axis=0)\n"
   ]
  },
  {
   "cell_type": "code",
   "execution_count": 183,
   "metadata": {},
   "outputs": [
    {
     "name": "stdout",
     "output_type": "stream",
     "text": [
      "[0.48437956 0.38038686 0.25740146 0.18941606 0.15754745 0.14281752\n",
      " 0.13537226 0.18713139 0.33908029 0.40778832]\n",
      "[0.35924818 0.12151825 0.1159854  0.11751825 0.12050365 0.12372993\n",
      " 0.14316788 0.20455474 0.35446715 0.41864964]\n"
     ]
    }
   ],
   "source": [
    "print(h_res_avg)\n",
    "print(s_res_avg)"
   ]
  },
  {
   "cell_type": "code",
   "execution_count": null,
   "metadata": {},
   "outputs": [],
   "source": []
  },
  {
   "cell_type": "code",
   "execution_count": 199,
   "metadata": {},
   "outputs": [
    {
     "name": "stdout",
     "output_type": "stream",
     "text": [
      "[1.e-02 1.e-01 2.e-01 3.e-01 4.e-01 5.e-01 1.e+00 3.e+00 1.e+01 2.e+01]\n"
     ]
    },
    {
     "data": {
      "text/plain": [
       "Text(0.5, 1.0, 'Error Analysis')"
      ]
     },
     "execution_count": 199,
     "metadata": {},
     "output_type": "execute_result"
    },
    {
     "data": {
      "image/png": "[encoded data removed]",
      "text/plain": [
       "<Figure size 432x288 with 1 Axes>"
      ]
     },
     "metadata": {
      "needs_background": "light"
     },
     "output_type": "display_data"
    }
   ],
   "source": [
    "import matplotlib.pyplot as plt\n",
    "li=np.array([0.01, 0.1, 0.2, 0.3, 0.4, 0.5, 1.0, 3.0, 10.0, 20.0])\n",
    "print(li)\n",
    "plt.plot(li, h_res_avg,label='Hard Parzen')\n",
    "plt.plot(li,s_res_avg,label='Soft Parzen')\n",
    "plt.legend()\n",
    "plt.xlabel('h/sigma values')\n",
    "plt.ylabel('error rate ')\n",
    "plt.title('Error Analysis')"
   ]
  },
  {
   "cell_type": "code",
   "execution_count": 194,
   "metadata": {},
   "outputs": [
    {
     "data": {
      "image/png": "[encoded data removed]",
      "text/plain": [
       "<Figure size 432x288 with 1 Axes>"
      ]
     },
     "metadata": {
      "needs_background": "light"
     },
     "output_type": "display_data"
    }
   ],
   "source": [
    "Year = [1920,1930,1940,1950,1960,1970,1980,1990,2000,2010]\n",
    "Unemployment_Rate = [9.8,12,8,7.2,6.9,7,6.5,6.2,5.5,6.3]\n",
    "  \n",
    "plt.plot(Year, Unemployment_Rate)\n",
    "plt.title('Unemployment Rate Vs Year')\n",
    "plt.xlabel('Year')\n",
    "plt.ylabel('Unemployment Rate')\n",
    "plt.show()"
   ]
  },
  {
   "cell_type": "code",
   "execution_count": 114,
   "metadata": {},
   "outputs": [
    {
     "data": {
      "text/plain": [
       "array(dict_values([0.21137710000039078, 0.15897300000142423, 0.22847249999904307, 0.1561122000020987, 0.13858370000161813, 0.14344079999864334, 0.15101100000174483, 0.18800809999811463, 0.5485416000010446, 0.7132577000011224]),\n",
       "      dtype=object)"
      ]
     },
     "execution_count": 114,
     "metadata": {},
     "output_type": "execute_result"
    }
   ],
   "source": [
    "np.array(best[0].values())"
   ]
  },
  {
   "cell_type": "code",
   "execution_count": 148,
   "metadata": {},
   "outputs": [
    {
     "ename": "NameError",
     "evalue": "name 'h_ress' is not defined",
     "output_type": "error",
     "traceback": [
      "\u001b[1;31m---------------------------------------------------------------------------\u001b[0m",
      "\u001b[1;31mNameError\u001b[0m                                 Traceback (most recent call last)",
      "\u001b[1;32m<ipython-input-148-dd4250a49ef3>\u001b[0m in \u001b[0;36m<module>\u001b[1;34m\u001b[0m\n\u001b[0;32m      2\u001b[0m \u001b[0ms_arrr\u001b[0m\u001b[1;33m=\u001b[0m\u001b[0mnp\u001b[0m\u001b[1;33m.\u001b[0m\u001b[0marray\u001b[0m\u001b[1;33m(\u001b[0m\u001b[0mlist\u001b[0m\u001b[1;33m(\u001b[0m\u001b[0mbest\u001b[0m\u001b[1;33m[\u001b[0m\u001b[1;36m1\u001b[0m\u001b[1;33m]\u001b[0m\u001b[1;33m.\u001b[0m\u001b[0mvalues\u001b[0m\u001b[1;33m(\u001b[0m\u001b[1;33m)\u001b[0m\u001b[1;33m)\u001b[0m\u001b[1;33m)\u001b[0m\u001b[1;33m\u001b[0m\u001b[1;33m\u001b[0m\u001b[0m\n\u001b[0;32m      3\u001b[0m \u001b[1;33m\u001b[0m\u001b[0m\n\u001b[1;32m----> 4\u001b[1;33m \u001b[0mh_ress\u001b[0m\u001b[1;33m=\u001b[0m\u001b[0mnp\u001b[0m\u001b[1;33m.\u001b[0m\u001b[0mvstack\u001b[0m\u001b[1;33m(\u001b[0m \u001b[1;33m(\u001b[0m\u001b[0mh_ress\u001b[0m\u001b[1;33m,\u001b[0m\u001b[0mh_arr\u001b[0m\u001b[1;33m)\u001b[0m \u001b[1;33m)\u001b[0m\u001b[1;33m\u001b[0m\u001b[1;33m\u001b[0m\u001b[0m\n\u001b[0m\u001b[0;32m      5\u001b[0m \u001b[0mprint\u001b[0m\u001b[1;33m(\u001b[0m\u001b[0mh_ress\u001b[0m\u001b[1;33m)\u001b[0m\u001b[1;33m\u001b[0m\u001b[1;33m\u001b[0m\u001b[0m\n",
      "\u001b[1;31mNameError\u001b[0m: name 'h_ress' is not defined"
     ]
    }
   ],
   "source": [
    "h_arrr=np.array(list(best[0].values()))\n",
    "s_arrr=np.array(list(best[1].values()))\n",
    "\n",
    "h_ress=np.vstack( (h_ress,h_arr) )\n",
    "print(h_ress)"
   ]
  },
  {
   "cell_type": "code",
   "execution_count": null,
   "metadata": {},
   "outputs": [],
   "source": [
    "np."
   ]
  },
  {
   "cell_type": "code",
   "execution_count": 146,
   "metadata": {},
   "outputs": [
    {
     "name": "stdout",
     "output_type": "stream",
     "text": [
      "[[0.1627719 0.1445142 0.146569  0.1420796 0.1549656 0.1401445 0.1566806\n",
      "  0.1782113 0.5506031 0.6390533]\n",
      " [2.3074178 2.2947799 2.2317911 2.1608443 2.2213071 2.2046043 2.116726\n",
      "  2.1719479 4.7158014 3.6008611]\n",
      " [0.1627719 0.1445142 0.146569  0.1420796 0.1549656 0.1401445 0.1566806\n",
      "  0.1782113 0.5506031 0.6390533]]\n"
     ]
    }
   ],
   "source": [
    "res=np.vstack((res,arr1))\n",
    "print(res)"
   ]
  },
  {
   "cell_type": "code",
   "execution_count": 156,
   "metadata": {},
   "outputs": [
    {
     "name": "stdout",
     "output_type": "stream",
     "text": [
      "[0.87765387 0.86126943 0.84164303 0.81500117 0.8437461  0.82829777\n",
      " 0.81002907 0.84279017 1.93900253 1.62632257]\n",
      "(1372, 5)\n"
     ]
    }
   ],
   "source": [
    "h_res_avg=np.mean(h_res,axis=0)\n",
    "print(avg)\n",
    "\n",
    "print(res.shape)\n",
    "# h ∈ {0.01, 0.1, 0.2, 0.3, 0.4, 0.5, 1.0, 3.0, 10.0, 20.0}\n",
    "# σ ∈ {0.01, 0.1, 0.2, 0.3, 0.4, 0.5, 1.0, 3.0, 10.0, 20.0}"
   ]
  },
  {
   "cell_type": "code",
   "execution_count": 158,
   "metadata": {},
   "outputs": [
    {
     "name": "stdout",
     "output_type": "stream",
     "text": [
      "[0.16533677 0.16309955 0.157419   0.1597099  0.16706297 0.16426838\n",
      " 0.1664606  0.19096587 0.51049093 0.6808881 ]\n",
      "[[0.1627719 0.1445142 0.146569  0.1420796 0.1549656 0.1401445 0.1566806\n",
      "  0.1782113 0.5506031 0.6390533]\n",
      " [0.1743979 0.1659155 0.1500677 0.1664755 0.1572324 0.1611295 0.1575361\n",
      "  0.186208  0.4829296 0.7484054]\n",
      " [0.1546424 0.1677423 0.1664739 0.1701931 0.1967391 0.2022126 0.1979552\n",
      "  0.2194027 0.5225029 0.6696326]\n",
      " [0.1695349 0.1742262 0.1665654 0.1600914 0.1593148 0.1535869 0.1536705\n",
      "  0.1800415 0.4859281 0.6664611]]\n"
     ]
    }
   ],
   "source": [
    "print(h_res_avg)\n",
    "print(h_res)"
   ]
  },
  {
   "cell_type": "code",
   "execution_count": 65,
   "metadata": {},
   "outputs": [
    {
     "name": "stdout",
     "output_type": "stream",
     "text": [
      "({0.01: 0.1636859000000186, 0.1: 0.15863890000036918, 0.2: 0.16135420000000522, 0.3: 0.1285171999998056, 0.4: 0.1520850000001701, 0.5: 0.13916390000031242, 1.0: 0.16673110000010638, 3.0: 0.18227370000022347, 10.0: 0.5162836000004063, 20.0: 0.6741210000000137}, {0.01: 3.0228048999997554, 0.3: 2.8113422000001265, 0.4: 2.8107648000000154, 0.5: 2.5916659999998046, 1.0: 2.400005399999827, 3.0: 2.3165053999996417, 10.0: 2.2776159999998526, 20.0: 2.310085400000389})\n"
     ]
    }
   ],
   "source": [
    "banknote=np.genfromtxt('data_banknote_authentication.txt',delimiter=',')\n",
    "best=get_test_errors(banknote)\n",
    "print(best)\n",
    "# dataset=split_dataset(banknote)\n",
    "# test=dataset[2]\n",
    "# test_label=test[:,4]\n",
    "\n",
    "# train=dataset[0]\n",
    "# train_label=train[:,4]\n",
    "\n",
    "# er=ErrorRate(train[:,:4],train_label,test[:,:4],test_label)\n",
    "# res=er.hard_parzen(1)\n",
    "# print(res)\n",
    "\n",
    "# knn_hard=SoftRBFParzen(0.4)\n",
    "# knn_hard.train(train[:,:4],train_label)\n",
    "# knn_hard_pred=knn_hard.compute_predictions(test[:,:4])\n",
    "# print(knn_hard_pred)\n"
   ]
  },
  {
   "cell_type": "code",
   "execution_count": 177,
   "metadata": {},
   "outputs": [
    {
     "data": {
      "text/plain": [
       "array([0.41478057, 0.29251541, 0.1881021 , 0.1605199 , 0.14093118,\n",
       "       0.11259087, 0.12858621, 0.19327545, 0.3803515 , 0.42709909])"
      ]
     },
     "execution_count": 177,
     "metadata": {},
     "output_type": "execute_result"
    }
   ],
   "source": [
    "h_res_avg"
   ]
  },
  {
   "cell_type": "code",
   "execution_count": 179,
   "metadata": {},
   "outputs": [
    {
     "data": {
      "text/plain": [
       "Text(0.5, 1.0, 'Error Analysis')"
      ]
     },
     "execution_count": 179,
     "metadata": {},
     "output_type": "execute_result"
    },
    {
     "data": {
      "image/png": "[encoded data removed]",
      "text/plain": [
       "<Figure size 432x288 with 1 Axes>"
      ]
     },
     "metadata": {
      "needs_background": "light"
     },
     "output_type": "display_data"
    }
   ],
   "source": [
    "#Error Analysis- Q5\n",
    "import matplotlib.pyplot as plt\n",
    "plt.plot(h_res_avg, list(best[0].values()) , label='hard Parzen')\n",
    "# plt.plot(s_res_avg , list(best[1].values()),label='Soft Parzen')\n",
    "plt.legend();\n",
    "plt.xlabel('h/sigma values')\n",
    "plt.ylabel('error rate values')\n",
    "plt.title('Error Analysis')"
   ]
  },
  {
   "cell_type": "code",
   "execution_count": 73,
   "metadata": {},
   "outputs": [
    {
     "data": {
      "text/plain": [
       "Text(0.5, 1.0, 'Hard Parzen-run time analysis')"
      ]
     },
     "execution_count": 73,
     "metadata": {},
     "output_type": "execute_result"
    },
    {
     "data": {
      "image/png": "[encoded data removed]",
      "text/plain": [
       "<Figure size 432x288 with 1 Axes>"
      ]
     },
     "metadata": {
      "needs_background": "light"
     },
     "output_type": "display_data"
    }
   ],
   "source": [
    "#Q7 a\n",
    "plt.plot(list(best[0].keys()) , list(best[0].values()) , label='hard Parzen')\n",
    "plt.legend();\n",
    "plt.xlabel('h values')\n",
    "plt.ylabel('seconds')\n",
    "plt.title('Hard Parzen-run time analysis')"
   ]
  },
  {
   "cell_type": "code",
   "execution_count": 74,
   "metadata": {},
   "outputs": [
    {
     "data": {
      "text/plain": [
       "Text(0.5, 1.0, 'Soft Parzen-run time analysis')"
      ]
     },
     "execution_count": 74,
     "metadata": {},
     "output_type": "execute_result"
    },
    {
     "data": {
      "image/png": "[encoded data removed]",
      "text/plain": [
       "<Figure size 432x288 with 1 Axes>"
      ]
     },
     "metadata": {
      "needs_background": "light"
     },
     "output_type": "display_data"
    }
   ],
   "source": [
    "#Q7 b\n",
    "plt.plot(list(best[1].keys()) , list(best[1].values()),label='Soft Parzen')\n",
    "plt.legend();\n",
    "plt.xlabel('sigma values')\n",
    "plt.ylabel('seconds')\n",
    "plt.title('Soft Parzen-run time analysis')"
   ]
  },
  {
   "cell_type": "code",
   "execution_count": 75,
   "metadata": {},
   "outputs": [
    {
     "data": {
      "text/plain": [
       "({0.01: 0.1636859000000186,\n",
       "  0.1: 0.15863890000036918,\n",
       "  0.2: 0.16135420000000522,\n",
       "  0.3: 0.1285171999998056,\n",
       "  0.4: 0.1520850000001701,\n",
       "  0.5: 0.13916390000031242,\n",
       "  1.0: 0.16673110000010638,\n",
       "  3.0: 0.18227370000022347,\n",
       "  10.0: 0.5162836000004063,\n",
       "  20.0: 0.6741210000000137},\n",
       " {0.01: 3.0228048999997554,\n",
       "  0.3: 2.8113422000001265,\n",
       "  0.4: 2.8107648000000154,\n",
       "  0.5: 2.5916659999998046,\n",
       "  1.0: 2.400005399999827,\n",
       "  3.0: 2.3165053999996417,\n",
       "  10.0: 2.2776159999998526,\n",
       "  20.0: 2.310085400000389})"
      ]
     },
     "execution_count": 75,
     "metadata": {},
     "output_type": "execute_result"
    }
   ],
   "source": [
    "best"
   ]
  },
  {
   "cell_type": "code",
   "execution_count": 154,
   "metadata": {},
   "outputs": [
    {
     "data": {
      "text/plain": [
       "(274, 4)"
      ]
     },
     "execution_count": 154,
     "metadata": {},
     "output_type": "execute_result"
    }
   ],
   "source": [
    "test[:,:4].shape"
   ]
  },
  {
   "cell_type": "code",
   "execution_count": 139,
   "metadata": {},
   "outputs": [
    {
     "data": {
      "text/plain": [
       "array([[  0.32924 ,  -4.4552  ,   4.5718  ,  -0.9888  ],\n",
       "       [  1.5356  ,   9.1772  ,  -2.2718  ,  -0.73535 ],\n",
       "       [  3.404   ,   8.7261  ,  -2.9915  ,  -0.57242 ],\n",
       "       ...,\n",
       "       [  0.066129,   2.4914  ,  -2.9401  ,  -0.62156 ],\n",
       "       [ -2.8391  ,  -6.63    ,  10.4849  ,  -0.42113 ],\n",
       "       [ -3.7503  , -13.4586  ,  17.5932  ,  -2.7771  ]])"
      ]
     },
     "execution_count": 139,
     "metadata": {},
     "output_type": "execute_result"
    }
   ],
   "source": [
    "test[:,:4]"
   ]
  },
  {
   "cell_type": "code",
   "execution_count": 131,
   "metadata": {},
   "outputs": [
    {
     "name": "stdout",
     "output_type": "stream",
     "text": [
      "Ans [0. 0. 0. 0. 0. 0. 0. 0. 0. 0. 0. 0. 0. 0. 0. 0. 0. 0. 0. 0. 0. 0. 0. 0.\n",
      " 0. 0. 0. 0. 0. 0. 0. 0. 0. 0. 0. 0. 0. 0. 0. 0. 0. 0. 0. 0. 0. 0. 0. 0.\n",
      " 0. 0. 0. 0. 0. 0. 0. 0. 0. 0. 0. 0. 0. 0. 0. 0. 0. 0. 0. 0. 0. 0. 0. 0.\n",
      " 0. 0. 0. 0. 0. 0. 0. 0. 0. 0. 0. 0. 0. 0. 0. 0. 0. 0. 0. 0. 0. 0. 0. 0.\n",
      " 0. 0. 0. 0. 0. 0. 0. 0. 0. 0. 0. 0. 0. 0. 0. 0. 0. 0. 0. 0. 0. 0. 0. 0.\n",
      " 0. 0. 0. 0. 0. 0. 0. 0. 0. 0. 0. 0. 0. 0. 0. 0. 0. 0. 0. 0. 0. 0. 0. 0.\n",
      " 0. 0. 0. 0. 0. 0. 0. 0. 1. 1. 1. 1. 1. 1. 1. 1. 1. 1. 1. 1. 1. 1. 1. 1.\n",
      " 1. 1. 1. 1. 1. 1. 1. 1. 1. 1. 1. 1. 1. 1. 1. 1. 1. 1. 1. 1. 1. 1. 1. 1.\n",
      " 1. 1. 1. 1. 1. 1. 1. 1. 1. 1. 1. 1. 1. 1. 1. 1. 1. 1. 1. 1. 1. 1. 1. 1.\n",
      " 1. 1. 1. 1. 1. 1. 1. 1. 1. 1. 1. 1. 1. 1. 1. 1. 1. 1. 1. 1. 1. 1. 1. 1.\n",
      " 1. 1. 1. 1. 1. 1. 1. 1. 1. 1. 1. 1. 1. 1. 1. 1. 1. 1. 1. 1. 1. 1. 1. 1.\n",
      " 1. 1. 1. 1. 1. 1. 1. 1. 1. 1.]\n",
      "[0. 0. 0. 0. 0. 0. 0. 0. 0. 0. 0. 0. 0. 0. 0. 0. 0. 0. 0. 0. 0. 0. 0. 0.\n",
      " 0. 0. 0. 0. 0. 0. 0. 0. 0. 0. 0. 0. 0. 0. 0. 0. 0. 0. 0. 0. 0. 0. 0. 0.\n",
      " 0. 0. 0. 0. 0. 0. 0. 0. 0. 0. 0. 0. 0. 0. 0. 0. 0. 0. 0. 0. 0. 0. 0. 0.\n",
      " 0. 0. 0. 0. 0. 0. 0. 0. 0. 0. 0. 0. 0. 0. 0. 0. 0. 0. 0. 0. 0. 0. 0. 0.\n",
      " 0. 0. 0. 0. 0. 0. 0. 0. 0. 0. 0. 0. 0. 0. 0. 0. 0. 0. 0. 0. 0. 0. 0. 0.\n",
      " 0. 0. 0. 0. 0. 0. 0. 0. 0. 0. 0. 0. 0. 0. 0. 0. 0. 0. 0. 0. 0. 0. 0. 0.\n",
      " 0. 0. 0. 0. 0. 0. 0. 0. 1. 1. 1. 1. 1. 1. 1. 1. 1. 1. 1. 1. 1. 1. 1. 1.\n",
      " 1. 1. 1. 1. 1. 1. 1. 1. 1. 1. 1. 1. 1. 1. 1. 1. 1. 1. 1. 1. 1. 1. 1. 1.\n",
      " 1. 1. 1. 1. 1. 1. 1. 1. 1. 1. 1. 1. 1. 1. 1. 1. 1. 1. 1. 1. 1. 1. 1. 1.\n",
      " 1. 1. 1. 1. 1. 1. 1. 1. 1. 1. 1. 1. 1. 1. 1. 1. 1. 1. 1. 1. 1. 1. 1. 1.\n",
      " 1. 1. 1. 1. 1. 1. 1. 1. 1. 1. 1. 1. 1. 1. 1. 1. 1. 1. 1. 1. 1. 1. 1. 1.\n",
      " 1. 1. 1. 1. 1. 1. 1. 1. 1. 1.]\n"
     ]
    }
   ],
   "source": [
    "s=SoftRBFParzen(0.3)\n",
    "dataset=split_dataset(banknote)\n",
    "test=dataset[2]\n",
    "test_label=test[:,4]\n",
    "\n",
    "train=dataset[0]\n",
    "train_label=train[:,4]\n",
    "\n",
    "s.train(train[:,:4],train_label)\n",
    "res=s.compute_predictions(test[:,:4])\n",
    "\n",
    "print('Ans',res)\n",
    "\n",
    "print(test_label)"
   ]
  },
  {
   "cell_type": "code",
   "execution_count": 81,
   "metadata": {},
   "outputs": [
    {
     "ename": "NameError",
     "evalue": "name 'test' is not defined",
     "output_type": "error",
     "traceback": [
      "\u001b[1;31m---------------------------------------------------------------------------\u001b[0m",
      "\u001b[1;31mNameError\u001b[0m                                 Traceback (most recent call last)",
      "\u001b[1;32m<ipython-input-81-bcc0f9913a20>\u001b[0m in \u001b[0;36m<module>\u001b[1;34m\u001b[0m\n\u001b[1;32m----> 1\u001b[1;33m \u001b[0mtest\u001b[0m\u001b[1;33m[\u001b[0m\u001b[1;33m:\u001b[0m\u001b[1;33m,\u001b[0m\u001b[1;33m:\u001b[0m\u001b[1;36m4\u001b[0m\u001b[1;33m]\u001b[0m\u001b[1;33m\u001b[0m\u001b[1;33m\u001b[0m\u001b[0m\n\u001b[0m",
      "\u001b[1;31mNameError\u001b[0m: name 'test' is not defined"
     ]
    }
   ],
   "source": []
  },
  {
   "cell_type": "code",
   "execution_count": null,
   "metadata": {},
   "outputs": [],
   "source": []
  },
  {
   "cell_type": "code",
   "execution_count": null,
   "metadata": {},
   "outputs": [],
   "source": []
  }
 ],
 "metadata": {
  "kernelspec": {
   "display_name": "Python 3",
   "language": "python",
   "name": "python3"
  },
  "language_info": {
   "codemirror_mode": {
    "name": "ipython",
    "version": 3
   },
   "file_extension": ".py",
   "mimetype": "text/x-python",
   "name": "python",
   "nbconvert_exporter": "python",
   "pygments_lexer": "ipython3",
   "version": "3.8.3"
  }
 },
 "nbformat": 4,
 "nbformat_minor": 4
}
