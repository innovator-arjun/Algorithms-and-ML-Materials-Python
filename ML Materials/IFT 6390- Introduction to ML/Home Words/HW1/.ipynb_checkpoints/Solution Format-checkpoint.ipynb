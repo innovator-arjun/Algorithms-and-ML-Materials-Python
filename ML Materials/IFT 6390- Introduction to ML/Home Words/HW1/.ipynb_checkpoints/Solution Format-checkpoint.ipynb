{
 "cells": [
  {
   "cell_type": "code",
   "execution_count": 1,
   "metadata": {},
   "outputs": [],
   "source": [
    "import numpy as np\n",
    "\n",
    "######## DO NOT MODIFY THIS FUNCTION ########\n",
    "def draw_rand_label(x, label_list):\n",
    "    seed = abs(np.sum(x))\n",
    "    while seed < 1:\n",
    "        seed = 10 * seed\n",
    "    seed = int(1000000 * seed)\n",
    "    np.random.seed(seed)\n",
    "    return np.random.choice(label_list)\n",
    "#############################################\n",
    "\n",
    "\n",
    "class Q1:\n",
    "\n",
    "    def feature_means(self, banknote):\n",
    "        features=banknote[:,:4]\n",
    "        return np.mean(features,axis=0)\n",
    "\n",
    "    def covariance_matrix(self, banknote):\n",
    "        features=banknote[:,:4]\n",
    "        return np.cov(features.T)\n",
    "\n",
    "    def feature_means_class_1(self, banknote):\n",
    "        data_class_1 = banknote[banknote[:,4] == 1, :4]\n",
    "        return np.mean(data_class_1,axis=0)\n",
    "\n",
    "    def covariance_matrix_class_1(self, banknote):\n",
    "        data_class_1 = banknote[banknote[:,4] == 1, :4]\n",
    "        return np.cov(data_class_1.T)\n",
    "\n",
    "\n",
    "class HardParzen:\n",
    "    def __init__(self, h):\n",
    "        self.h = h\n",
    "\n",
    "    def train(self, train_inputs, train_labels):\n",
    "        self.label_list = np.unique(train_labels)\n",
    "        self.label_length=len(np.unique(train_labels))\n",
    "        self.train_inputs=train_inputs\n",
    "        self.train_labels=train_labels\n",
    "\n",
    "    def compute_predictions(self, test_data):\n",
    "        neighbours=[]\n",
    "        \n",
    "        length=test_data.shape[0]\n",
    "        classes_pred=np.zeros(length)\n",
    "        \n",
    "        counts=np.ones((length,self.label_length))\n",
    "\n",
    "        radius=self.h\n",
    "        for i in range(0,len(test_data)):\n",
    "            \n",
    "            distance=(np.sum((np.abs(test_data[i] - self.train_inputs)) ** 2, axis=1)) ** (1.0 / 2)\n",
    "            neighbours = np.array([j for j in range(len(distance)) if distance[j] < radius])\n",
    "            for k in neighbours:\n",
    "                counts[i,int(self.train_labels[k])]+=1\n",
    "            if max(counts[i,:])==1:\n",
    "                classes_pred[i]=draw_rand_label(test_data[i],self.label_list)\n",
    "            else:\n",
    "                classes_pred[i] = np.argmax(counts[i, :])\n",
    "        return classes_pred\n",
    "\n",
    "\n",
    "class SoftRBFParzen:\n",
    "    def __init__(self, sigma):\n",
    "        self.sigma  = sigma\n",
    "\n",
    "    def train(self, train_inputs, train_labels):\n",
    "        self.label_list = np.unique(train_labels)\n",
    "        self.label_length=len(np.unique(train_labels))\n",
    "        self.train_inputs=train_inputs\n",
    "        self.train_labels=train_labels\n",
    "\n",
    "    def compute_predictions(self, test_data):\n",
    "        neighbours=[]\n",
    "        \n",
    "        length=test_data.shape[0]\n",
    "        classes_pred=np.zeros(length)\n",
    "        counts=np.ones((length,self.label_length))\n",
    "        for i in range(len(test_data)):\n",
    "            distances = (np.sum((np.abs(test_data[i] - self.train_inputs)) ** 2, axis=1)) ** (1.0 / 2)\n",
    "            dic = dict.fromkeys(self.label_list, 1)\n",
    "            for j in range(len(distances)):\n",
    "                sig=(1/(np.sqrt(2*np.pi)*self.sigma))*np.exp(-(distances[j]**2/(2*self.sigma**2)))\n",
    "                dic[self.train_labels[j]]+=sig\n",
    "            classes_pred[i]= max(dic, key=dic.get)\n",
    "        return classes_pred\n",
    "\n",
    "\n",
    "def split_dataset(banknote):\n",
    "    length=list(range(0,len(banknote)))\n",
    "    train_index=[]\n",
    "    validation_index=[]\n",
    "    test_index=[]\n",
    "    \n",
    "    for i in range(0,len(length)):\n",
    "        if i%5==0 or i%5==1 or i%5==2:\n",
    "            train_index.append(i)\n",
    "        elif i%5==3:\n",
    "            validation_index.append(i)\n",
    "        elif i%5==4:\n",
    "            test_index.append(i)\n",
    "    train=banknote[train_index]\n",
    "    validation=banknote[validation_index]\n",
    "    test=banknote[test_index]\n",
    "    return (train,validation,test)\n",
    "\n",
    "\n",
    "class ErrorRate:\n",
    "    def __init__(self, x_train, y_train, x_val, y_val):\n",
    "        self.x_train = x_train\n",
    "        self.y_train = y_train\n",
    "        self.x_val = x_val\n",
    "        self.y_val = y_val\n",
    "\n",
    "    def hard_parzen(self, h):\n",
    "        knn_hard=HardParzen(h)\n",
    "        knn_hard.train(self.x_train,self.y_train)\n",
    "        knn_hard_pred=knn_hard.compute_predictions(self.x_val)\n",
    "\n",
    "        n_classes = len(np.unique(knn_hard_pred))\n",
    "        total_correct=0\n",
    "        for i in range(0,len(knn_hard_pred)):\n",
    "            if knn_hard_pred[i]==self.y_val[i]:\n",
    "                total_correct+=1       \n",
    "        total_pred=len(knn_hard_pred)        \n",
    "        \n",
    "        return 1-((float(total_correct) / float(total_pred)))\n",
    "\n",
    "    def soft_parzen(self, sigma):\n",
    "        knn_soft=SoftRBFParzen(sigma)\n",
    "        knn_soft.train(self.x_train,self.y_train)\n",
    "        knn_soft_pred=knn_soft.compute_predictions(self.x_val)\n",
    "        correct=0\n",
    "        for j in range(0,len(knn_soft_pred)):\n",
    "            if knn_soft_pred[j]==self.y_val[j]:\n",
    "                correct+=1\n",
    "        total_pred=len(knn_soft_pred) \n",
    "        return 1-((float(correct) / float(total_pred)))\n",
    "\n",
    "\n",
    "def get_test_errors(banknote):\n",
    "    split_dataset(banknote)\n",
    "    dataset=split_dataset(banknote)\n",
    "    test=dataset[2]\n",
    "    test_label=test[:,4]\n",
    "\n",
    "    train=dataset[0]\n",
    "    train_label=train[:,4]\n",
    "    error=ErrorRate(train[:,:4],train_label,test[:,:4],test_label)\n",
    "    h=[0.01, 0.1, 0.2, 0.3, 0.4, 0.5, 1.0, 3.0, 10.0, 20.0]\n",
    "    h_error={}\n",
    "    for i in range(len(h)):\n",
    "        h_error[h[i]]= error.hard_parzen(h[i])\n",
    "            \n",
    "    sigma=[0.01, 0.1, 0.2, 0.3, 0.4, 0.5, 1.0, 3.0, 10.0, 20.0]\n",
    "    s_error={}\n",
    "    for i in range(len(sigma)):\n",
    "        s_error[sigma[i]]= error.soft_parzen(sigma[i])\n",
    "    soft_min=min(s_error,key=s_error.get)\n",
    "    hard_min=min(h_error,key=h_error.get)\n",
    "#     res=np.array([\n",
    "#         [hard_min,h_error[hard_min]],\n",
    "#         [soft_min,s_error[soft_min]]\n",
    "#     ])\n",
    "\n",
    "    return np.array([h_error[hard_min],s_error[hard_min] ])\n",
    "\n",
    "\n",
    "def random_projections(X, A):\n",
    "    res=X.dot(A)\n",
    "    res=res/np.sqrt(2)\n",
    "    return res"
   ]
  },
  {
   "cell_type": "code",
   "execution_count": 4,
   "metadata": {},
   "outputs": [
    {
     "name": "stdout",
     "output_type": "stream",
     "text": [
      "(6, 4)\n",
      "(4, 2)\n"
     ]
    }
   ],
   "source": [
    "X=np.array([[  0.32924 ,  -4.4552  ,   4.5718  ,  -0.9888  ],\n",
    "       [  1.5356  ,   9.1772  ,  -2.2718  ,  -0.73535 ],\n",
    "       [  3.404   ,   8.7261  ,  -2.9915  ,  -0.57242 ],\n",
    "       [  0.066129,   2.4914  ,  -2.9401  ,  -0.62156 ],\n",
    "       [ -2.8391  ,  -6.63    ,  10.4849  ,  -0.42113 ],\n",
    "       [ -3.7503  , -13.4586  ,  17.5932  ,  -2.7771  ]])\n",
    "\n",
    "A=np.array([\n",
    "    [10,10],\n",
    "    [20,20],\n",
    "    [30,30],\n",
    "    [40,40]\n",
    "])\n",
    "print(X.shape)\n",
    "print(A.shape)"
   ]
  },
  {
   "cell_type": "code",
   "execution_count": 8,
   "metadata": {},
   "outputs": [
    {
     "name": "stdout",
     "output_type": "stream",
     "text": [
      "[[  8.33707179   8.33707179]\n",
      " [ 71.65254435  71.65254435]\n",
      " [ 67.82582387  67.82582387]\n",
      " [-44.24799172 -44.24799172]\n",
      " [ 96.66913374  96.66913374]\n",
      " [ 77.80790888  77.80790888]]\n"
     ]
    }
   ],
   "source": [
    "res=X.dot(A)\n",
    "res=res/np.sqrt(2)\n",
    "print(res)"
   ]
  },
  {
   "cell_type": "code",
   "execution_count": 5,
   "metadata": {},
   "outputs": [],
   "source": [
    "# h ∈ {0.01, 0.1, 0.2, 0.3, 0.4, 0.5, 1.0, 3.0, 10.0, 20.0}\n",
    "# σ ∈ {0.01, 0.1, 0.2, 0.3, 0.4, 0.5, 1.0, 3.0, 10.0, 20.0}"
   ]
  },
  {
   "cell_type": "code",
   "execution_count": 6,
   "metadata": {},
   "outputs": [
    {
     "name": "stdout",
     "output_type": "stream",
     "text": [
      "Hard Parzen {0.01: 0.4744525547445255, 0.1: 0.4744525547445255, 0.2: 0.44160583941605835, 0.3: 0.36131386861313863, 0.4: 0.26277372262773724, 0.5: 0.1897810218978102, 1.0: 0.021897810218978075, 3.0: 0.007299270072992692, 10.0: 0.26277372262773724, 20.0: 0.36861313868613144}\n",
      "\n",
      "Soft Parzen {0.01: 0.44525547445255476, 0.1: 0.007299270072992692, 0.2: 0.0, 0.3: 0.0, 0.4: 0.0, 0.5: 0.0036496350364964014, 1.0: 0.007299270072992692, 3.0: 0.0036496350364964014, 10.0: 0.3175182481751825, 20.0: 0.42700729927007297}\n",
      "[3.         0.00729927]\n"
     ]
    }
   ],
   "source": [
    "banknote=np.genfromtxt('data_banknote_authentication.txt',delimiter=',')\n",
    "best=get_test_errors(banknote)\n",
    "print(best)\n",
    "# dataset=split_dataset(banknote)\n",
    "# test=dataset[2]\n",
    "# test_label=test[:,4]\n",
    "\n",
    "# train=dataset[0]\n",
    "# train_label=train[:,4]\n",
    "\n",
    "# er=ErrorRate(train[:,:4],train_label,test[:,:4],test_label)\n",
    "# res=er.hard_parzen(1)\n",
    "# print(res)\n",
    "\n",
    "# knn_hard=SoftRBFParzen(0.4)\n",
    "# knn_hard.train(train[:,:4],train_label)\n",
    "# knn_hard_pred=knn_hard.compute_predictions(test[:,:4])\n",
    "# print(knn_hard_pred)\n"
   ]
  },
  {
   "cell_type": "code",
   "execution_count": 68,
   "metadata": {},
   "outputs": [
    {
     "data": {
      "text/plain": [
       "array([[1, 2],\n",
       "       [3, 4]])"
      ]
     },
     "execution_count": 68,
     "metadata": {},
     "output_type": "execute_result"
    }
   ],
   "source": [
    "# # min(all_error,key=all_error.get)\n",
    "# np.array([[1,2],[3,4]])"
   ]
  },
  {
   "cell_type": "code",
   "execution_count": 81,
   "metadata": {},
   "outputs": [
    {
     "data": {
      "text/plain": [
       "array([1, 2])"
      ]
     },
     "execution_count": 81,
     "metadata": {},
     "output_type": "execute_result"
    }
   ],
   "source": [
    "np.array([1,2])"
   ]
  },
  {
   "cell_type": "code",
   "execution_count": 154,
   "metadata": {},
   "outputs": [
    {
     "data": {
      "text/plain": [
       "(274, 4)"
      ]
     },
     "execution_count": 154,
     "metadata": {},
     "output_type": "execute_result"
    }
   ],
   "source": [
    "test[:,:4].shape"
   ]
  },
  {
   "cell_type": "code",
   "execution_count": 139,
   "metadata": {},
   "outputs": [
    {
     "data": {
      "text/plain": [
       "array([[  0.32924 ,  -4.4552  ,   4.5718  ,  -0.9888  ],\n",
       "       [  1.5356  ,   9.1772  ,  -2.2718  ,  -0.73535 ],\n",
       "       [  3.404   ,   8.7261  ,  -2.9915  ,  -0.57242 ],\n",
       "       ...,\n",
       "       [  0.066129,   2.4914  ,  -2.9401  ,  -0.62156 ],\n",
       "       [ -2.8391  ,  -6.63    ,  10.4849  ,  -0.42113 ],\n",
       "       [ -3.7503  , -13.4586  ,  17.5932  ,  -2.7771  ]])"
      ]
     },
     "execution_count": 139,
     "metadata": {},
     "output_type": "execute_result"
    }
   ],
   "source": [
    "test[:,:4]"
   ]
  },
  {
   "cell_type": "code",
   "execution_count": 131,
   "metadata": {},
   "outputs": [
    {
     "name": "stdout",
     "output_type": "stream",
     "text": [
      "Ans [0. 0. 0. 0. 0. 0. 0. 0. 0. 0. 0. 0. 0. 0. 0. 0. 0. 0. 0. 0. 0. 0. 0. 0.\n",
      " 0. 0. 0. 0. 0. 0. 0. 0. 0. 0. 0. 0. 0. 0. 0. 0. 0. 0. 0. 0. 0. 0. 0. 0.\n",
      " 0. 0. 0. 0. 0. 0. 0. 0. 0. 0. 0. 0. 0. 0. 0. 0. 0. 0. 0. 0. 0. 0. 0. 0.\n",
      " 0. 0. 0. 0. 0. 0. 0. 0. 0. 0. 0. 0. 0. 0. 0. 0. 0. 0. 0. 0. 0. 0. 0. 0.\n",
      " 0. 0. 0. 0. 0. 0. 0. 0. 0. 0. 0. 0. 0. 0. 0. 0. 0. 0. 0. 0. 0. 0. 0. 0.\n",
      " 0. 0. 0. 0. 0. 0. 0. 0. 0. 0. 0. 0. 0. 0. 0. 0. 0. 0. 0. 0. 0. 0. 0. 0.\n",
      " 0. 0. 0. 0. 0. 0. 0. 0. 1. 1. 1. 1. 1. 1. 1. 1. 1. 1. 1. 1. 1. 1. 1. 1.\n",
      " 1. 1. 1. 1. 1. 1. 1. 1. 1. 1. 1. 1. 1. 1. 1. 1. 1. 1. 1. 1. 1. 1. 1. 1.\n",
      " 1. 1. 1. 1. 1. 1. 1. 1. 1. 1. 1. 1. 1. 1. 1. 1. 1. 1. 1. 1. 1. 1. 1. 1.\n",
      " 1. 1. 1. 1. 1. 1. 1. 1. 1. 1. 1. 1. 1. 1. 1. 1. 1. 1. 1. 1. 1. 1. 1. 1.\n",
      " 1. 1. 1. 1. 1. 1. 1. 1. 1. 1. 1. 1. 1. 1. 1. 1. 1. 1. 1. 1. 1. 1. 1. 1.\n",
      " 1. 1. 1. 1. 1. 1. 1. 1. 1. 1.]\n",
      "[0. 0. 0. 0. 0. 0. 0. 0. 0. 0. 0. 0. 0. 0. 0. 0. 0. 0. 0. 0. 0. 0. 0. 0.\n",
      " 0. 0. 0. 0. 0. 0. 0. 0. 0. 0. 0. 0. 0. 0. 0. 0. 0. 0. 0. 0. 0. 0. 0. 0.\n",
      " 0. 0. 0. 0. 0. 0. 0. 0. 0. 0. 0. 0. 0. 0. 0. 0. 0. 0. 0. 0. 0. 0. 0. 0.\n",
      " 0. 0. 0. 0. 0. 0. 0. 0. 0. 0. 0. 0. 0. 0. 0. 0. 0. 0. 0. 0. 0. 0. 0. 0.\n",
      " 0. 0. 0. 0. 0. 0. 0. 0. 0. 0. 0. 0. 0. 0. 0. 0. 0. 0. 0. 0. 0. 0. 0. 0.\n",
      " 0. 0. 0. 0. 0. 0. 0. 0. 0. 0. 0. 0. 0. 0. 0. 0. 0. 0. 0. 0. 0. 0. 0. 0.\n",
      " 0. 0. 0. 0. 0. 0. 0. 0. 1. 1. 1. 1. 1. 1. 1. 1. 1. 1. 1. 1. 1. 1. 1. 1.\n",
      " 1. 1. 1. 1. 1. 1. 1. 1. 1. 1. 1. 1. 1. 1. 1. 1. 1. 1. 1. 1. 1. 1. 1. 1.\n",
      " 1. 1. 1. 1. 1. 1. 1. 1. 1. 1. 1. 1. 1. 1. 1. 1. 1. 1. 1. 1. 1. 1. 1. 1.\n",
      " 1. 1. 1. 1. 1. 1. 1. 1. 1. 1. 1. 1. 1. 1. 1. 1. 1. 1. 1. 1. 1. 1. 1. 1.\n",
      " 1. 1. 1. 1. 1. 1. 1. 1. 1. 1. 1. 1. 1. 1. 1. 1. 1. 1. 1. 1. 1. 1. 1. 1.\n",
      " 1. 1. 1. 1. 1. 1. 1. 1. 1. 1.]\n"
     ]
    }
   ],
   "source": [
    "s=SoftRBFParzen(0.3)\n",
    "dataset=split_dataset(banknote)\n",
    "test=dataset[2]\n",
    "test_label=test[:,4]\n",
    "\n",
    "train=dataset[0]\n",
    "train_label=train[:,4]\n",
    "\n",
    "s.train(train[:,:4],train_label)\n",
    "res=s.compute_predictions(test[:,:4])\n",
    "\n",
    "print('Ans',res)\n",
    "print(test_label)"
   ]
  },
  {
   "cell_type": "code",
   "execution_count": 108,
   "metadata": {},
   "outputs": [
    {
     "data": {
      "text/plain": [
       "array([[  0.32924 ,  -4.4552  ,   4.5718  ,  -0.9888  ],\n",
       "       [  1.5356  ,   9.1772  ,  -2.2718  ,  -0.73535 ],\n",
       "       [  3.404   ,   8.7261  ,  -2.9915  ,  -0.57242 ],\n",
       "       ...,\n",
       "       [  0.066129,   2.4914  ,  -2.9401  ,  -0.62156 ],\n",
       "       [ -2.8391  ,  -6.63    ,  10.4849  ,  -0.42113 ],\n",
       "       [ -3.7503  , -13.4586  ,  17.5932  ,  -2.7771  ]])"
      ]
     },
     "execution_count": 108,
     "metadata": {},
     "output_type": "execute_result"
    }
   ],
   "source": [
    "test[:,:4]"
   ]
  },
  {
   "cell_type": "code",
   "execution_count": 93,
   "metadata": {},
   "outputs": [
    {
     "data": {
      "text/plain": [
       "array([[  0.32924 ,  -4.4552  ,   4.5718  ,  -0.9888  ,   0.      ],\n",
       "       [  1.5356  ,   9.1772  ,  -2.2718  ,  -0.73535 ,   0.      ],\n",
       "       [  3.404   ,   8.7261  ,  -2.9915  ,  -0.57242 ,   0.      ],\n",
       "       ...,\n",
       "       [  0.066129,   2.4914  ,  -2.9401  ,  -0.62156 ,   1.      ],\n",
       "       [ -2.8391  ,  -6.63    ,  10.4849  ,  -0.42113 ,   1.      ],\n",
       "       [ -3.7503  , -13.4586  ,  17.5932  ,  -2.7771  ,   1.      ]])"
      ]
     },
     "execution_count": 93,
     "metadata": {},
     "output_type": "execute_result"
    }
   ],
   "source": [
    "test"
   ]
  },
  {
   "cell_type": "code",
   "execution_count": null,
   "metadata": {},
   "outputs": [],
   "source": []
  }
 ],
 "metadata": {
  "kernelspec": {
   "display_name": "Python 3",
   "language": "python",
   "name": "python3"
  },
  "language_info": {
   "codemirror_mode": {
    "name": "ipython",
    "version": 3
   },
   "file_extension": ".py",
   "mimetype": "text/x-python",
   "name": "python",
   "nbconvert_exporter": "python",
   "pygments_lexer": "ipython3",
   "version": "3.8.3"
  }
 },
 "nbformat": 4,
 "nbformat_minor": 4
}
