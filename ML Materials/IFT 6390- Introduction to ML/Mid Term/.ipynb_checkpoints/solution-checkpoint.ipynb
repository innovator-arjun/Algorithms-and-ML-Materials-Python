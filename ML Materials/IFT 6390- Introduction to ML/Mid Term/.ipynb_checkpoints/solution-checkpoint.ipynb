{
 "cells": [
  {
   "cell_type": "code",
   "execution_count": null,
   "metadata": {
    "id": "DAgC8LQlqjWI"
   },
   "outputs": [],
   "source": [
    "import numpy as np"
   ]
  },
  {
   "cell_type": "markdown",
   "metadata": {
    "id": "My9adTIjPh5X"
   },
   "source": [
    "# IFT6390 - Lab Midterm Instructions\n",
    "\n",
    "You have exactly one hour to take this exam.\n",
    "\n",
    "You need to submit your solutions as a `.py` file named `solution.py` to the Gradescope entry `Lab Midterm`.\n",
    "\n",
    "Each function or method you are asked to implement is worth 1 point. 20% of the marks are given to visible autograder test cases for which the input and desired output is visible, and the remaining 80% of the points are given to autograder test cases for which you would not see the input and output."
   ]
  },
  {
   "cell_type": "markdown",
   "metadata": {
    "id": "N-9tttgVhw3v"
   },
   "source": [
    "# Python basics"
   ]
  },
  {
   "cell_type": "markdown",
   "metadata": {
    "id": "oXbA4_5uzqyG"
   },
   "source": [
    "## 1 - Favorite string\n",
    "\n",
    "Alice has a favorite string, `fav_string`. For her birthday, Alice’s friends decide to give her strings as birthday gifts. \n",
    "Alice will like a string if `fav_string` is a substring of it. A substring is a string formed by keeping contiguous caracters of the original string and removing the remaining characters around it (could remove zero characters).\n",
    "\n",
    "Given a list of strings, how many of them will Alice like?\n",
    "\n",
    "---\n",
    "\n",
    "Example:\n",
    "\n",
    "`fav_string='cod', input_list=['coding', 'crocodilian', 'doc', 'recodification']`\n",
    "\n",
    "`Output= 3`"
   ]
  },
  {
   "cell_type": "code",
   "execution_count": 1,
   "metadata": {
    "id": "QfunnlJliOVx"
   },
   "outputs": [
    {
     "name": "stdout",
     "output_type": "stream",
     "text": [
      "3\n"
     ]
    },
    {
     "data": {
      "text/plain": [
       "3"
      ]
     },
     "execution_count": 1,
     "metadata": {},
     "output_type": "execute_result"
    }
   ],
   "source": [
    "def count_fav_strings(fav_string, input_list):\n",
    "    \"\"\"\n",
    "    :fav_string: string\n",
    "    :input_list: list of strings\n",
    "    :return: int\n",
    "    \n",
    "    \"\"\"\n",
    "    count=0\n",
    "    for i in input_list:\n",
    "        if fav_string in i:\n",
    "            count+=1\n",
    "    print(count)\n",
    "    return count\n",
    "\n",
    "fav_string='cod'\n",
    "input_list=['coding', 'crocodilian', 'doc', 'recodification']\n",
    "\n",
    "count_fav_strings(fav_string, input_list)"
   ]
  },
  {
   "cell_type": "markdown",
   "metadata": {
    "id": "ggSSukL13gWK"
   },
   "source": [
    "## 2 - Strange list\n",
    "\n",
    "$n$ numbers are written on the board. Alice and Bob decide to play a game to create a list from the numbers.\n",
    "First, Alice selects the largest number on the board and places it in the first element of the list. Bob then picks the smallest number and sets it as the second element of the list. Now Alice picks the largest among the remaining numbers on the board and places it in the third element of the list. The game continues until there is no number remaining on the board.\n",
    "Your function should take the list of unorganized numbers and return Alice and Bob's new list.\n",
    "\n",
    "---\n",
    "\n",
    "Example:\n",
    "\n",
    "`input_list=[2, 5, 2, 7, 1, 6, 4]`\n",
    " \n",
    "`output_list=[7, 1, 6, 2, 5, 2, 4]`"
   ]
  },
  {
   "cell_type": "code",
   "execution_count": 15,
   "metadata": {
    "id": "hW-6UPPgid7l"
   },
   "outputs": [
    {
     "data": {
      "text/plain": [
       "[7, 1, 6, 2, 5, 2]"
      ]
     },
     "execution_count": 15,
     "metadata": {},
     "output_type": "execute_result"
    }
   ],
   "source": [
    "def strange_list(input_list):\n",
    "    \"\"\"\n",
    "    :input_list: list[float]\n",
    "    :return: list[float]\n",
    "    \"\"\" \n",
    "    res=[]\n",
    "    input_list.sort()\n",
    "    for i in range(0,int(len(input_list)/2)):\n",
    "        res.append(input_list[len(input_list)-i-1])\n",
    "        res.append(input_list[i])\n",
    "    if len(input_list)%2!=0:\n",
    "        res.append(input_list[int(len(input_list)/2)])\n",
    "\n",
    "    return res\n",
    "\n",
    "input_list=[2, 5, 2, 7, 1, 6]\n",
    "\n",
    "output_list=[7, 1, 6, 2, 5, 2, 4]\n",
    "\n",
    "strange_list(input_list)"
   ]
  },
  {
   "cell_type": "markdown",
   "metadata": {
    "id": "KyYup_TPjz40"
   },
   "source": [
    "## 3 - Robust mean\n",
    "Given a list of numbers $(a_1, ...., a_n)$, return the average of all elements except for the largest element and the smallest element. If there are multiple elements that have the maximal or minimal value, you should remove from the list exactly one maximal and exactly one minimal element before taking the average. For lists with two elements you should return the normal average, and for lists with less than two elements you should return None.\n",
    "\n",
    "---\n",
    "\n",
    "Example:\n",
    "\n",
    "`input_list=[1,2,3,4,10]`\n",
    "\n",
    "`Output= 3`"
   ]
  },
  {
   "cell_type": "code",
   "execution_count": 21,
   "metadata": {
    "id": "4AqrG_KKj_u-"
   },
   "outputs": [
    {
     "data": {
      "text/plain": [
       "2"
      ]
     },
     "execution_count": 21,
     "metadata": {},
     "output_type": "execute_result"
    }
   ],
   "source": [
    "def robust_mean(input_list):\n",
    "    \"\"\"\n",
    "    :input_list: list[float]\n",
    "    :return: float\n",
    "    \"\"\"\n",
    "    m=len(input_list)-2\n",
    "    su=0\n",
    "    maximum=max(input_list)\n",
    "    input_list.sort()\n",
    "    for i in range(1,len(input_list)-1):\n",
    "        if input_list[i]==input_list[0]:\n",
    "            m-=1\n",
    "            continue\n",
    "        elif input_list[i]==maximum:\n",
    "            m-=1\n",
    "            continue\n",
    "        else:\n",
    "            su+=input_list[i]\n",
    "    return int(su/m)\n",
    "\n",
    "input_list=[1,2,3,4,10,10]\n",
    "\n",
    "Output= 3\n",
    "\n",
    "robust_mean(input_list)"
   ]
  },
  {
   "cell_type": "markdown",
   "metadata": {
    "id": "y4jdovCl6Wz6"
   },
   "source": [
    "## 4 - Steps to equal\n",
    "\n",
    "Alice and Bob have three bowls which contain a,b,c liters of water each. They need to equalize the amount of water in all three bowls. To make this tedious chore appealing, they decide to play a game.\n",
    "In each step of the game, they pick two bowls and pour some amount of water from one bowl into the other. What is the minimum number of steps needed to equalize the amount of water in all three bowls?\n",
    "\n",
    "You can consider that the bowls can contain any quantity of water.\n",
    "\n",
    "---\n",
    "\n",
    "Example 1:\n",
    "\n",
    "`a=10, b=10, c=10`\n",
    "\n",
    "`Output=0`\n",
    " \n",
    "Example 2:\n",
    "\n",
    "`a=1, b=1000, c=20`\n",
    "\n",
    "`Output=2`"
   ]
  },
  {
   "cell_type": "code",
   "execution_count": null,
   "metadata": {
    "id": "oMsaQ4vDil7m"
   },
   "outputs": [],
   "source": [
    "def steps_to_equal(a, b, c):\n",
    "    \"\"\"\n",
    "    :a: float\n",
    "    :b: float\n",
    "    :c: float\n",
    "    :return: int\n",
    "    \"\"\" \n",
    "    pass"
   ]
  },
  {
   "cell_type": "markdown",
   "metadata": {
    "id": "mB81gI-Shuvi"
   },
   "source": [
    "# Numpy"
   ]
  },
  {
   "cell_type": "markdown",
   "metadata": {
    "id": "42BGhmkj9BLs"
   },
   "source": [
    "## 5 - Missing values\n",
    "\n",
    "Sometimes real datasets are missing some of their values, because some features for some of the examples have not been collected/measured.  When dealing with missing values we sometimes represent them as zeros in a dataset, as long as zero is not a meaningful value in the dataset (e.g., peoples weights and heights, house prices, etc.). \n",
    "\n",
    "In this question, zeros in a dataset represent missing values.\n",
    " \n",
    "a. Given a dataset X (`np.array` of size N x d), with missing values represented as zeros, remove the samples (rows) with at least one missing value.\n",
    "\n",
    "Example:\n",
    "\n",
    "`X=np.array([[1,2,0], [4,5,6], [7,8,9]])`\n",
    "\n",
    "`Output= np.array([[4,5,6], [7,8,9]])`\n",
    "\n",
    "---\n",
    "\n",
    "b. Given a dataset X (`np.array` of size N x d), with missing values represented as zeros, remove the features (columns) with at least one missing value.\n",
    "\n",
    "Example:\n",
    "\n",
    "`X=np.array([[1,2,0], [4,5,6], [7,8,9]])`\n",
    "\n",
    "`Output= np.array([[1,2], [4,5], [7,8]])`\n",
    "\n",
    "---\n",
    "\n",
    "c. Given a dataset X (`np.array` of size N x d), with missing values represented as zeros, replace the missing values with the empirical average value of the particular feature in the training set. To compute that empirical average, you should consider only the examples for which the particular feature is not missing.\n",
    "\n",
    "Example:\n",
    "\n",
    "`X=np.array([[1,2,0], [4,5,6], [7,8,9]])`\n",
    "\n",
    "`Output= np.array([[1,2,7.5], [4,5,6], [7,8,9]])`"
   ]
  },
  {
   "cell_type": "code",
   "execution_count": null,
   "metadata": {
    "id": "EmnhPGeDitPM"
   },
   "outputs": [],
   "source": [
    "def remove_missing_samples(X):\n",
    "    \"\"\"\n",
    "    :param X: float np.array of size N x d (each row is a data point)\n",
    "    :return: float np.array\n",
    "    \"\"\"\n",
    "    pass"
   ]
  },
  {
   "cell_type": "code",
   "execution_count": null,
   "metadata": {
    "id": "35aud03niviv"
   },
   "outputs": [],
   "source": [
    "def remove_missing_features(X):\n",
    "    \"\"\"\n",
    "    :param X: float np.array of size N x d (each row is a data point)\n",
    "    :return: float np.array\n",
    "    \"\"\"\n",
    "    pass"
   ]
  },
  {
   "cell_type": "code",
   "execution_count": null,
   "metadata": {
    "id": "7edqRzC3iw4j"
   },
   "outputs": [],
   "source": [
    "def interpolate_missing_values(X):\n",
    "    \"\"\"\n",
    "    :param X: float np.array of size N x d (each row is a data point)\n",
    "    :return: float np.array\n",
    "    \"\"\"\n",
    "    pass"
   ]
  },
  {
   "cell_type": "markdown",
   "metadata": {
    "id": "h5CTygFD_FOX"
   },
   "source": [
    "## 6 - Moving average\n",
    "\n",
    "A common technique used for smoothing data is the moving average. Given a vector $x \\in \\mathbb{R}^d$ the $k$-moving average is another $d$-dimensional vector defined as follows:\n",
    "* for $i \\geq k$ it is the average of the latest $k$ values (up to the $i$-th position) of the original sequence, i.e., $out_i = \\frac{\\sum_{j=1}^k x_{i+j-k}}{k}$. \n",
    "* for $i < k$,  to make the moving average the same size of the input ($x$), the output elements for $i < k$ will be the same as the input, i.e., $out_i=x_i$.\n",
    "\n",
    "\n",
    "Implement the moving average of a 1-D `np.array`.\n",
    "\n",
    "---\n",
    "\n",
    "Example:\n",
    "\n",
    "`x=np.array([1,2,3,4])`, `k=2`\n",
    "\n",
    "`Output= np.array([1,1.5,2.5,3.5])`\n"
   ]
  },
  {
   "cell_type": "code",
   "execution_count": null,
   "metadata": {
    "id": "UMdNIK4SjESS"
   },
   "outputs": [],
   "source": [
    "def moving_average(x, k):\n",
    "    \"\"\"\n",
    "    :param x: float np.array of size d\n",
    "    :param k: int\n",
    "    :return: float np.array of size d\n",
    "    \"\"\"    \n",
    "    pass"
   ]
  },
  {
   "cell_type": "markdown",
   "metadata": {
    "id": "9iGBAjMijNJO"
   },
   "source": [
    "# Machine Learning"
   ]
  },
  {
   "cell_type": "markdown",
   "metadata": {
    "id": "FjfxWiGD_M5N"
   },
   "source": [
    "\n",
    "## 7 - Perceptron algorithm\n",
    "\n",
    "The perceptron algorithm is a simple algorithm for learning a linear classifier, i.e., the prediction rule for a data point $x$ is given by:\n",
    "$$\n",
    "y = \n",
    "\\begin{cases} \n",
    "    1  & w^T x > 0 \\\\\n",
    "    -1 & \\text{otherwise}\n",
    "\\end{cases}\n",
    "$$\n",
    "where $w$ is the weight vector.\n",
    "\n",
    "Starting with a weight vector $(w_0)$ initialized with zeros, at each stage, the algorithm goes over the data points and updates the weights for the first example it mislabeled. The algorithm terminates when all the training examples are labeled correctly.   \n",
    "\n",
    "The weight update rules are the followings:\n",
    "\n",
    "Mistake on a positive example ($x$): $w_{t+1} = w_t + \\eta x$\n",
    "\n",
    "Mistake on a negative example ($x$): $w_{t+1} = w_t - \\eta x$\n",
    "\n",
    "where $\\eta$ is the learning rate.\n",
    "\n",
    "Complete the methods for the `Perceptron` class provided below.\n",
    "\n",
    "Note: we assume the class labels are -1 or +1."
   ]
  },
  {
   "cell_type": "code",
   "execution_count": null,
   "metadata": {
    "id": "cTntzrzxjQxJ"
   },
   "outputs": [],
   "source": [
    "class Perceptron():\n",
    "    def __init__(self, d, learning_rate):\n",
    "        \"\"\"Initialize a d dimensional Perceptron classifier\n",
    "\n",
    "        :param d: int\n",
    "        :param lr: float\n",
    "        \"\"\"\n",
    "        self.d = d\n",
    "        self.learning_rate = learning_rate\n",
    "        self.w = np.zeros(d)\n",
    "\n",
    "    def predict(self, X):\n",
    "        \"\"\"For each data point in the input X, return the predicted class\n",
    "\n",
    "        :param X: float np.array of size N x d (each row is a data point)\n",
    "        :return: int np.array of size N (predicted class of each data point -1 or +1)\n",
    "        \"\"\"\n",
    "        pass\n",
    "\n",
    "    def fit(self, X, y):\n",
    "        \"\"\"Train the weights of the classifier\n",
    "\n",
    "        :param X: float np.array of size N x d (each row is a data point)\n",
    "        :param y: int np.array of size N (class of each data point -1 or +1)\n",
    "        \"\"\"\n",
    "        pass"
   ]
  }
 ],
 "metadata": {
  "colab": {
   "collapsed_sections": [],
   "name": "[English]_Lab_midterm_F2020.ipynb",
   "provenance": [
    {
     "file_id": "1saGn2jW-FCQPewdR6uLnb-yA161nXDUC",
     "timestamp": 1603945412230
    },
    {
     "file_id": "19uJwMnC3MZFswsCvs1ux2VfTA_7VmOrJ",
     "timestamp": 1603841005997
    }
   ],
   "toc_visible": true
  },
  "kernelspec": {
   "display_name": "Python 3",
   "language": "python",
   "name": "python3"
  },
  "language_info": {
   "codemirror_mode": {
    "name": "ipython",
    "version": 3
   },
   "file_extension": ".py",
   "mimetype": "text/x-python",
   "name": "python",
   "nbconvert_exporter": "python",
   "pygments_lexer": "ipython3",
   "version": "3.8.3"
  }
 },
 "nbformat": 4,
 "nbformat_minor": 1
}
