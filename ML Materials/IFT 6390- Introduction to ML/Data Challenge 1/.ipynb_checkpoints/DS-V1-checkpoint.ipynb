{
 "cells": [
  {
   "cell_type": "code",
   "execution_count": 424,
   "metadata": {},
   "outputs": [],
   "source": [
    "import numpy as np\n",
    "import pandas as pd\n",
    "import seaborn as sns\n",
    "import string\n",
    "import matplotlib.pyplot as plt\n",
    "from nltk.corpus import stopwords\n",
    "%matplotlib inline\n",
    "pd.set_option('display.max_colwidth', 0)"
   ]
  },
  {
   "cell_type": "markdown",
   "metadata": {},
   "source": [
    "# 1.Load the Datasets "
   ]
  },
  {
   "cell_type": "code",
   "execution_count": 425,
   "metadata": {},
   "outputs": [],
   "source": [
    "dataset_train=pd.read_csv('train.csv', index_col=False)\n",
    "test=pd.read_csv('test.csv')\n",
    "submission=pd.read_csv('sample_submission.csv',index_col=False)"
   ]
  },
  {
   "cell_type": "code",
   "execution_count": null,
   "metadata": {},
   "outputs": [],
   "source": []
  },
  {
   "cell_type": "code",
   "execution_count": 348,
   "metadata": {},
   "outputs": [
    {
     "data": {
      "text/html": [
       "<div>\n",
       "<style scoped>\n",
       "    .dataframe tbody tr th:only-of-type {\n",
       "        vertical-align: middle;\n",
       "    }\n",
       "\n",
       "    .dataframe tbody tr th {\n",
       "        vertical-align: top;\n",
       "    }\n",
       "\n",
       "    .dataframe thead th {\n",
       "        text-align: right;\n",
       "    }\n",
       "</style>\n",
       "<table border=\"1\" class=\"dataframe\">\n",
       "  <thead>\n",
       "    <tr style=\"text-align: right;\">\n",
       "      <th></th>\n",
       "      <th>Abstract</th>\n",
       "      <th>Category</th>\n",
       "    </tr>\n",
       "  </thead>\n",
       "  <tbody>\n",
       "    <tr>\n",
       "      <th>0</th>\n",
       "      <td>The energy released in a solar flare is partitioned between thermal and\\nnon-thermal particle energy and lost to thermal conduction and radiation over a\\nbroad range of wavelengths. It is difficult to determine the conductive losses\\nand the energy radiated at transition region temperatures during the impulsive\\nphases of flares. We use UVCS measurements of O VI photons produced by 5 flares\\nand subsequently scattered by O VI ions in the corona to determine the 5.0 &lt;\\nlog T &lt; 6.0 transition region luminosities. We compare them with the rates of\\nincrease of thermal energy and the conductive losses deduced from RHESSI and\\nGOES X-ray data using areas from RHESSI images to estimate the loop volumes,\\ncross-sectional areas and scale lengths. The transition region luminosities\\nduring the impulsive phase exceed the X-ray luminosities for the first few\\nminutes, but they are smaller than the rates of increase of thermal energy\\nunless the filling factor of the X-ray emitting gas is ~ 0.01. The estimated\\nconductive losses from the hot gas are too large to be balanced by radiative\\nlosses or heating of evaporated plasma, and we conclude that the area of the\\nflare magnetic flux tubes is much smaller than the effective area measured by\\nRHESSI during this phase of the flares. For the 2002 July 23 flare, the energy\\ndeposited by non-thermal particles exceeds the X-ray and UV energy losses and\\nthe rate of increase of the thermal energy.\\n</td>\n",
       "      <td>astro-ph</td>\n",
       "    </tr>\n",
       "    <tr>\n",
       "      <th>1</th>\n",
       "      <td>In light of current atmospheric neutrino oscillation data, we revisit the\\ninvisible decay of the standard model Higgs boson and other pseudoscalar mesons\\nwhich can be enhanced because of large number of KK modes in models with right\\nhanded singlet neutrinos in large extra dimensions. We find that the invisible\\ndecay rate of Higgs can be as large as $H\\to b \\bar b $ decay rate only for a\\nvery restricted region of parameter space. This parameter space is even further\\nrestricted if one demands that the dimensionless neutrino Yukawa coupling $\\l$\\nis O(1). We have also studied the scenarios where singlet neutrino propagate in\\na sub-space, which lowers the string scale $M_{\\ast}$ and keeps neutrino Yukawa\\ncoupling O(1). We have also considered decays of other spin-0 mesons to $\\nu\\n\\bar\\nu$ and found the rates to be too small for measurement.\\n</td>\n",
       "      <td>hep-ph</td>\n",
       "    </tr>\n",
       "    <tr>\n",
       "      <th>2</th>\n",
       "      <td>We consider the following basic learning task: given independent draws from\\nan unknown distribution over a discrete support, output an approximation of the\\ndistribution that is as accurate as possible in $\\ell_1$ distance (i.e. total\\nvariation or statistical distance). Perhaps surprisingly, it is often possible\\nto \"de-noise\" the empirical distribution of the samples to return an\\napproximation of the true distribution that is significantly more accurate than\\nthe empirical distribution, without relying on any prior assumptions on the\\ndistribution. We present an instance optimal learning algorithm which optimally\\nperforms this de-noising for every distribution for which such a de-noising is\\npossible. More formally, given $n$ independent draws from a distribution $p$,\\nour algorithm returns a labelled vector whose expected distance from $p$ is\\nequal to the minimum possible expected error that could be obtained by any\\nalgorithm that knows the true unlabeled vector of probabilities of distribution\\n$p$ and simply needs to assign labels, up to an additive subconstant term that\\nis independent of $p$ and goes to zero as $n$ gets large. One conceptual\\nimplication of this result is that for large samples, Bayesian assumptions on\\nthe \"shape\" or bounds on the tail probabilities of a distribution over discrete\\nsupport are not helpful for the task of learning the distribution.\\n  As a consequence of our techniques, we also show that given a set of $n$\\nsamples from an arbitrary distribution, one can accurately estimate the\\nexpected number of distinct elements that will be observed in a sample of any\\nsize up to $n \\log n$. This sort of extrapolation is practically relevant,\\nparticularly to domains such as genomics where it is important to understand\\nhow much more might be discovered given larger sample sizes, and we are\\noptimistic that our approach is practically viable.\\n</td>\n",
       "      <td>cs.LG</td>\n",
       "    </tr>\n",
       "    <tr>\n",
       "      <th>3</th>\n",
       "      <td>In this paper, we characterise the family of finite arc-transitive\\nbicirculants. We show that every finite arc-transitive bicirculant is a normal\\n$r$-cover of an arc-transitive graph that lies in one of eight infinite\\nfamilies or is one of seven sporadic arc-transitive graphs. Moreover, each of\\nthese ``basic'' graphs is either an arc-transitive bicirculant or an\\narc-transitive circulant, and each graph in the latter case has an\\narc-transitive bicirculant normal $r$-cover for some integer $r$.\\n</td>\n",
       "      <td>math.CO</td>\n",
       "    </tr>\n",
       "    <tr>\n",
       "      <th>4</th>\n",
       "      <td>The control of condensed matter systems out of equilibrium by laser pulses\\nallows us to investigate the system trajectories through symmetry-breaking\\nphase transitions. Thus the evolution of both collective modes and single\\nparticle excitations can be followed through diverse phase transitions with\\nfemtosecond resolution. Here we present experimental observations of the order\\nparameter trajectory in the normal-superconductor transition and charge-density\\nwave ordering transitions. Of particular interest is the coherent evolution of\\ntopological defects forming during the transition via the Kibble-Zurek\\nmechanism, which appears to be measurable in optical pump probe experiments.\\nExperiments on CDW systems reveal some new phenomena, such as coherent\\noscillations of the order parameter, the creation and emission of dispersive\\namplitudon modes upon the annihilation of topological defects, and mixing with\\nweakly coupled finite-frequency (massive) bosons.\\n</td>\n",
       "      <td>cond-mat.mes-hall</td>\n",
       "    </tr>\n",
       "  </tbody>\n",
       "</table>\n",
       "</div>"
      ],
      "text/plain": [
       "                                                                                                                                                                                                                                                                                                                                                                                                                                                                                                                                                                                                                                                                                                                                                                                                                                                                                                                                                                                                                                                                                                                                                                                                                                                                                                                                                                                                                                                                                                                                                                                                                                                                                                                                                                                                                                                                                                                                                                                  Abstract  \\\n",
       "0    The energy released in a solar flare is partitioned between thermal and\\nnon-thermal particle energy and lost to thermal conduction and radiation over a\\nbroad range of wavelengths. It is difficult to determine the conductive losses\\nand the energy radiated at transition region temperatures during the impulsive\\nphases of flares. We use UVCS measurements of O VI photons produced by 5 flares\\nand subsequently scattered by O VI ions in the corona to determine the 5.0 <\\nlog T < 6.0 transition region luminosities. We compare them with the rates of\\nincrease of thermal energy and the conductive losses deduced from RHESSI and\\nGOES X-ray data using areas from RHESSI images to estimate the loop volumes,\\ncross-sectional areas and scale lengths. The transition region luminosities\\nduring the impulsive phase exceed the X-ray luminosities for the first few\\nminutes, but they are smaller than the rates of increase of thermal energy\\nunless the filling factor of the X-ray emitting gas is ~ 0.01. The estimated\\nconductive losses from the hot gas are too large to be balanced by radiative\\nlosses or heating of evaporated plasma, and we conclude that the area of the\\nflare magnetic flux tubes is much smaller than the effective area measured by\\nRHESSI during this phase of the flares. For the 2002 July 23 flare, the energy\\ndeposited by non-thermal particles exceeds the X-ray and UV energy losses and\\nthe rate of increase of the thermal energy.\\n                                                                                                                                                                                                                                                                                                                                                                                                                                                                          \n",
       "1    In light of current atmospheric neutrino oscillation data, we revisit the\\ninvisible decay of the standard model Higgs boson and other pseudoscalar mesons\\nwhich can be enhanced because of large number of KK modes in models with right\\nhanded singlet neutrinos in large extra dimensions. We find that the invisible\\ndecay rate of Higgs can be as large as $H\\to b \\bar b $ decay rate only for a\\nvery restricted region of parameter space. This parameter space is even further\\nrestricted if one demands that the dimensionless neutrino Yukawa coupling $\\l$\\nis O(1). We have also studied the scenarios where singlet neutrino propagate in\\na sub-space, which lowers the string scale $M_{\\ast}$ and keeps neutrino Yukawa\\ncoupling O(1). We have also considered decays of other spin-0 mesons to $\\nu\\n\\bar\\nu$ and found the rates to be too small for measurement.\\n                                                                                                                                                                                                                                                                                                                                                                                                                                                                                                                                                                                                                                                                                                                                                                                                                                                                                                                                                                                                                                                                                             \n",
       "2    We consider the following basic learning task: given independent draws from\\nan unknown distribution over a discrete support, output an approximation of the\\ndistribution that is as accurate as possible in $\\ell_1$ distance (i.e. total\\nvariation or statistical distance). Perhaps surprisingly, it is often possible\\nto \"de-noise\" the empirical distribution of the samples to return an\\napproximation of the true distribution that is significantly more accurate than\\nthe empirical distribution, without relying on any prior assumptions on the\\ndistribution. We present an instance optimal learning algorithm which optimally\\nperforms this de-noising for every distribution for which such a de-noising is\\npossible. More formally, given $n$ independent draws from a distribution $p$,\\nour algorithm returns a labelled vector whose expected distance from $p$ is\\nequal to the minimum possible expected error that could be obtained by any\\nalgorithm that knows the true unlabeled vector of probabilities of distribution\\n$p$ and simply needs to assign labels, up to an additive subconstant term that\\nis independent of $p$ and goes to zero as $n$ gets large. One conceptual\\nimplication of this result is that for large samples, Bayesian assumptions on\\nthe \"shape\" or bounds on the tail probabilities of a distribution over discrete\\nsupport are not helpful for the task of learning the distribution.\\n  As a consequence of our techniques, we also show that given a set of $n$\\nsamples from an arbitrary distribution, one can accurately estimate the\\nexpected number of distinct elements that will be observed in a sample of any\\nsize up to $n \\log n$. This sort of extrapolation is practically relevant,\\nparticularly to domains such as genomics where it is important to understand\\nhow much more might be discovered given larger sample sizes, and we are\\noptimistic that our approach is practically viable.\\n   \n",
       "3    In this paper, we characterise the family of finite arc-transitive\\nbicirculants. We show that every finite arc-transitive bicirculant is a normal\\n$r$-cover of an arc-transitive graph that lies in one of eight infinite\\nfamilies or is one of seven sporadic arc-transitive graphs. Moreover, each of\\nthese ``basic'' graphs is either an arc-transitive bicirculant or an\\narc-transitive circulant, and each graph in the latter case has an\\narc-transitive bicirculant normal $r$-cover for some integer $r$.\\n                                                                                                                                                                                                                                                                                                                                                                                                                                                                                                                                                                                                                                                                                                                                                                                                                                                                                                                                                                                                                                                                                                                                                                                                                                                                                                                                                                                                                                                               \n",
       "4    The control of condensed matter systems out of equilibrium by laser pulses\\nallows us to investigate the system trajectories through symmetry-breaking\\nphase transitions. Thus the evolution of both collective modes and single\\nparticle excitations can be followed through diverse phase transitions with\\nfemtosecond resolution. Here we present experimental observations of the order\\nparameter trajectory in the normal-superconductor transition and charge-density\\nwave ordering transitions. Of particular interest is the coherent evolution of\\ntopological defects forming during the transition via the Kibble-Zurek\\nmechanism, which appears to be measurable in optical pump probe experiments.\\nExperiments on CDW systems reveal some new phenomena, such as coherent\\noscillations of the order parameter, the creation and emission of dispersive\\namplitudon modes upon the annihilation of topological defects, and mixing with\\nweakly coupled finite-frequency (massive) bosons.\\n                                                                                                                                                                                                                                                                                                                                                                                                                                                                                                                                                                                                                                                                                                                                                                                                                                                                                                                                                                        \n",
       "\n",
       "            Category  \n",
       "0  astro-ph           \n",
       "1  hep-ph             \n",
       "2  cs.LG              \n",
       "3  math.CO            \n",
       "4  cond-mat.mes-hall  "
      ]
     },
     "execution_count": 348,
     "metadata": {},
     "output_type": "execute_result"
    }
   ],
   "source": [
    "\n",
    "dataset_train=dataset_train[['Abstract','Category']]\n",
    "dataset_train.head()"
   ]
  },
  {
   "cell_type": "code",
   "execution_count": 349,
   "metadata": {},
   "outputs": [
    {
     "data": {
      "text/plain": [
       "(7500, 2)"
      ]
     },
     "execution_count": 349,
     "metadata": {},
     "output_type": "execute_result"
    }
   ],
   "source": [
    "dataset_train.shape"
   ]
  },
  {
   "cell_type": "code",
   "execution_count": 350,
   "metadata": {},
   "outputs": [
    {
     "data": {
      "text/plain": [
       "Index(['Abstract', 'Category'], dtype='object')"
      ]
     },
     "execution_count": 350,
     "metadata": {},
     "output_type": "execute_result"
    }
   ],
   "source": [
    "dataset_train.columns"
   ]
  },
  {
   "cell_type": "code",
   "execution_count": 351,
   "metadata": {},
   "outputs": [
    {
     "data": {
      "text/plain": [
       "Abstract    0\n",
       "Category    0\n",
       "dtype: int64"
      ]
     },
     "execution_count": 351,
     "metadata": {},
     "output_type": "execute_result"
    }
   ],
   "source": [
    "dataset_train.isnull().sum()"
   ]
  },
  {
   "cell_type": "markdown",
   "metadata": {},
   "source": [
    "# 2. EDA"
   ]
  },
  {
   "cell_type": "code",
   "execution_count": 352,
   "metadata": {},
   "outputs": [
    {
     "data": {
      "text/plain": [
       "<matplotlib.axes._subplots.AxesSubplot at 0x15e6233dac0>"
      ]
     },
     "execution_count": 352,
     "metadata": {},
     "output_type": "execute_result"
    },
    {
     "data": {
      "image/png": "[encoded data removed]",
      "text/plain": [
       "<Figure size 432x288 with 1 Axes>"
      ]
     },
     "metadata": {
      "needs_background": "light"
     },
     "output_type": "display_data"
    }
   ],
   "source": [
    "sns.countplot(y=\"Category\",data=dataset_train,orient=\"h\")\n",
    "# equally distributed data for each class "
   ]
  },
  {
   "cell_type": "code",
   "execution_count": null,
   "metadata": {},
   "outputs": [],
   "source": []
  },
  {
   "cell_type": "code",
   "execution_count": null,
   "metadata": {},
   "outputs": [],
   "source": []
  },
  {
   "cell_type": "markdown",
   "metadata": {},
   "source": [
    "# 3. Feature Engineering"
   ]
  },
  {
   "cell_type": "code",
   "execution_count": 353,
   "metadata": {},
   "outputs": [],
   "source": [
    "# Combine the train and test data\n",
    "# df=pd.concat([abstract,test])\n",
    "# df.shape"
   ]
  },
  {
   "cell_type": "code",
   "execution_count": null,
   "metadata": {},
   "outputs": [],
   "source": []
  },
  {
   "cell_type": "code",
   "execution_count": 354,
   "metadata": {},
   "outputs": [],
   "source": [
    "#1. Removing punctuations:\n",
    "\n",
    "def remove_punct(text):\n",
    "    table=str.maketrans('','',string.punctuation)\n",
    "    return text.translate(table)\n",
    "\n"
   ]
  },
  {
   "cell_type": "code",
   "execution_count": 355,
   "metadata": {},
   "outputs": [],
   "source": [
    "#2. Remove Stop Words and make the words to lower case\n",
    "from nltk.corpus import stopwords\n",
    "sw = stopwords.words('english')\n",
    "def stopwords(text):\n",
    "    text=[word.lower() for word in text.split() if word.lower() not in sw]\n",
    "    return \" \".join(text)"
   ]
  },
  {
   "cell_type": "code",
   "execution_count": 356,
   "metadata": {},
   "outputs": [],
   "source": [
    "# 3.Remove numbers\n",
    "def remove_nums(text):\n",
    "    text=[word for word in text.split() if not word.isdigit()]\n",
    "    return \" \".join(text)\n"
   ]
  },
  {
   "cell_type": "code",
   "execution_count": 357,
   "metadata": {},
   "outputs": [],
   "source": [
    "dataset_train['Abstract']=dataset_train['Abstract'].apply(lambda x:remove_punct(x))\n",
    "dataset_train['Abstract']=dataset_train['Abstract'].apply(stopwords)\n",
    "dataset_train['Abstract']=dataset_train['Abstract'].apply(lambda x:remove_nums(x))"
   ]
  },
  {
   "cell_type": "code",
   "execution_count": 358,
   "metadata": {},
   "outputs": [
    {
     "data": {
      "text/html": [
       "<div>\n",
       "<style scoped>\n",
       "    .dataframe tbody tr th:only-of-type {\n",
       "        vertical-align: middle;\n",
       "    }\n",
       "\n",
       "    .dataframe tbody tr th {\n",
       "        vertical-align: top;\n",
       "    }\n",
       "\n",
       "    .dataframe thead th {\n",
       "        text-align: right;\n",
       "    }\n",
       "</style>\n",
       "<table border=\"1\" class=\"dataframe\">\n",
       "  <thead>\n",
       "    <tr style=\"text-align: right;\">\n",
       "      <th></th>\n",
       "      <th>Abstract</th>\n",
       "      <th>Category</th>\n",
       "    </tr>\n",
       "  </thead>\n",
       "  <tbody>\n",
       "    <tr>\n",
       "      <th>0</th>\n",
       "      <td>energy released solar flare partitioned thermal nonthermal particle energy lost thermal conduction radiation broad range wavelengths difficult determine conductive losses energy radiated transition region temperatures impulsive phases flares use uvcs measurements vi photons produced flares subsequently scattered vi ions corona determine log transition region luminosities compare rates increase thermal energy conductive losses deduced rhessi goes xray data using areas rhessi images estimate loop volumes crosssectional areas scale lengths transition region luminosities impulsive phase exceed xray luminosities first minutes smaller rates increase thermal energy unless filling factor xray emitting gas estimated conductive losses hot gas large balanced radiative losses heating evaporated plasma conclude area flare magnetic flux tubes much smaller effective area measured rhessi phase flares july flare energy deposited nonthermal particles exceeds xray uv energy losses rate increase thermal energy</td>\n",
       "      <td>astro-ph</td>\n",
       "    </tr>\n",
       "    <tr>\n",
       "      <th>1</th>\n",
       "      <td>light current atmospheric neutrino oscillation data revisit invisible decay standard model higgs boson pseudoscalar mesons enhanced large number kk modes models right handed singlet neutrinos large extra dimensions find invisible decay rate higgs large hto b bar b decay rate restricted region parameter space parameter space even restricted one demands dimensionless neutrino yukawa coupling l o1 also studied scenarios singlet neutrino propagate subspace lowers string scale mast keeps neutrino yukawa coupling o1 also considered decays spin0 mesons nu barnu found rates small measurement</td>\n",
       "      <td>hep-ph</td>\n",
       "    </tr>\n",
       "    <tr>\n",
       "      <th>2</th>\n",
       "      <td>consider following basic learning task given independent draws unknown distribution discrete support output approximation distribution accurate possible ell1 distance ie total variation statistical distance perhaps surprisingly often possible denoise empirical distribution samples return approximation true distribution significantly accurate empirical distribution without relying prior assumptions distribution present instance optimal learning algorithm optimally performs denoising every distribution denoising possible formally given n independent draws distribution p algorithm returns labelled vector whose expected distance p equal minimum possible expected error could obtained algorithm knows true unlabeled vector probabilities distribution p simply needs assign labels additive subconstant term independent p goes zero n gets large one conceptual implication result large samples bayesian assumptions shape bounds tail probabilities distribution discrete support helpful task learning distribution consequence techniques also show given set n samples arbitrary distribution one accurately estimate expected number distinct elements observed sample size n log n sort extrapolation practically relevant particularly domains genomics important understand much might discovered given larger sample sizes optimistic approach practically viable</td>\n",
       "      <td>cs.LG</td>\n",
       "    </tr>\n",
       "    <tr>\n",
       "      <th>3</th>\n",
       "      <td>paper characterise family finite arctransitive bicirculants show every finite arctransitive bicirculant normal rcover arctransitive graph lies one eight infinite families one seven sporadic arctransitive graphs moreover basic graphs either arctransitive bicirculant arctransitive circulant graph latter case arctransitive bicirculant normal rcover integer r</td>\n",
       "      <td>math.CO</td>\n",
       "    </tr>\n",
       "    <tr>\n",
       "      <th>4</th>\n",
       "      <td>control condensed matter systems equilibrium laser pulses allows us investigate system trajectories symmetrybreaking phase transitions thus evolution collective modes single particle excitations followed diverse phase transitions femtosecond resolution present experimental observations order parameter trajectory normalsuperconductor transition chargedensity wave ordering transitions particular interest coherent evolution topological defects forming transition via kibblezurek mechanism appears measurable optical pump probe experiments experiments cdw systems reveal new phenomena coherent oscillations order parameter creation emission dispersive amplitudon modes upon annihilation topological defects mixing weakly coupled finitefrequency massive bosons</td>\n",
       "      <td>cond-mat.mes-hall</td>\n",
       "    </tr>\n",
       "  </tbody>\n",
       "</table>\n",
       "</div>"
      ],
      "text/plain": [
       "                                                                                                                                                                                                                                                                                                                                                                                                                                                                                                                                                                                                                                                                                                                                                                                                                                                                                                                                                                                                                                                                                                                                                                                                                                                                                                                                                                                                  Abstract  \\\n",
       "0  energy released solar flare partitioned thermal nonthermal particle energy lost thermal conduction radiation broad range wavelengths difficult determine conductive losses energy radiated transition region temperatures impulsive phases flares use uvcs measurements vi photons produced flares subsequently scattered vi ions corona determine log transition region luminosities compare rates increase thermal energy conductive losses deduced rhessi goes xray data using areas rhessi images estimate loop volumes crosssectional areas scale lengths transition region luminosities impulsive phase exceed xray luminosities first minutes smaller rates increase thermal energy unless filling factor xray emitting gas estimated conductive losses hot gas large balanced radiative losses heating evaporated plasma conclude area flare magnetic flux tubes much smaller effective area measured rhessi phase flares july flare energy deposited nonthermal particles exceeds xray uv energy losses rate increase thermal energy                                                                                                                                                                                                                                                                                                                                                             \n",
       "1  light current atmospheric neutrino oscillation data revisit invisible decay standard model higgs boson pseudoscalar mesons enhanced large number kk modes models right handed singlet neutrinos large extra dimensions find invisible decay rate higgs large hto b bar b decay rate restricted region parameter space parameter space even restricted one demands dimensionless neutrino yukawa coupling l o1 also studied scenarios singlet neutrino propagate subspace lowers string scale mast keeps neutrino yukawa coupling o1 also considered decays spin0 mesons nu barnu found rates small measurement                                                                                                                                                                                                                                                                                                                                                                                                                                                                                                                                                                                                                                                                                                                                                                                            \n",
       "2  consider following basic learning task given independent draws unknown distribution discrete support output approximation distribution accurate possible ell1 distance ie total variation statistical distance perhaps surprisingly often possible denoise empirical distribution samples return approximation true distribution significantly accurate empirical distribution without relying prior assumptions distribution present instance optimal learning algorithm optimally performs denoising every distribution denoising possible formally given n independent draws distribution p algorithm returns labelled vector whose expected distance p equal minimum possible expected error could obtained algorithm knows true unlabeled vector probabilities distribution p simply needs assign labels additive subconstant term independent p goes zero n gets large one conceptual implication result large samples bayesian assumptions shape bounds tail probabilities distribution discrete support helpful task learning distribution consequence techniques also show given set n samples arbitrary distribution one accurately estimate expected number distinct elements observed sample size n log n sort extrapolation practically relevant particularly domains genomics important understand much might discovered given larger sample sizes optimistic approach practically viable   \n",
       "3  paper characterise family finite arctransitive bicirculants show every finite arctransitive bicirculant normal rcover arctransitive graph lies one eight infinite families one seven sporadic arctransitive graphs moreover basic graphs either arctransitive bicirculant arctransitive circulant graph latter case arctransitive bicirculant normal rcover integer r                                                                                                                                                                                                                                                                                                                                                                                                                                                                                                                                                                                                                                                                                                                                                                                                                                                                                                                                                                                                                                     \n",
       "4  control condensed matter systems equilibrium laser pulses allows us investigate system trajectories symmetrybreaking phase transitions thus evolution collective modes single particle excitations followed diverse phase transitions femtosecond resolution present experimental observations order parameter trajectory normalsuperconductor transition chargedensity wave ordering transitions particular interest coherent evolution topological defects forming transition via kibblezurek mechanism appears measurable optical pump probe experiments experiments cdw systems reveal new phenomena coherent oscillations order parameter creation emission dispersive amplitudon modes upon annihilation topological defects mixing weakly coupled finitefrequency massive bosons                                                                                                                                                                                                                                                                                                                                                                                                                                                                                                                                                                                                                   \n",
       "\n",
       "            Category  \n",
       "0  astro-ph           \n",
       "1  hep-ph             \n",
       "2  cs.LG              \n",
       "3  math.CO            \n",
       "4  cond-mat.mes-hall  "
      ]
     },
     "execution_count": 358,
     "metadata": {},
     "output_type": "execute_result"
    }
   ],
   "source": [
    "dataset_train.head()"
   ]
  },
  {
   "cell_type": "code",
   "execution_count": 359,
   "metadata": {},
   "outputs": [],
   "source": [
    "# freq=pd.Series(' '.join(dataset_train['Abstract']).split()).value_counts()[0:50]"
   ]
  },
  {
   "cell_type": "code",
   "execution_count": null,
   "metadata": {},
   "outputs": [],
   "source": []
  },
  {
   "cell_type": "code",
   "execution_count": 360,
   "metadata": {},
   "outputs": [],
   "source": [
    "freq=['well','used','order','first','problem','number','high','based','large','new','one',\n",
    "     'study','present','find','data','using','show','also','results','two','use','revisit','much',\n",
    "     'goes','via','followed']"
   ]
  },
  {
   "cell_type": "code",
   "execution_count": 361,
   "metadata": {},
   "outputs": [],
   "source": [
    "dataset_train['Abstract']=dataset_train['Abstract'].apply(lambda x:\" \".join(x for x in x.split()\n",
    "                                                                            if x not in freq))\n"
   ]
  },
  {
   "cell_type": "code",
   "execution_count": 362,
   "metadata": {},
   "outputs": [
    {
     "data": {
      "text/html": [
       "<div>\n",
       "<style scoped>\n",
       "    .dataframe tbody tr th:only-of-type {\n",
       "        vertical-align: middle;\n",
       "    }\n",
       "\n",
       "    .dataframe tbody tr th {\n",
       "        vertical-align: top;\n",
       "    }\n",
       "\n",
       "    .dataframe thead th {\n",
       "        text-align: right;\n",
       "    }\n",
       "</style>\n",
       "<table border=\"1\" class=\"dataframe\">\n",
       "  <thead>\n",
       "    <tr style=\"text-align: right;\">\n",
       "      <th></th>\n",
       "      <th>Abstract</th>\n",
       "      <th>Category</th>\n",
       "    </tr>\n",
       "  </thead>\n",
       "  <tbody>\n",
       "    <tr>\n",
       "      <th>0</th>\n",
       "      <td>energy released solar flare partitioned thermal nonthermal particle energy lost thermal conduction radiation broad range wavelengths difficult determine conductive losses energy radiated transition region temperatures impulsive phases flares uvcs measurements vi photons produced flares subsequently scattered vi ions corona determine log transition region luminosities compare rates increase thermal energy conductive losses deduced rhessi xray areas rhessi images estimate loop volumes crosssectional areas scale lengths transition region luminosities impulsive phase exceed xray luminosities minutes smaller rates increase thermal energy unless filling factor xray emitting gas estimated conductive losses hot gas balanced radiative losses heating evaporated plasma conclude area flare magnetic flux tubes smaller effective area measured rhessi phase flares july flare energy deposited nonthermal particles exceeds xray uv energy losses rate increase thermal energy</td>\n",
       "      <td>astro-ph</td>\n",
       "    </tr>\n",
       "    <tr>\n",
       "      <th>1</th>\n",
       "      <td>light current atmospheric neutrino oscillation invisible decay standard model higgs boson pseudoscalar mesons enhanced kk modes models right handed singlet neutrinos extra dimensions invisible decay rate higgs hto b bar b decay rate restricted region parameter space parameter space even restricted demands dimensionless neutrino yukawa coupling l o1 studied scenarios singlet neutrino propagate subspace lowers string scale mast keeps neutrino yukawa coupling o1 considered decays spin0 mesons nu barnu found rates small measurement</td>\n",
       "      <td>hep-ph</td>\n",
       "    </tr>\n",
       "    <tr>\n",
       "      <th>2</th>\n",
       "      <td>consider following basic learning task given independent draws unknown distribution discrete support output approximation distribution accurate possible ell1 distance ie total variation statistical distance perhaps surprisingly often possible denoise empirical distribution samples return approximation true distribution significantly accurate empirical distribution without relying prior assumptions distribution instance optimal learning algorithm optimally performs denoising every distribution denoising possible formally given n independent draws distribution p algorithm returns labelled vector whose expected distance p equal minimum possible expected error could obtained algorithm knows true unlabeled vector probabilities distribution p simply needs assign labels additive subconstant term independent p zero n gets conceptual implication result samples bayesian assumptions shape bounds tail probabilities distribution discrete support helpful task learning distribution consequence techniques given set n samples arbitrary distribution accurately estimate expected distinct elements observed sample size n log n sort extrapolation practically relevant particularly domains genomics important understand might discovered given larger sample sizes optimistic approach practically viable</td>\n",
       "      <td>cs.LG</td>\n",
       "    </tr>\n",
       "    <tr>\n",
       "      <th>3</th>\n",
       "      <td>paper characterise family finite arctransitive bicirculants every finite arctransitive bicirculant normal rcover arctransitive graph lies eight infinite families seven sporadic arctransitive graphs moreover basic graphs either arctransitive bicirculant arctransitive circulant graph latter case arctransitive bicirculant normal rcover integer r</td>\n",
       "      <td>math.CO</td>\n",
       "    </tr>\n",
       "    <tr>\n",
       "      <th>4</th>\n",
       "      <td>control condensed matter systems equilibrium laser pulses allows us investigate system trajectories symmetrybreaking phase transitions thus evolution collective modes single particle excitations diverse phase transitions femtosecond resolution experimental observations parameter trajectory normalsuperconductor transition chargedensity wave ordering transitions particular interest coherent evolution topological defects forming transition kibblezurek mechanism appears measurable optical pump probe experiments experiments cdw systems reveal phenomena coherent oscillations parameter creation emission dispersive amplitudon modes upon annihilation topological defects mixing weakly coupled finitefrequency massive bosons</td>\n",
       "      <td>cond-mat.mes-hall</td>\n",
       "    </tr>\n",
       "  </tbody>\n",
       "</table>\n",
       "</div>"
      ],
      "text/plain": [
       "                                                                                                                                                                                                                                                                                                                                                                                                                                                                                                                                                                                                                                                                                                                                                                                                                                                                                                                                                                                                                                                                                                                                                                                                                                                                                                                                           Abstract  \\\n",
       "0  energy released solar flare partitioned thermal nonthermal particle energy lost thermal conduction radiation broad range wavelengths difficult determine conductive losses energy radiated transition region temperatures impulsive phases flares uvcs measurements vi photons produced flares subsequently scattered vi ions corona determine log transition region luminosities compare rates increase thermal energy conductive losses deduced rhessi xray areas rhessi images estimate loop volumes crosssectional areas scale lengths transition region luminosities impulsive phase exceed xray luminosities minutes smaller rates increase thermal energy unless filling factor xray emitting gas estimated conductive losses hot gas balanced radiative losses heating evaporated plasma conclude area flare magnetic flux tubes smaller effective area measured rhessi phase flares july flare energy deposited nonthermal particles exceeds xray uv energy losses rate increase thermal energy                                                                                                                                                                                                                                                                                                                                           \n",
       "1  light current atmospheric neutrino oscillation invisible decay standard model higgs boson pseudoscalar mesons enhanced kk modes models right handed singlet neutrinos extra dimensions invisible decay rate higgs hto b bar b decay rate restricted region parameter space parameter space even restricted demands dimensionless neutrino yukawa coupling l o1 studied scenarios singlet neutrino propagate subspace lowers string scale mast keeps neutrino yukawa coupling o1 considered decays spin0 mesons nu barnu found rates small measurement                                                                                                                                                                                                                                                                                                                                                                                                                                                                                                                                                                                                                                                                                                                                                                                              \n",
       "2  consider following basic learning task given independent draws unknown distribution discrete support output approximation distribution accurate possible ell1 distance ie total variation statistical distance perhaps surprisingly often possible denoise empirical distribution samples return approximation true distribution significantly accurate empirical distribution without relying prior assumptions distribution instance optimal learning algorithm optimally performs denoising every distribution denoising possible formally given n independent draws distribution p algorithm returns labelled vector whose expected distance p equal minimum possible expected error could obtained algorithm knows true unlabeled vector probabilities distribution p simply needs assign labels additive subconstant term independent p zero n gets conceptual implication result samples bayesian assumptions shape bounds tail probabilities distribution discrete support helpful task learning distribution consequence techniques given set n samples arbitrary distribution accurately estimate expected distinct elements observed sample size n log n sort extrapolation practically relevant particularly domains genomics important understand might discovered given larger sample sizes optimistic approach practically viable   \n",
       "3  paper characterise family finite arctransitive bicirculants every finite arctransitive bicirculant normal rcover arctransitive graph lies eight infinite families seven sporadic arctransitive graphs moreover basic graphs either arctransitive bicirculant arctransitive circulant graph latter case arctransitive bicirculant normal rcover integer r                                                                                                                                                                                                                                                                                                                                                                                                                                                                                                                                                                                                                                                                                                                                                                                                                                                                                                                                                                                           \n",
       "4  control condensed matter systems equilibrium laser pulses allows us investigate system trajectories symmetrybreaking phase transitions thus evolution collective modes single particle excitations diverse phase transitions femtosecond resolution experimental observations parameter trajectory normalsuperconductor transition chargedensity wave ordering transitions particular interest coherent evolution topological defects forming transition kibblezurek mechanism appears measurable optical pump probe experiments experiments cdw systems reveal phenomena coherent oscillations parameter creation emission dispersive amplitudon modes upon annihilation topological defects mixing weakly coupled finitefrequency massive bosons                                                                                                                                                                                                                                                                                                                                                                                                                                                                                                                                                                                                 \n",
       "\n",
       "            Category  \n",
       "0  astro-ph           \n",
       "1  hep-ph             \n",
       "2  cs.LG              \n",
       "3  math.CO            \n",
       "4  cond-mat.mes-hall  "
      ]
     },
     "execution_count": 362,
     "metadata": {},
     "output_type": "execute_result"
    }
   ],
   "source": [
    "dataset_train.head()"
   ]
  },
  {
   "cell_type": "code",
   "execution_count": 363,
   "metadata": {},
   "outputs": [
    {
     "name": "stdout",
     "output_type": "stream",
     "text": [
      "              count\n",
      "model         2785 \n",
      "field         2066 \n",
      "mass          1911 \n",
      "galaxies      1828 \n",
      "models        1746 \n",
      "...            ... \n",
      "jindependent  1    \n",
      "unattractive  1    \n",
      "m92           1    \n",
      "330hr         1    \n",
      "cushing       1    \n",
      "\n",
      "[42464 rows x 1 columns]\n"
     ]
    }
   ],
   "source": [
    "low_freq=pd.Series(' '.join(dataset_train['Abstract']).split()).value_counts()\n",
    "print(low_freq.to_frame(name='count'))"
   ]
  },
  {
   "cell_type": "code",
   "execution_count": 364,
   "metadata": {},
   "outputs": [],
   "source": [
    "from collections import Counter\n",
    "from itertools import chain\n",
    "\n",
    "# split words into lists\n",
    "v = dataset_train['Abstract'].str.split().tolist() # [s.split() for s in df['Col2'].tolist()]\n",
    "# compute global word frequency\n",
    "c = Counter(chain.from_iterable(v))\n",
    "# df = pd.DataFrame.from_dict(c, orient='index').reset_index()\n",
    "# df.to_csv('freq_words.csv')\n",
    "# filter, join, and re-assign\n",
    "# print(c)"
   ]
  },
  {
   "cell_type": "code",
   "execution_count": 365,
   "metadata": {},
   "outputs": [],
   "source": [
    "dataset_train['Abstract'] = [' '.join([j for j in i if c[j] > 1]) for i in v]"
   ]
  },
  {
   "cell_type": "code",
   "execution_count": 366,
   "metadata": {},
   "outputs": [
    {
     "data": {
      "text/html": [
       "<div>\n",
       "<style scoped>\n",
       "    .dataframe tbody tr th:only-of-type {\n",
       "        vertical-align: middle;\n",
       "    }\n",
       "\n",
       "    .dataframe tbody tr th {\n",
       "        vertical-align: top;\n",
       "    }\n",
       "\n",
       "    .dataframe thead th {\n",
       "        text-align: right;\n",
       "    }\n",
       "</style>\n",
       "<table border=\"1\" class=\"dataframe\">\n",
       "  <thead>\n",
       "    <tr style=\"text-align: right;\">\n",
       "      <th></th>\n",
       "      <th>Abstract</th>\n",
       "      <th>Category</th>\n",
       "    </tr>\n",
       "  </thead>\n",
       "  <tbody>\n",
       "    <tr>\n",
       "      <th>0</th>\n",
       "      <td>energy released solar flare partitioned thermal nonthermal particle energy lost thermal conduction radiation broad range wavelengths difficult determine conductive losses energy radiated transition region temperatures impulsive phases flares uvcs measurements vi photons produced flares subsequently scattered vi ions corona determine log transition region luminosities compare rates increase thermal energy conductive losses deduced rhessi xray areas rhessi images estimate loop volumes crosssectional areas scale lengths transition region luminosities impulsive phase exceed xray luminosities minutes smaller rates increase thermal energy unless filling factor xray emitting gas estimated conductive losses hot gas balanced radiative losses heating evaporated plasma conclude area flare magnetic flux tubes smaller effective area measured rhessi phase flares july flare energy deposited nonthermal particles exceeds xray uv energy losses rate increase thermal energy</td>\n",
       "      <td>astro-ph</td>\n",
       "    </tr>\n",
       "    <tr>\n",
       "      <th>1</th>\n",
       "      <td>light current atmospheric neutrino oscillation invisible decay standard model higgs boson pseudoscalar mesons enhanced kk modes models right handed singlet neutrinos extra dimensions invisible decay rate higgs hto b bar b decay rate restricted region parameter space parameter space even restricted demands dimensionless neutrino yukawa coupling l o1 studied scenarios singlet neutrino propagate subspace lowers string scale mast keeps neutrino yukawa coupling o1 considered decays spin0 mesons nu found rates small measurement</td>\n",
       "      <td>hep-ph</td>\n",
       "    </tr>\n",
       "    <tr>\n",
       "      <th>2</th>\n",
       "      <td>consider following basic learning task given independent draws unknown distribution discrete support output approximation distribution accurate possible ell1 distance ie total variation statistical distance perhaps surprisingly often possible empirical distribution samples return approximation true distribution significantly accurate empirical distribution without relying prior assumptions distribution instance optimal learning algorithm optimally performs denoising every distribution denoising possible formally given n independent draws distribution p algorithm returns labelled vector whose expected distance p equal minimum possible expected error could obtained algorithm knows true unlabeled vector probabilities distribution p simply needs assign labels additive term independent p zero n gets conceptual implication result samples bayesian assumptions shape bounds tail probabilities distribution discrete support helpful task learning distribution consequence techniques given set n samples arbitrary distribution accurately estimate expected distinct elements observed sample size n log n sort extrapolation practically relevant particularly domains genomics important understand might discovered given larger sample sizes optimistic approach practically viable</td>\n",
       "      <td>cs.LG</td>\n",
       "    </tr>\n",
       "    <tr>\n",
       "      <th>3</th>\n",
       "      <td>paper characterise family finite arctransitive every finite arctransitive bicirculant normal rcover arctransitive graph lies eight infinite families seven sporadic arctransitive graphs moreover basic graphs either arctransitive bicirculant arctransitive circulant graph latter case arctransitive bicirculant normal rcover integer r</td>\n",
       "      <td>math.CO</td>\n",
       "    </tr>\n",
       "    <tr>\n",
       "      <th>4</th>\n",
       "      <td>control condensed matter systems equilibrium laser pulses allows us investigate system trajectories symmetrybreaking phase transitions thus evolution collective modes single particle excitations diverse phase transitions femtosecond resolution experimental observations parameter trajectory normalsuperconductor transition chargedensity wave ordering transitions particular interest coherent evolution topological defects forming transition mechanism appears measurable optical pump probe experiments experiments cdw systems reveal phenomena coherent oscillations parameter creation emission dispersive modes upon annihilation topological defects mixing weakly coupled massive bosons</td>\n",
       "      <td>cond-mat.mes-hall</td>\n",
       "    </tr>\n",
       "  </tbody>\n",
       "</table>\n",
       "</div>"
      ],
      "text/plain": [
       "                                                                                                                                                                                                                                                                                                                                                                                                                                                                                                                                                                                                                                                                                                                                                                                                                                                                                                                                                                                                                                                                                                                                                                                                                                                                                                                       Abstract  \\\n",
       "0  energy released solar flare partitioned thermal nonthermal particle energy lost thermal conduction radiation broad range wavelengths difficult determine conductive losses energy radiated transition region temperatures impulsive phases flares uvcs measurements vi photons produced flares subsequently scattered vi ions corona determine log transition region luminosities compare rates increase thermal energy conductive losses deduced rhessi xray areas rhessi images estimate loop volumes crosssectional areas scale lengths transition region luminosities impulsive phase exceed xray luminosities minutes smaller rates increase thermal energy unless filling factor xray emitting gas estimated conductive losses hot gas balanced radiative losses heating evaporated plasma conclude area flare magnetic flux tubes smaller effective area measured rhessi phase flares july flare energy deposited nonthermal particles exceeds xray uv energy losses rate increase thermal energy                                                                                                                                                                                                                                                                                                                       \n",
       "1  light current atmospheric neutrino oscillation invisible decay standard model higgs boson pseudoscalar mesons enhanced kk modes models right handed singlet neutrinos extra dimensions invisible decay rate higgs hto b bar b decay rate restricted region parameter space parameter space even restricted demands dimensionless neutrino yukawa coupling l o1 studied scenarios singlet neutrino propagate subspace lowers string scale mast keeps neutrino yukawa coupling o1 considered decays spin0 mesons nu found rates small measurement                                                                                                                                                                                                                                                                                                                                                                                                                                                                                                                                                                                                                                                                                                                                                                                \n",
       "2  consider following basic learning task given independent draws unknown distribution discrete support output approximation distribution accurate possible ell1 distance ie total variation statistical distance perhaps surprisingly often possible empirical distribution samples return approximation true distribution significantly accurate empirical distribution without relying prior assumptions distribution instance optimal learning algorithm optimally performs denoising every distribution denoising possible formally given n independent draws distribution p algorithm returns labelled vector whose expected distance p equal minimum possible expected error could obtained algorithm knows true unlabeled vector probabilities distribution p simply needs assign labels additive term independent p zero n gets conceptual implication result samples bayesian assumptions shape bounds tail probabilities distribution discrete support helpful task learning distribution consequence techniques given set n samples arbitrary distribution accurately estimate expected distinct elements observed sample size n log n sort extrapolation practically relevant particularly domains genomics important understand might discovered given larger sample sizes optimistic approach practically viable   \n",
       "3  paper characterise family finite arctransitive every finite arctransitive bicirculant normal rcover arctransitive graph lies eight infinite families seven sporadic arctransitive graphs moreover basic graphs either arctransitive bicirculant arctransitive circulant graph latter case arctransitive bicirculant normal rcover integer r                                                                                                                                                                                                                                                                                                                                                                                                                                                                                                                                                                                                                                                                                                                                                                                                                                                                                                                                                                                    \n",
       "4  control condensed matter systems equilibrium laser pulses allows us investigate system trajectories symmetrybreaking phase transitions thus evolution collective modes single particle excitations diverse phase transitions femtosecond resolution experimental observations parameter trajectory normalsuperconductor transition chargedensity wave ordering transitions particular interest coherent evolution topological defects forming transition mechanism appears measurable optical pump probe experiments experiments cdw systems reveal phenomena coherent oscillations parameter creation emission dispersive modes upon annihilation topological defects mixing weakly coupled massive bosons                                                                                                                                                                                                                                                                                                                                                                                                                                                                                                                                                                                                                    \n",
       "\n",
       "            Category  \n",
       "0  astro-ph           \n",
       "1  hep-ph             \n",
       "2  cs.LG              \n",
       "3  math.CO            \n",
       "4  cond-mat.mes-hall  "
      ]
     },
     "execution_count": 366,
     "metadata": {},
     "output_type": "execute_result"
    }
   ],
   "source": [
    "dataset_train.head()"
   ]
  },
  {
   "cell_type": "code",
   "execution_count": 367,
   "metadata": {},
   "outputs": [],
   "source": [
    "good_words=['uv','gas','hot','sky','jet','map','key']"
   ]
  },
  {
   "cell_type": "code",
   "execution_count": 368,
   "metadata": {},
   "outputs": [],
   "source": [
    "dataset_train['Abstract']= dataset_train['Abstract'].apply(lambda x: \" \".join(x for x in x.split() \n",
    "                                                                              if (len(x)>3 or x in good_words)))\n"
   ]
  },
  {
   "cell_type": "code",
   "execution_count": 369,
   "metadata": {},
   "outputs": [
    {
     "data": {
      "text/html": [
       "<div>\n",
       "<style scoped>\n",
       "    .dataframe tbody tr th:only-of-type {\n",
       "        vertical-align: middle;\n",
       "    }\n",
       "\n",
       "    .dataframe tbody tr th {\n",
       "        vertical-align: top;\n",
       "    }\n",
       "\n",
       "    .dataframe thead th {\n",
       "        text-align: right;\n",
       "    }\n",
       "</style>\n",
       "<table border=\"1\" class=\"dataframe\">\n",
       "  <thead>\n",
       "    <tr style=\"text-align: right;\">\n",
       "      <th></th>\n",
       "      <th>Abstract</th>\n",
       "      <th>Category</th>\n",
       "    </tr>\n",
       "  </thead>\n",
       "  <tbody>\n",
       "    <tr>\n",
       "      <th>0</th>\n",
       "      <td>energy released solar flare partitioned thermal nonthermal particle energy lost thermal conduction radiation broad range wavelengths difficult determine conductive losses energy radiated transition region temperatures impulsive phases flares uvcs measurements photons produced flares subsequently scattered ions corona determine transition region luminosities compare rates increase thermal energy conductive losses deduced rhessi xray areas rhessi images estimate loop volumes crosssectional areas scale lengths transition region luminosities impulsive phase exceed xray luminosities minutes smaller rates increase thermal energy unless filling factor xray emitting gas estimated conductive losses hot gas balanced radiative losses heating evaporated plasma conclude area flare magnetic flux tubes smaller effective area measured rhessi phase flares july flare energy deposited nonthermal particles exceeds xray uv energy losses rate increase thermal energy</td>\n",
       "      <td>astro-ph</td>\n",
       "    </tr>\n",
       "    <tr>\n",
       "      <th>1</th>\n",
       "      <td>light current atmospheric neutrino oscillation invisible decay standard model higgs boson pseudoscalar mesons enhanced modes models right handed singlet neutrinos extra dimensions invisible decay rate higgs decay rate restricted region parameter space parameter space even restricted demands dimensionless neutrino yukawa coupling studied scenarios singlet neutrino propagate subspace lowers string scale mast keeps neutrino yukawa coupling considered decays spin0 mesons found rates small measurement</td>\n",
       "      <td>hep-ph</td>\n",
       "    </tr>\n",
       "    <tr>\n",
       "      <th>2</th>\n",
       "      <td>consider following basic learning task given independent draws unknown distribution discrete support output approximation distribution accurate possible ell1 distance total variation statistical distance perhaps surprisingly often possible empirical distribution samples return approximation true distribution significantly accurate empirical distribution without relying prior assumptions distribution instance optimal learning algorithm optimally performs denoising every distribution denoising possible formally given independent draws distribution algorithm returns labelled vector whose expected distance equal minimum possible expected error could obtained algorithm knows true unlabeled vector probabilities distribution simply needs assign labels additive term independent zero gets conceptual implication result samples bayesian assumptions shape bounds tail probabilities distribution discrete support helpful task learning distribution consequence techniques given samples arbitrary distribution accurately estimate expected distinct elements observed sample size sort extrapolation practically relevant particularly domains genomics important understand might discovered given larger sample sizes optimistic approach practically viable</td>\n",
       "      <td>cs.LG</td>\n",
       "    </tr>\n",
       "    <tr>\n",
       "      <th>3</th>\n",
       "      <td>paper characterise family finite arctransitive every finite arctransitive bicirculant normal rcover arctransitive graph lies eight infinite families seven sporadic arctransitive graphs moreover basic graphs either arctransitive bicirculant arctransitive circulant graph latter case arctransitive bicirculant normal rcover integer</td>\n",
       "      <td>math.CO</td>\n",
       "    </tr>\n",
       "    <tr>\n",
       "      <th>4</th>\n",
       "      <td>control condensed matter systems equilibrium laser pulses allows investigate system trajectories symmetrybreaking phase transitions thus evolution collective modes single particle excitations diverse phase transitions femtosecond resolution experimental observations parameter trajectory normalsuperconductor transition chargedensity wave ordering transitions particular interest coherent evolution topological defects forming transition mechanism appears measurable optical pump probe experiments experiments systems reveal phenomena coherent oscillations parameter creation emission dispersive modes upon annihilation topological defects mixing weakly coupled massive bosons</td>\n",
       "      <td>cond-mat.mes-hall</td>\n",
       "    </tr>\n",
       "  </tbody>\n",
       "</table>\n",
       "</div>"
      ],
      "text/plain": [
       "                                                                                                                                                                                                                                                                                                                                                                                                                                                                                                                                                                                                                                                                                                                                                                                                                                                                                                                                                                                                                                                                                                                                                                                                                                                                                          Abstract  \\\n",
       "0  energy released solar flare partitioned thermal nonthermal particle energy lost thermal conduction radiation broad range wavelengths difficult determine conductive losses energy radiated transition region temperatures impulsive phases flares uvcs measurements photons produced flares subsequently scattered ions corona determine transition region luminosities compare rates increase thermal energy conductive losses deduced rhessi xray areas rhessi images estimate loop volumes crosssectional areas scale lengths transition region luminosities impulsive phase exceed xray luminosities minutes smaller rates increase thermal energy unless filling factor xray emitting gas estimated conductive losses hot gas balanced radiative losses heating evaporated plasma conclude area flare magnetic flux tubes smaller effective area measured rhessi phase flares july flare energy deposited nonthermal particles exceeds xray uv energy losses rate increase thermal energy                                                                                                                                                                                                                                                                                                    \n",
       "1  light current atmospheric neutrino oscillation invisible decay standard model higgs boson pseudoscalar mesons enhanced modes models right handed singlet neutrinos extra dimensions invisible decay rate higgs decay rate restricted region parameter space parameter space even restricted demands dimensionless neutrino yukawa coupling studied scenarios singlet neutrino propagate subspace lowers string scale mast keeps neutrino yukawa coupling considered decays spin0 mesons found rates small measurement                                                                                                                                                                                                                                                                                                                                                                                                                                                                                                                                                                                                                                                                                                                                                                             \n",
       "2  consider following basic learning task given independent draws unknown distribution discrete support output approximation distribution accurate possible ell1 distance total variation statistical distance perhaps surprisingly often possible empirical distribution samples return approximation true distribution significantly accurate empirical distribution without relying prior assumptions distribution instance optimal learning algorithm optimally performs denoising every distribution denoising possible formally given independent draws distribution algorithm returns labelled vector whose expected distance equal minimum possible expected error could obtained algorithm knows true unlabeled vector probabilities distribution simply needs assign labels additive term independent zero gets conceptual implication result samples bayesian assumptions shape bounds tail probabilities distribution discrete support helpful task learning distribution consequence techniques given samples arbitrary distribution accurately estimate expected distinct elements observed sample size sort extrapolation practically relevant particularly domains genomics important understand might discovered given larger sample sizes optimistic approach practically viable   \n",
       "3  paper characterise family finite arctransitive every finite arctransitive bicirculant normal rcover arctransitive graph lies eight infinite families seven sporadic arctransitive graphs moreover basic graphs either arctransitive bicirculant arctransitive circulant graph latter case arctransitive bicirculant normal rcover integer                                                                                                                                                                                                                                                                                                                                                                                                                                                                                                                                                                                                                                                                                                                                                                                                                                                                                                                                                         \n",
       "4  control condensed matter systems equilibrium laser pulses allows investigate system trajectories symmetrybreaking phase transitions thus evolution collective modes single particle excitations diverse phase transitions femtosecond resolution experimental observations parameter trajectory normalsuperconductor transition chargedensity wave ordering transitions particular interest coherent evolution topological defects forming transition mechanism appears measurable optical pump probe experiments experiments systems reveal phenomena coherent oscillations parameter creation emission dispersive modes upon annihilation topological defects mixing weakly coupled massive bosons                                                                                                                                                                                                                                                                                                                                                                                                                                                                                                                                                                                              \n",
       "\n",
       "            Category  \n",
       "0  astro-ph           \n",
       "1  hep-ph             \n",
       "2  cs.LG              \n",
       "3  math.CO            \n",
       "4  cond-mat.mes-hall  "
      ]
     },
     "execution_count": 369,
     "metadata": {},
     "output_type": "execute_result"
    }
   ],
   "source": [
    "dataset_train.head()"
   ]
  },
  {
   "cell_type": "markdown",
   "metadata": {},
   "source": [
    "#  4. Model Creation"
   ]
  },
  {
   "cell_type": "code",
   "execution_count": 426,
   "metadata": {},
   "outputs": [],
   "source": [
    "dataset_train.shape\n",
    "dataset=dataset_train"
   ]
  },
  {
   "cell_type": "code",
   "execution_count": 427,
   "metadata": {},
   "outputs": [],
   "source": [
    "from sklearn.feature_extraction.text import CountVectorizer\n",
    "from nltk.tokenize import RegexpTokenizer\n",
    "token = RegexpTokenizer(r'[a-zA-Z0-9]+')\n",
    "cv = CountVectorizer(stop_words='english',ngram_range = (1,1),tokenizer = token.tokenize)\n",
    "text_counts = cv.fit_transform(dataset['Abstract'])"
   ]
  },
  {
   "cell_type": "code",
   "execution_count": 428,
   "metadata": {},
   "outputs": [],
   "source": [
    "from sklearn.model_selection import train_test_split\n",
    "X=dataset_train['Abstract']\n",
    "y=dataset_train['Category']\n"
   ]
  },
  {
   "cell_type": "code",
   "execution_count": null,
   "metadata": {},
   "outputs": [],
   "source": []
  },
  {
   "cell_type": "code",
   "execution_count": null,
   "metadata": {},
   "outputs": [],
   "source": []
  },
  {
   "cell_type": "code",
   "execution_count": 429,
   "metadata": {},
   "outputs": [],
   "source": [
    "from sklearn.feature_extraction.text import TfidfVectorizer\n",
    "from sklearn.naive_bayes import MultinomialNB\n",
    "from sklearn.naive_bayes import BernoulliNB\n",
    "from sklearn.pipeline import make_pipeline"
   ]
  },
  {
   "cell_type": "code",
   "execution_count": 430,
   "metadata": {},
   "outputs": [
    {
     "name": "stdout",
     "output_type": "stream",
     "text": [
      "BNB accuracy = 77.56%\n"
     ]
    }
   ],
   "source": [
    "from sklearn import metrics\n",
    "BNB = BernoulliNB(alpha=0.3,binarize=0.3,fit_prior=True)\n",
    "BNB.fit(X_train, y_train)\n",
    "accuracy_score_bnb = metrics.accuracy_score(BNB.predict(X_test),y_test)\n",
    "print('BNB accuracy = ' + str('{:4.2f}'.format(accuracy_score_bnb*100))+'%')"
   ]
  },
  {
   "cell_type": "code",
   "execution_count": 403,
   "metadata": {},
   "outputs": [],
   "source": [
    "#Model creation using TFID\n"
   ]
  },
  {
   "cell_type": "code",
   "execution_count": 432,
   "metadata": {},
   "outputs": [],
   "source": [
    "X_train,X_test,y_train,y_test=train_test_split(X ,y,test_size=0.3,random_state=40)\n",
    "model=make_pipeline(TfidfVectorizer(),BernoulliNB(alpha=0.5))\n",
    "model.fit(X_train,y_train)\n",
    "labels=model.predict(X_test)"
   ]
  },
  {
   "cell_type": "code",
   "execution_count": 433,
   "metadata": {},
   "outputs": [
    {
     "name": "stdout",
     "output_type": "stream",
     "text": [
      "['astro-ph' 'hep-ph' 'cs.LG' 'math.CO' 'cond-mat.mes-hall' 'hep-th'\n",
      " 'stat.ML' 'physics.optics' 'astro-ph.CO' 'gr-qc' 'astro-ph.SR' 'math.AP'\n",
      " 'cond-mat.mtrl-sci' 'quant-ph' 'astro-ph.GA']\n"
     ]
    }
   ],
   "source": [
    "categories=y.unique()\n",
    "print(categories)"
   ]
  },
  {
   "cell_type": "code",
   "execution_count": 434,
   "metadata": {},
   "outputs": [
    {
     "name": "stdout",
     "output_type": "stream",
     "text": [
      "[[ 65  16  20   9   0   1   0   7   5   0   0   0   1   3   1]\n",
      " [ 27  68  42   0   0   0   0   7   1   0   0   0   0   1   2]\n",
      " [ 20  25 102   7   0   1   0   2   0   0   0   1   0   0   0]\n",
      " [ 17   0  12 102   1   0   0   4   0   0   0   1   0   0   0]\n",
      " [  0   0   0   0 124  16   0   1   0   1   4   0   6   6   0]\n",
      " [  0   0   0   0  27 118   0   4   0   2   2   1   6   2   0]\n",
      " [  0   0   0   0   0   0 121   0   0   1   0   4   0   0  32]\n",
      " [  0   3   0   0   0   0   0  96   0  16   2   0   0   1   1]\n",
      " [  0   0   0   0   0   0   0   1 144   7   0   0   0   1   0]\n",
      " [  0   0   0   0   0   0   0  16   3 132   4   1   0   3   0]\n",
      " [  0   0   0   0   0   0   0   4   0   1 146   0   0   0   0]\n",
      " [  0   0   0   0   0   0   0   0   0   1   1 140   0   0   2]\n",
      " [  1   0   0   0   4   1   0   5   0   0   1   0 142  12   0]\n",
      " [  0   0   0   0   4   0   0  11   1  10   2   6   6 114   1]\n",
      " [  0   0   0   0   0   0  22   0   0   0   0   3   0   1 128]]\n"
     ]
    },
    {
     "data": {
      "image/png": "[encoded data removed]",
      "text/plain": [
       "<Figure size 432x288 with 1 Axes>"
      ]
     },
     "metadata": {
      "needs_background": "light"
     },
     "output_type": "display_data"
    }
   ],
   "source": [
    "from sklearn.metrics import confusion_matrix\n",
    "mat=confusion_matrix(y_test,labels)\n",
    "sns.heatmap(mat.T,square=True,annot=True,fmt='d',cbar=False,\n",
    "           xticklabels=categories,\n",
    "           yticklabels=categories)\n",
    "print(mat)"
   ]
  },
  {
   "cell_type": "code",
   "execution_count": 435,
   "metadata": {},
   "outputs": [
    {
     "name": "stdout",
     "output_type": "stream",
     "text": [
      "0.7742222222222223\n"
     ]
    }
   ],
   "source": [
    "accuracy=np.sum(np.diag(mat))/len(labels)\n",
    "print(accuracy)"
   ]
  },
  {
   "cell_type": "code",
   "execution_count": null,
   "metadata": {},
   "outputs": [],
   "source": []
  },
  {
   "cell_type": "code",
   "execution_count": null,
   "metadata": {},
   "outputs": [],
   "source": []
  }
 ],
 "metadata": {
  "kernelspec": {
   "display_name": "Python 3",
   "language": "python",
   "name": "python3"
  },
  "language_info": {
   "codemirror_mode": {
    "name": "ipython",
    "version": 3
   },
   "file_extension": ".py",
   "mimetype": "text/x-python",
   "name": "python",
   "nbconvert_exporter": "python",
   "pygments_lexer": "ipython3",
   "version": "3.8.3"
  }
 },
 "nbformat": 4,
 "nbformat_minor": 4
}
